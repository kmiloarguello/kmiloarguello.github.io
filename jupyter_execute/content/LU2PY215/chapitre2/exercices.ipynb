{
 "cells": [
  {
   "attachments": {},
   "cell_type": "markdown",
   "metadata": {},
   "source": [
    "# Exercise 5\n",
    "\n",
    "En utilisant une distribution de nombres aléatoires distribués uniformément, on veut produire une distribution de loi sinusoidale:\n",
    "\n",
    "$$ f(x) = \\frac{1}{2} \\sin(x) $$\n",
    "\n",
    "Dans un intervalle compris entre 0 et $\\pi$."
   ]
  },
  {
   "attachments": {},
   "cell_type": "markdown",
   "metadata": {},
   "source": [
    "## Question 1 \n",
    "\n",
    "Vérifier que sur cet intervalle $I$ de $f$ est normalisée à 1."
   ]
  },
  {
   "attachments": {},
   "cell_type": "markdown",
   "metadata": {},
   "source": [
    "$$ I = \\int_{0}^{\\pi} f(x) $$\n",
    "\n",
    "$$ I = \\int_{0}^{\\pi} \\frac{1}{2} sin(x) $$\n",
    "\n",
    "$$ I = \\frac{1}{2} \\int_{0}^{\\pi} sin(x) $$\n",
    "\n",
    "$$ I = \\frac{1}{2} \\left[ -cos(x) \\right]_{0}^{\\pi} $$\n",
    "\n",
    "$$ I = \\frac{1}{2} \\left[ -cos(\\pi) + cos(0) \\right] $$\n",
    "\n",
    "$$ I = \\frac{1}{2} \\left[ 1 + 1 \\right] $$\n",
    "\n",
    "$$ I = \\frac{1}{2} \\left[ 2 \\right] $$\n",
    "\n",
    "$$ I = 1 $$"
   ]
  },
  {
   "attachments": {},
   "cell_type": "markdown",
   "metadata": {},
   "source": [
    "## Question 2\n",
    "Calculer la fonction cumulative $F$ de $f$."
   ]
  },
  {
   "attachments": {},
   "cell_type": "markdown",
   "metadata": {},
   "source": [
    "$$ F(x) = \\int_{0}^{x} f(x') dx' $$\n",
    "\n",
    "$$ F(x) = \\int_{0}^{x} \\frac{1}{2} sin(x') dx'$$\n",
    "\n",
    "$$ F(x) = \\frac{1}{2} \\int_{0}^{x} sin(x') dx'$$\n",
    "\n",
    "$$ F(x) = \\frac{1}{2} \\left[ -cos(x') \\right]_{0}^{x}$$\n",
    "\n",
    "$$ F(x) = \\frac{1}{2} \\left[ -cos(x) + 1 \\right]$$\n",
    "\n",
    "$$ F(x) = \\frac{1}{2} \\left[ 1 - cos(x) \\right]$$"
   ]
  },
  {
   "attachments": {},
   "cell_type": "markdown",
   "metadata": {},
   "source": [
    "## Question 3\n",
    "Démontrer que l'inverse de $F$ est $F^{-1}(x) = cos^{-1}(1-2x)$. Donner l'intervalle de définition de $F^{-1}$."
   ]
  },
  {
   "attachments": {},
   "cell_type": "markdown",
   "metadata": {},
   "source": [
    "<div style=\"width:100%;height:auto;margin: 1.5625em auto;\n",
    "    padding: 0 0.6rem 0.8rem;\n",
    "    overflow: hidden;\n",
    "    page-break-inside: avoid;\n",
    "    border-left: 0.2rem solid;\n",
    "    border-left-color: rgba(87,154,202,1);\n",
    "    border-bottom-color: rgba(87,154,202,1);\n",
    "    border-right-color: rgba(87,154,202,1);\n",
    "    border-top-color: rgba(87,154,202,1);\n",
    "    border-radius: 0.2rem;\n",
    "    box-shadow: 0 0.2rem 0.5rem rgb(0 0 0 / 5%), 0 0 0.0625rem rgb(0 0 0 / 10%);\n",
    "    transition: color .25s,background-color .25s,border-color .25s;\">\n",
    "<p style=\"position: relative;\n",
    "    margin: 0 -0.6rem;\n",
    "    padding: 0.4rem 0.6rem 0.4rem 2rem;\n",
    "    font-weight: 700;\n",
    "    background-color: rgba(87,154,202,.1);\">\n",
    "    Petit rappel: Pour trouver l'inverse d'une fonction par exemple f(x) = 2x + 3, on valide les choses suivantes: \n",
    "</p>\n",
    "</div>\n",
    "\n",
    "1. La fonction $f$ est-elle bijective?\n",
    "Dans notre cas, oui, car $f$ est une fonction continue et monotone croissante. Nous constatons que la fonction est une droite qui passe par tous les points du plan cartésien et qu'elle ne croise jamais une même valeur deux fois.\n",
    "1. On écrit la fonction sous la forme $y=f(x) : y = 2x+3$\n",
    "2. On change les rôles de $x$ et $y : x = 2y + 3$\n",
    "3. On résoudre pour $y : x - 3 = 2y$, donc $y = \\frac{x-3}{2}$\n",
    "4. La fonction inverse est $f^{-1}(x)=\\frac{x-3}{2}$\n",
    "\n",
    "Finalement, on peut vérifier que la fonction inverse donne bien le résultat attendu:\n",
    "\n",
    "$$ f^{-1}(f(x)) = f^{-1}(2x+3) = \\frac{(2x+3)-3}{2} = x $$\n",
    "\n",
    "De même, si on aplique la fonction inverse $f^{-1}$ à la fonction $f$:\n",
    "\n",
    "$$ f(f^{-1}(x)) = f(\\frac{x-3}{2}) = 2\\frac{x-3}{2} + 3 = x $$\n"
   ]
  },
  {
   "attachments": {},
   "cell_type": "markdown",
   "metadata": {},
   "source": [
    "Dans notre exemple.\n",
    "\n",
    "On a:\n",
    "\n",
    "$$ F(x) = \\frac{1}{2} \\left[ -cos(x) + 1 \\right] $$\n",
    "\n",
    "1. On échange $x$ et $y : x = \\frac{1}{2} \\left[ -cos(y) + 1 \\right]$\n",
    "2. On résoudre pour $y$\n",
    "   1. On isole le cosinus:\n",
    "\n",
    "        $$ 2x = -cos(y) + 1 $$\n",
    "\n",
    "        $$ cos(y) = 1 - 2x $$\n",
    "    \n",
    "    2. On aplique la fonction inverse du cosinus (arcosinus) pour trouver $y$:\n",
    "\n",
    "        $$ cos(y) = 1 - 2x $$\n",
    "        \n",
    "        $$ y = cos^{-1}(1 - 2x) $$\n",
    "\n",
    "3. La fonction inverse devient $F^{-1}(x) = cos^{-1}(1-2x)$\n",
    "\n",
    "Pour $F(x)$ l'intervalle de définition est limité par le cosinus qui est défini entre $-1$ et $1$. Ainsi que pour la fonction inverse $F^{-1}(x)$."
   ]
  },
  {
   "attachments": {},
   "cell_type": "markdown",
   "metadata": {},
   "source": [
    "## Question 4\n",
    "\n",
    "Avec Python, tester la fonction $F$ poue générer des évènements selon la distribution de $f$ avec des nombres aléatoires distribués uniformément."
   ]
  },
  {
   "cell_type": "code",
   "execution_count": 1,
   "metadata": {},
   "outputs": [],
   "source": [
    "import numpy as np\n",
    "import matplotlib.pyplot as plt"
   ]
  },
  {
   "cell_type": "code",
   "execution_count": 2,
   "metadata": {},
   "outputs": [],
   "source": [
    "def f(x):\n",
    "    return (1 / 2) * np.sin(x)\n",
    "\n",
    "def F(x):\n",
    "    return (1 / 2) * (1 - np.cos(x))\n",
    "\n",
    "def F_inv(x):\n",
    "    return np.arccos(1 - 2 * x)"
   ]
  },
  {
   "cell_type": "code",
   "execution_count": 3,
   "metadata": {},
   "outputs": [
    {
     "data": {
      "image/png": "[encoded data removed]",
      "text/plain": [
       "<Figure size 432x288 with 1 Axes>"
      ]
     },
     "metadata": {
      "filenames": {
       "image/png": "/Users/kmilo/Documents/kmiloarguello.github.io/phyca/_build/jupyter_execute/content/LU2PY215/chapitre2/exercices_11_0.png"
      },
      "needs_background": "light"
     },
     "output_type": "display_data"
    }
   ],
   "source": [
    "N = 1000 # Nombre des évènements\n",
    "n_unif = [ np.random.rand() for i in range(N) ] # N nombres aléatoires uniformes\n",
    "x = [F_inv(i) for i in n_unif] # values of x\n",
    "y = [f(i) for i in x] # values of f(x) = sin(x) / 2\n",
    "\n",
    "n, bins, patches = plt.hist(x, density=True, alpha=0.75)\n",
    "plt.plot(x, y, 'r.', markersize=1, label='f(x)')\n",
    "plt.xlabel('x')\n",
    "plt.ylabel('f(x)')\n",
    "plt.title('Loi de probabilité f(x) = sin(x) / 2')\n",
    "# update the x-axis to show in terms of PI (i.e. 0 to PI)\n",
    "plt.xticks(np.arange(0, 4, step=1), [r'$0$', r'$\\frac{\\pi}{4}$', r'$\\frac{\\pi}{4}$',r'$\\pi$'])\n",
    "plt.legend()\n",
    "plt.show()"
   ]
  },
  {
   "attachments": {},
   "cell_type": "markdown",
   "metadata": {},
   "source": [
    "# Exercise 6"
   ]
  },
  {
   "attachments": {},
   "cell_type": "markdown",
   "metadata": {},
   "source": [
    "Certaines espèces de tortues pondent de nombreux oeufs (`110` pour certaines). La distribution du nombre d'oeufs pondus suit une loi de Poisson de paramètre $\\lambda = 110$."
   ]
  },
  {
   "attachments": {},
   "cell_type": "markdown",
   "metadata": {},
   "source": [
    "## Question 1\n",
    "Rappeler la loi de Poisson; que vaut la moyenne du nombre d'oeufs?"
   ]
  },
  {
   "attachments": {},
   "cell_type": "markdown",
   "metadata": {},
   "source": [
    "**Solution**\n",
    "\n",
    "La loi de Poisson est une loi de probabilité que permet de compter le nombre d'évènements qui se produisent dans un intervalle de temps donné. Elle est définie par la formule suivante:\n",
    "\n",
    "$$ P(k;\\lambda) = \\frac{\\lambda^k e^{-\\lambda}}{k!} $$\n",
    "\n",
    "La moyenne du nombre d'oeufs est égale à $\\lambda$."
   ]
  },
  {
   "attachments": {},
   "cell_type": "markdown",
   "metadata": {},
   "source": [
    "## Question 2\n",
    "\n",
    "Tous les oeufs n'arriveront pas à la maturité; on peut considérer que la probabilité qu'un oeuf arrive à la maturié est indépendante du nombre d'oeufs pondus et vaut $p$. Si le nombre d'oeufs est $n$, quelle est la loi de probabilité associée a l'éclosion de $k$ oeufs parmi les $n$ oeufs?"
   ]
  },
  {
   "attachments": {},
   "cell_type": "markdown",
   "metadata": {},
   "source": [
    "**Solution**\n",
    "\n",
    "La loi de probabilité associée à l'éclosion de $k$ oeufs parmi les $n$ oeufs est la loi binomiale. Elle est définie par la formule suivante:\n",
    "\n",
    "$$ P(k;n,p) = \\binom{n}{k} p^k (1-p)^{n-k} $$"
   ]
  },
  {
   "attachments": {},
   "cell_type": "markdown",
   "metadata": {},
   "source": [
    "## Question 3\n",
    "Démontrer que la loi de probabilité du nombre d'oeufs pondus et arrivant à l'éclosion est une loi de Poisson de paramètre $\\lambda \\times p$."
   ]
  },
  {
   "attachments": {},
   "cell_type": "markdown",
   "metadata": {},
   "source": [
    "La probabilité d'obtenir $k$ oeufs éclos pour une ponte est donc la probabilité de pondre $r$ oeufs et que $k$ d'entre eux arrivent à l'éclosion. On peut donc écrire:\n",
    "\n",
    "$$ P(k;n,p) = \\sum_{r=0}^{n} P(r;\\lambda) P(k-r;n-r,p) $$\n",
    "\n"
   ]
  },
  {
   "attachments": {},
   "cell_type": "markdown",
   "metadata": {},
   "source": [
    "# Exercise 7"
   ]
  },
  {
   "attachments": {},
   "cell_type": "markdown",
   "metadata": {},
   "source": [
    "La police utilise généralement des sortes de pistolets radar pour mesurer la vitesse des voitures et détecter celles avec un excès de vitesse. Ce pistolet envoie des ondes radio de fréquence $f_0$ se déplacant avec une vitesse proche de celle de la lumière $c$ sur une voiture et mesure la fréquence $f$ de l'onde réfléchie. Celle-ci sera différente à cause de l'effet Doppler selon l'équation:\n",
    "\n",
    "$$ f = f_0 \\left( 1 + \\frac{v}{c} \\right) $$\n",
    "\n",
    "où $v$ est la vitesse de la voiture."
   ]
  },
  {
   "attachments": {},
   "cell_type": "markdown",
   "metadata": {},
   "source": [
    "## Question 1\n",
    "\n",
    "Quelle doit être l'incertitude relative de ces pistolets sur la mesure de fréquence pour mesurer la vitesse d'une voiture avec une précision de $1\\text{ km/h}$?"
   ]
  },
  {
   "attachments": {},
   "cell_type": "markdown",
   "metadata": {},
   "source": [
    "**Solution**\n",
    "\n",
    "Pour déterminer l'incertitude relative de la mesure de fréquence, nous devons d'abord déterminer la variation de fréquence résultant d'un changement de vitesse de $\\Delta v = 1\\text{ km/h}$.\n",
    "\n",
    "Ici, la quantité d'intérêt est la vitesse de la voiture $v$, la mesure est la fréquence $f$ mesurée par le pistolet, et le paramètre est la fréquence de référence $f_0$ émise par le pistolet. Le paramètre $y$ est donc $f_0$, qui est connu avec une certaine incertitude $\\Delta y$. La mesure $x$ est la vitesse de la voiture $v$, pour laquelle on souhaite connaître l'incertitude. La quantité d'intérêt $z$ est donc $v$, et l'incertitude sur $z$ est donnée par:\n",
    "\n",
    "$$ \\Delta v = \\Delta f(x, \\Delta x, y, \\Delta y) $$\n",
    "\n",
    "En utilisant l'équation de l'effet Doppler, nous avons:\n",
    "\n",
    "$$f = f_0 \\left( 1 + \\frac{v}{c} \\right)$$\n",
    "\n",
    "En dérivant par rapport à $v$, nous avons:\n",
    "\n",
    "$$\\frac{df}{dv} = \\frac{f_0}{c}$$\n",
    "\n",
    "Ainsi, la variation de fréquence due à un changement de vitesse $\\Delta v$ est:\n",
    "\n",
    "$$\\Delta f = \\frac{f_0}{c} \\Delta v$$\n",
    "\n",
    "\n",
    "On peut calculer l'incertitude sur la fréquence à partir de celle sur de la voiture. \n",
    "\n",
    "$$\\frac{\\Delta f}{f} = \\frac{\\frac{f_0}{c} \\Delta v}{f_0 \\left( 1 + \\frac{v}{c} \\right)} = \\frac{\\Delta v}{c \\left( 1 + \\frac{v}{c} \\right)}$$\n",
    "\n",
    "Nous pouvons utiliser cette expression pour trouver la valeur de l'incertitude relative qui nous donnera une précision de $1\\text{ km/h}$ sur la mesure de la vitesse. Si nous appelons cette incertitude relative $\\delta$, nous avons:\n",
    "\n",
    "$$\\delta = \\frac{\\Delta v}{c \\left( 1 + \\frac{v}{c} \\right)} = \\frac{1\\text{ km/h}}{3\\times10^8 \\text{ m/s} \\left( 1 + \\frac{v}{3\\times10^8 \\text{ m/s}} \\right)}$$\n",
    "\n",
    "Pour trouver la valeur numérique de cette expression lorsque $v$ est la vitesse maximale que la police veut mesurer, nous pouvons la substituer dans l'expression donnant l'incertitude relative $\\delta$:\n",
    "\n",
    "$$\\delta = \\frac{1\\text{ km/h}}{3\\times10^8 \\text{ m/s} \\left( 1 + \\frac{v_{max}}{3\\times10^8 \\text{ m/s}} \\right)}$$\n",
    "\n",
    "Si nous supposons que la vitesse maximale que la police veut mesurer est $150\\text{ km/h}$, nous avons:\n",
    "\n",
    "$$\\delta = \\frac{1\\text{ km/h}}{3\\times10^8 \\text{ m/s} \\left( 1 + \\frac{150\\text{ km/h}}{3\\times10^8 \\text{ m/s}} \\right)} \\approx 3.3\\times10^{-9}$$\n",
    "\n",
    "Ainsi, l'incertitude relative de la mesure de fréquence doit être d'environ $3.3\\times10^{-9}$ pour mesurer la vitesse d'une voiture avec une précision de $1\\text{ km/h}$.\n",
    "\n"
   ]
  }
 ],
 "metadata": {
  "kernelspec": {
   "display_name": "base",
   "language": "python",
   "name": "python3"
  },
  "language_info": {
   "codemirror_mode": {
    "name": "ipython",
    "version": 3
   },
   "file_extension": ".py",
   "mimetype": "text/x-python",
   "name": "python",
   "nbconvert_exporter": "python",
   "pygments_lexer": "ipython3",
   "version": "3.9.5"
  }
 },
 "nbformat": 4,
 "nbformat_minor": 2
}