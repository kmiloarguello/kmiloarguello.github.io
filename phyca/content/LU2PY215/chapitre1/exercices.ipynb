{
 "cells": [
  {
   "attachments": {},
   "cell_type": "markdown",
   "metadata": {},
   "source": [
    "# Exercice 1"
   ]
  },
  {
   "attachments": {},
   "cell_type": "markdown",
   "metadata": {},
   "source": [
    "On considère 4 évènements $\\mathcal{A}$, $\\mathcal{B}$, $\\mathcal{C}$, and $\\mathcal{D}$. Associées aux ensembles $A,B,C,D$ dans l'univers $\\Omega$.\n",
    "\n",
    "1- Que vaut $P(\\bar{C})$ ?"
   ]
  },
  {
   "attachments": {},
   "cell_type": "markdown",
   "metadata": {},
   "source": [
    "Si on considère le cas:\n",
    "\n",
    "$$ P(\\bar{C}) = \\Omega - P(C) $$\n",
    "\n",
    "Si $P(C)=0.3$, alors $P(\\bar{C})=1-0.3=0.7$"
   ]
  },
  {
   "attachments": {},
   "cell_type": "markdown",
   "metadata": {},
   "source": [
    "2- Que valent $P(B|C)$ et $P(C|B)$"
   ]
  },
  {
   "attachments": {},
   "cell_type": "markdown",
   "metadata": {},
   "source": [
    "On calcule en premier $P(B)$. On sait que $C + \\bar{C} = \\Omega$, alors $B \\cap (C \\cup \\bar{C})$.\n",
    "\n",
    "De même $P(B) = P(B \\cap C) + P(B \\cup \\bar{C}) = 0.2 + 0.3 = 0.5$ \n",
    "\n",
    "\n",
    "Finalement, on peut calculer:\n",
    "$P(B|C)= \\frac{P(B \\cap C)}{P(C)} = \\frac{0.2}{0.3} = \\frac{2}{3} $ \n",
    "\n",
    "et $P(C|B)= \\frac{P(C \\cap B)}{P(B)} = \\frac{0.2}{0.5} = 0.4 $"
   ]
  },
  {
   "attachments": {},
   "cell_type": "markdown",
   "metadata": {},
   "source": [
    "3- Les évènements $C$ et $D$ sont-ils incompatibles? Justifier."
   ]
  },
  {
   "attachments": {},
   "cell_type": "markdown",
   "metadata": {},
   "source": [
    "On sait que $P(C)=0.3$ et $P(D)=0.5$, ainsi que $P(D \\cap \\bar{C})=0.5$. Aussi, on sait que deux évènements sont incompatibles si $P(C \\cap D) = 0$.\n",
    "\n",
    "Alors, si $C = 1 - \\bar{C}$, et $D = D \\cap (C \\cup \\bar{C}) = (D \\cap C) \\cup (D \\cap \\bar{C}),$\n",
    "\n",
    "$$\n",
    "P(D) = P(D \\cap C) + P(D \\cap \\bar{C})\n",
    "$$\n",
    "$$\n",
    "P(D \\cap C) = P(D) - P(D \\cap \\bar{C})\n",
    "$$\n",
    "$$\n",
    "P(D \\cap C) = 0.5 - 0.5 = 0\n",
    "$$\n",
    "\n",
    "Donc $C$ et $D$ sont incompatibles."
   ]
  },
  {
   "attachments": {},
   "cell_type": "markdown",
   "metadata": {},
   "source": [
    "# Exercice 2"
   ]
  },
  {
   "attachments": {},
   "cell_type": "markdown",
   "metadata": {},
   "source": [
    "1 - Un tireur de fléchettes touche sa cible 1 fois sur 2. Combien de fois doit-il tirer pour avoir une probabilité minimale de 99~% de toucher la cible au moins une fois?"
   ]
  },
  {
   "attachments": {},
   "cell_type": "markdown",
   "metadata": {},
   "source": [
    "On sait que $P(X \\geq 1) = 1 - P(X=0)$. On cherche donc $P(X=0) c'est-à-dire la probabilité de toucher une fois la cible. On sait que $P(X=0)=(1-p)^n$, où $n$ est le nombre de fois qu'il tire, et $p=\\frac{1}{2}$ (1 fois sur deux).\n",
    "\n",
    "On veut que cette probabilité soit plus grande que 0.99, alors:\n",
    "$$ (1-p)^n > 0.99 $$\n",
    "$$ 1-p^n > 0.99 $$\n",
    "$$ p^n < 0.01 $$\n",
    "$$ n \\log{p} < \\log{0.01} $$\n",
    "$$ n < \\frac{\\log{0.01}}{\\log{p}} = \\frac{-2}{\\log{0.5}} $$\n",
    "$$ n > 6.643856189774724 $$\n"
   ]
  },
  {
   "cell_type": "code",
   "execution_count": 1,
   "metadata": {},
   "outputs": [],
   "source": [
    "# 2\n",
    "import random"
   ]
  },
  {
   "cell_type": "code",
   "execution_count": 30,
   "metadata": {},
   "outputs": [],
   "source": [
    "def touche_cible(n):\n",
    "    \"\"\"\n",
    "    Cette fonction simule pour n lancers des fléchettes si le joueur touche la cible ou pas. \n",
    "    Si le joueur touche la cible, la fonction retourne True, sinon elle retourne False.\n",
    "    \"\"\"\n",
    "    # On crée une liste de n fléchettes\n",
    "    flechettes = [random.random() for i in range(n)]\n",
    "    p = 1 / 2\n",
    "    # Retourne True si au moins une fléchette touche la cible, False sinon\n",
    "    # si elle touche la cible flechette > p\n",
    "    for flechette in flechettes:\n",
    "        if flechette > p:\n",
    "            return True\n",
    "    return False"
   ]
  },
  {
   "cell_type": "code",
   "execution_count": 35,
   "metadata": {},
   "outputs": [
    {
     "name": "stdout",
     "output_type": "stream",
     "text": [
      "Proba: 0.999\n",
      "Proba theorique: 0.992\n"
     ]
    }
   ],
   "source": [
    "nombre_succes = 0\n",
    "nombre_essais = 10000\n",
    "for i in range(nombre_essais):\n",
    "    if touche_cible(10):\n",
    "        nombre_succes += 1\n",
    "\n",
    "print(\"Proba: {:.3f}\".format(nombre_succes/nombre_essais))\n",
    "print(\"Proba theorique: {:.3f}\".format(1-(0.5)**7))"
   ]
  },
  {
   "cell_type": "code",
   "execution_count": null,
   "metadata": {},
   "outputs": [],
   "source": []
  }
 ],
 "metadata": {
  "kernelspec": {
   "display_name": "base",
   "language": "python",
   "name": "python3"
  },
  "language_info": {
   "codemirror_mode": {
    "name": "ipython",
    "version": 3
   },
   "file_extension": ".py",
   "mimetype": "text/x-python",
   "name": "python",
   "nbconvert_exporter": "python",
   "pygments_lexer": "ipython3",
   "version": "3.9.5"
  },
  "orig_nbformat": 4,
  "vscode": {
   "interpreter": {
    "hash": "e3e3b631d0578064596570627667cf6d3255b0ded78241c485c6d8d72cb2b64f"
   }
  }
 },
 "nbformat": 4,
 "nbformat_minor": 2
}
