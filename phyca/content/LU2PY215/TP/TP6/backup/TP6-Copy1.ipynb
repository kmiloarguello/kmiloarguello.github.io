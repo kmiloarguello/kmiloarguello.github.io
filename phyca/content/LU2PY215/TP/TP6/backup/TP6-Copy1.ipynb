{
 "cells": [
  {
   "cell_type": "markdown",
   "id": "a85d602c",
   "metadata": {},
   "source": [
    "# TP 6: \n"
   ]
  },
  {
   "cell_type": "code",
   "execution_count": 25,
   "id": "3faec58e",
   "metadata": {},
   "outputs": [
    {
     "data": {
      "image/png": "[encoded data removed]",
      "text/plain": [
       "<Figure size 432x288 with 1 Axes>"
      ]
     },
     "metadata": {
      "needs_background": "light"
     },
     "output_type": "display_data"
    }
   ],
   "source": [
    "import pandas as pd\n",
    "import matplotlib.pyplot as plt\n",
    "\n",
    "# Lecture des données à partir des fichiers CSV\n",
    "pic1_data = pd.read_csv('pic1.csv')\n",
    "pic2_data = pd.read_csv('pic2.csv')\n",
    "pic3_data = pd.read_csv('pic3.csv')\n",
    "pic_inconnu_data = pd.read_csv('pic_inconnu.csv')\n",
    "\n",
    "# Extraction des valeurs de vitesse\n",
    "pic1_speed = pic1_data['mesures']\n",
    "pic2_speed = pic2_data['mesures']\n",
    "pic3_speed = pic3_data['mesures']\n",
    "pic_inconnu_speed = pic_inconnu_data['mesures']\n",
    "\n",
    "# Tracé des histogrammes\n",
    "plt.hist(pic1_speed, bins=30, alpha=0.5, label='Vitesse 13.9 m/s')\n",
    "plt.hist(pic2_speed, bins=30, alpha=0.5, label='Vitesse 19.4 m/s')\n",
    "plt.hist(pic3_speed, bins=30, alpha=0.5, label='Vitesse 36.1 m/s')\n",
    "plt.hist(pic_inconnu_speed, bins=30, alpha=0.5, label='Vitesse 36.1 m/s')\n",
    "\n",
    "plt.xlabel('Vitesse')\n",
    "plt.ylabel('Fréquence')\n",
    "plt.title('Distribution des vitesses mesurées')\n",
    "plt.legend()\n",
    "\n",
    "plt.show()\n"
   ]
  },
  {
   "cell_type": "markdown",
   "id": "0fa59f2c",
   "metadata": {},
   "source": [
    "## Analyse\n",
    "Les distributions sont sous la forme de gaussiennes. Les paramètres sont donc la moyenne (qui donne la position centrale de la distribution) et l'écart type (qui mesure la dispersion des données autour de la moyenne)."
   ]
  },
  {
   "cell_type": "markdown",
   "id": "7c43e2a5",
   "metadata": {},
   "source": [
    "## 1.2 Estimation de la moyenne\n",
    "### Mesure de la moyenne statistique\n",
    "Ce code utilise la fonction np.mean() pour calculer la moyenne et la fonction np.std() pour calculer l'écart-type des valeurs de chaque pic."
   ]
  },
  {
   "cell_type": "code",
   "execution_count": 26,
   "id": "27183d97",
   "metadata": {},
   "outputs": [
    {
     "name": "stdout",
     "output_type": "stream",
     "text": [
      "Pic 1 - Moyenne : 87.40, Écart-type : 6.88\n",
      "Pic 2 - Moyenne : 122.42, Écart-type : 8.32\n",
      "Pic 3 - Moyenne : 227.46, Écart-type : 15.95\n",
      "Pic inconnu - Moyenne : 157.02, Écart-type : 11.86\n"
     ]
    }
   ],
   "source": [
    "import numpy as np\n",
    "\n",
    "# Calcul de la moyenne et de l'écart-type pour chaque pic\n",
    "pic1_mean = np.mean(pic1_speed)\n",
    "pic1_std = np.std(pic1_speed)\n",
    "pic2_mean = np.mean(pic2_speed)\n",
    "pic2_std = np.std(pic2_speed)\n",
    "pic3_mean = np.mean(pic3_speed)\n",
    "pic3_std = np.std(pic3_speed)\n",
    "pic_inconnu_mean = np.mean(pic_inconnu_speed)\n",
    "pic_inconnu_std = np.std(pic_inconnu_speed)\n",
    "\n",
    "\n",
    "# Affichage des moyennes et des écart-types\n",
    "print(\"Pic 1 - Moyenne : {:.2f}, Écart-type : {:.2f}\".format(pic1_mean, pic1_std))\n",
    "print(\"Pic 2 - Moyenne : {:.2f}, Écart-type : {:.2f}\".format(pic2_mean, pic2_std))\n",
    "print(\"Pic 3 - Moyenne : {:.2f}, Écart-type : {:.2f}\".format(pic3_mean, pic3_std))\n",
    "print(\"Pic inconnu - Moyenne : {:.2f}, Écart-type : {:.2f}\".format(pic_inconnu_mean, pic_inconnu_std))"
   ]
  },
  {
   "cell_type": "markdown",
   "id": "6ee44da4",
   "metadata": {},
   "source": [
    "Maintenant nouus allons calculer l'erreur sur les moyennes en utilisant la formule de l'erreur standard de la moyenne, qui est donnée par l'écart-type divisé par la racine carrée du nombre d'échantillons. Voici le code qui fait ça:"
   ]
  },
  {
   "cell_type": "code",
   "execution_count": 27,
   "id": "26cc0768",
   "metadata": {},
   "outputs": [
    {
     "name": "stdout",
     "output_type": "stream",
     "text": [
      "Pic 1 - Erreur sur la moyenne : 0.22\n",
      "Pic 2 - Erreur sur la moyenne : 0.37\n",
      "Pic 3 - Erreur sur la moyenne : 0.36\n",
      "Pic inconnu - Erreur sur la moyenne : 0.42\n"
     ]
    }
   ],
   "source": [
    "# Calcul de l'erreur sur les moyennes\n",
    "pic1_error = pic1_std / np.sqrt(len(pic1_speed))\n",
    "pic2_error = pic2_std / np.sqrt(len(pic2_speed))\n",
    "pic3_error = pic3_std / np.sqrt(len(pic3_speed))\n",
    "pic_inconnu_error = pic_inconnu_std / np.sqrt(len(pic_inconnu_speed))\n",
    "\n",
    "# Affichage des erreurs sur les moyennes\n",
    "print(\"Pic 1 - Erreur sur la moyenne : {:.2f}\".format(pic1_error))\n",
    "print(\"Pic 2 - Erreur sur la moyenne : {:.2f}\".format(pic2_error))\n",
    "print(\"Pic 3 - Erreur sur la moyenne : {:.2f}\".format(pic3_error))\n",
    "print(\"Pic inconnu - Erreur sur la moyenne : {:.2f}\".format(pic_inconnu_error))"
   ]
  },
  {
   "cell_type": "markdown",
   "id": "7e80c6e7",
   "metadata": {},
   "source": [
    "Enfin, pour déterminer le pic ayant la moyenne avec l'erreur relative la plus faible, vous pouvez calculer l'erreur relative en divisant l'erreur sur la moyenne par la moyenne elle-même et en prenant la valeur absolue. Le pic avec la plus faible erreur relative sera celui dont la moyenne est la plus précise par rapport à la valeur attendue. Voici comment vous pouvez calculer l'erreur relative pour chaque pic :"
   ]
  },
  {
   "cell_type": "code",
   "execution_count": 28,
   "id": "c83f1e87",
   "metadata": {},
   "outputs": [
    {
     "name": "stdout",
     "output_type": "stream",
     "text": [
      "Pic 1 - Erreur relative sur la moyenne : 0.25%\n",
      "Pic 2 - Erreur relative sur la moyenne : 0.30%\n",
      "Pic 3 - Erreur relative sur la moyenne : 0.16%\n",
      "Pic inconnu - Erreur relative sur la moyenne : 0.27%\n"
     ]
    }
   ],
   "source": [
    "# Calcul de l'erreur relative sur les moyennes\n",
    "pic1_relative_error = np.abs(pic1_error / pic1_mean)\n",
    "pic2_relative_error = np.abs(pic2_error / pic2_mean)\n",
    "pic3_relative_error = np.abs(pic3_error / pic3_mean)\n",
    "pic_inconnu_relative_error = np.abs(pic_inconnu_error / pic_inconnu_mean)\n",
    "\n",
    "# Affichage des erreurs relatives sur les moyennes\n",
    "print(\"Pic 1 - Erreur relative sur la moyenne : {:.2%}\".format(pic1_relative_error))\n",
    "print(\"Pic 2 - Erreur relative sur la moyenne : {:.2%}\".format(pic2_relative_error))\n",
    "print(\"Pic 3 - Erreur relative sur la moyenne : {:.2%}\".format(pic3_relative_error))\n",
    "print(\"Pic inconnu - Erreur relative sur la moyenne : {:.2%}\".format(pic_inconnu_relative_error))"
   ]
  },
  {
   "cell_type": "markdown",
   "id": "e9f4914e",
   "metadata": {},
   "source": [
    "Le pic qui a la plus faible erreur relative est celui dont la moyenne est la plus précise par rapport à la valeur attendue. Dans notre cas, c'est donc le pic 3."
   ]
  },
  {
   "cell_type": "markdown",
   "id": "50f5ec8f",
   "metadata": {},
   "source": [
    "Ajustement des données avec QExPy QExPy possède des méthodes pour ajuster des modèles gaus\u0002siens sur des données, comme présenté dans la documentation.\n",
    "Créer une fonction qui permet d’ajuster un histogramme avec le modèle approprié de QExPy et d’extraire\n",
    "les valeurs et les erreurs des paramètres de ce modèle. Appliquer cette fonction sur les trois pics de données\n",
    "et le pic inconnu et sauver les résultats dans des listes. Que valent les corrélations entre les paramètres ?\n",
    "Commentez sur leur impacts."
   ]
  },
  {
   "cell_type": "markdown",
   "id": "5380d800",
   "metadata": {},
   "source": [
    "### Ajustement des données avec QExPy"
   ]
  },
  {
   "cell_type": "code",
   "execution_count": 29,
   "id": "5fa68282",
   "metadata": {},
   "outputs": [
    {
     "ename": "AttributeError",
     "evalue": "'BarContainer' object has no attribute 'fit'",
     "output_type": "error",
     "traceback": [
      "\u001b[0;31m---------------------------------------------------------------------------\u001b[0m",
      "\u001b[0;31mAttributeError\u001b[0m                            Traceback (most recent call last)",
      "\u001b[0;32m/tmp/ipykernel_3724151/3695125717.py\u001b[0m in \u001b[0;36m<module>\u001b[0;34m\u001b[0m\n\u001b[1;32m      5\u001b[0m \u001b[0;34m\u001b[0m\u001b[0m\n\u001b[1;32m      6\u001b[0m \u001b[0;31m# Fit the Gaussian model to the histogram\u001b[0m\u001b[0;34m\u001b[0m\u001b[0;34m\u001b[0m\u001b[0;34m\u001b[0m\u001b[0m\n\u001b[0;32m----> 7\u001b[0;31m \u001b[0mresult\u001b[0m \u001b[0;34m=\u001b[0m \u001b[0mfigure\u001b[0m\u001b[0;34m.\u001b[0m\u001b[0mfit\u001b[0m\u001b[0;34m(\u001b[0m\u001b[0mmodel\u001b[0m\u001b[0;34m=\u001b[0m\u001b[0mq\u001b[0m\u001b[0;34m.\u001b[0m\u001b[0mFitModel\u001b[0m\u001b[0;34m.\u001b[0m\u001b[0mGAUSSIAN\u001b[0m\u001b[0;34m)\u001b[0m\u001b[0;34m\u001b[0m\u001b[0;34m\u001b[0m\u001b[0m\n\u001b[0m\u001b[1;32m      8\u001b[0m \u001b[0;34m\u001b[0m\u001b[0m\n\u001b[1;32m      9\u001b[0m \u001b[0;31m# Show the fitted plot\u001b[0m\u001b[0;34m\u001b[0m\u001b[0;34m\u001b[0m\u001b[0;34m\u001b[0m\u001b[0m\n",
      "\u001b[0;31mAttributeError\u001b[0m: 'BarContainer' object has no attribute 'fit'"
     ]
    },
    {
     "data": {
      "image/png": "[encoded data removed]",
      "text/plain": [
       "<Figure size 432x288 with 1 Axes>"
      ]
     },
     "metadata": {
      "needs_background": "light"
     },
     "output_type": "display_data"
    }
   ],
   "source": [
    "import qexpy as q\n",
    "\n",
    "pic1 = np.asarray(pic1_speed)\n",
    "n, bins, figure=plt.hist(pic1_speed, bins=30)\n",
    "\n",
    "# Fit the Gaussian model to the histogram\n",
    "result = figure.fit(model=q.FitModel.GAUSSIAN)\n",
    "\n",
    "# Show the fitted plot\n",
    "figure.show()\n",
    "\n",
    "# Extract the parameter values and errors\n",
    "amplitude = result['amplitude']\n",
    "mean = result['mean']\n",
    "stddev = result['stddev']\n",
    "error_amplitude = result['error_amplitude']\n",
    "error_mean = result['error_mean']\n",
    "error_stddev = result['error_stddev']\n",
    "\n",
    "print(\"Amplitude:\", amplitude, \"+/-\", error_amplitude)\n",
    "print(\"Mean:\", mean, \"+/-\", error_mean)\n",
    "print(\"Standard Deviation:\", stddev, \"+/-\", error_stddev)\n"
   ]
  },
  {
   "cell_type": "markdown",
   "id": "7509e4a8",
   "metadata": {},
   "source": [
    "### Ajustement avec une minimisation numérique"
   ]
  },
  {
   "cell_type": "code",
   "execution_count": 31,
   "id": "e42699bb",
   "metadata": {},
   "outputs": [
    {
     "data": {
      "image/png": "[encoded data removed]",
      "text/plain": [
       "<Figure size 432x288 with 1 Axes>"
      ]
     },
     "metadata": {
      "needs_background": "light"
     },
     "output_type": "display_data"
    },
    {
     "name": "stdout",
     "output_type": "stream",
     "text": [
      "Paramètres estimés : [0. 1.]\n"
     ]
    }
   ],
   "source": [
    "import pandas as pd\n",
    "import matplotlib.pyplot as plt\n",
    "import numpy as np\n",
    "from scipy.optimize import minimize\n",
    "\n",
    "# Fonction de calcul de la vraisemblance\n",
    "def likelihood(params, data):\n",
    "    mu, sigma = params\n",
    "    log_likelihood = -np.sum(np.log(np.exp(-(data - mu) ** 2 / (2 * sigma ** 2)) / (np.sqrt(2 * np.pi) * sigma) + 1e-10))\n",
    "    return log_likelihood\n",
    "\n",
    "# Lecture des données à partir des fichiers CSV\n",
    "pic1_data = pd.read_csv('pic1.csv')\n",
    "pic2_data = pd.read_csv('pic2.csv')\n",
    "pic3_data = pd.read_csv('pic3.csv')\n",
    "pic_inconnu_data = pd.read_csv('pic_inconnu.csv')\n",
    "\n",
    "# Extraction des valeurs de vitesse\n",
    "pic1_speed = pic1_data['mesures']\n",
    "pic2_speed = pic2_data['mesures']\n",
    "pic3_speed = pic3_data['mesures']\n",
    "pic_inconnu_speed = pic_inconnu_data['mesures']\n",
    "\n",
    "# Tracé des histogrammes\n",
    "plt.hist(pic1_speed, bins=30, alpha=0.5, label='Vitesse 13.9 m/s')\n",
    "plt.hist(pic2_speed, bins=30, alpha=0.5, label='Vitesse 19.4 m/s')\n",
    "plt.hist(pic3_speed, bins=30, alpha=0.5, label='Vitesse 36.1 m/s')\n",
    "plt.hist(pic_inconnu_speed, bins=30, alpha=0.5, label='Vitesse inconnue')\n",
    "\n",
    "plt.xlabel('Vitesse')\n",
    "plt.ylabel('Fréquence')\n",
    "plt.title('Distribution des vitesses mesurées')\n",
    "plt.legend()\n",
    "\n",
    "plt.show()\n",
    "\n",
    "# Données pour l'ajustement\n",
    "data = np.concatenate((pic1_speed, pic2_speed, pic3_speed))\n",
    "\n",
    "# Estimation initiale des paramètres\n",
    "initial_params = [0, 1]\n",
    "\n",
    "# Optimisation des paramètres\n",
    "result = minimize(likelihood, initial_params, args=(data,))\n",
    "optimized_params = result.x\n",
    "\n",
    "print(\"Paramètres estimés :\", optimized_params)\n"
   ]
  },
  {
   "cell_type": "markdown",
   "id": "48f954ab",
   "metadata": {},
   "source": [
    "## 1.3 Détermination des paramètres de la calibration\n"
   ]
  },
  {
   "cell_type": "code",
   "execution_count": 34,
   "id": "2d1393bc",
   "metadata": {},
   "outputs": [
    {
     "data": {
      "image/png": "[encoded data removed]",
      "text/plain": [
       "<Figure size 432x288 with 1 Axes>"
      ]
     },
     "metadata": {
      "needs_background": "light"
     },
     "output_type": "display_data"
    }
   ],
   "source": [
    "import numpy as np\n",
    "import matplotlib.pyplot as plt\n",
    "\n",
    "# Valeurs de vitesses attendues\n",
    "vitesses_attendues = [13.9, 19.4, 36.1]\n",
    "\n",
    "# Moyennes estimées obtenues précédemment\n",
    "moyennes_estimees = [pic1_mean, pic2_mean, pic1_mean]\n",
    "\n",
    "# Tracé des points\n",
    "plt.scatter(vitesses_attendues, moyennes_estimees)\n",
    "\n",
    "# Ajout d'une ligne de référence\n",
    "plt.plot(vitesses_attendues, vitesses_attendues, color='red', linestyle='--')\n",
    "\n",
    "# Étiquettes des axes\n",
    "plt.xlabel('Vitesses attendues (m/s)')\n",
    "plt.ylabel('Moyennes estimées')\n",
    "\n",
    "# Titre du graphique\n",
    "plt.title('Calibration du détecteur')\n",
    "\n",
    "# Affichage du graphique\n",
    "plt.show()\n"
   ]
  },
  {
   "cell_type": "markdown",
   "id": "ff2b651f",
   "metadata": {},
   "source": [
    "les points des moyennes estimées ne suivent pas une tendance linéaire par rapport aux vitesses attendues. "
   ]
  },
  {
   "cell_type": "markdown",
   "id": "4c5fca31",
   "metadata": {},
   "source": [
    "Pour ajuster les points de données à un modèle linéaire et extraire les paramètres ainsi que les erreurs associées, vous pouvez utiliser des méthodes de régression linéaire. La bibliothèque scikit-learn en Python fournit des outils pour effectuer cette régression. Voici un exemple de code pour réaliser cette tâche :"
   ]
  },
  {
   "cell_type": "code",
   "execution_count": 35,
   "id": "0b879e33",
   "metadata": {},
   "outputs": [
    {
     "name": "stdout",
     "output_type": "stream",
     "text": [
      "Pente : -0.4890563132516022\n",
      "Ordonnée à l'origine : 110.39057763368713\n",
      "Erreurs : [-16.18863728  21.52022441  -5.33158713]\n"
     ]
    }
   ],
   "source": [
    "from sklearn.linear_model import LinearRegression\n",
    "\n",
    "# Conversion des listes en tableaux numpy\n",
    "X = np.array(vitesses_attendues).reshape(-1, 1)\n",
    "y = np.array(moyennes_estimees)\n",
    "\n",
    "# Création d'un modèle de régression linéaire\n",
    "regression = LinearRegression()\n",
    "\n",
    "# Ajustement du modèle aux données\n",
    "regression.fit(X, y)\n",
    "\n",
    "# Extraction des paramètres\n",
    "pente = regression.coef_[0]\n",
    "ordonnee_origine = regression.intercept_\n",
    "\n",
    "# Calcul des erreurs\n",
    "erreurs = y - regression.predict(X)\n",
    "\n",
    "# Affichage des paramètres et des erreurs\n",
    "print(\"Pente :\", pente)\n",
    "print(\"Ordonnée à l'origine :\", ordonnee_origine)\n",
    "print(\"Erreurs :\", erreurs)\n"
   ]
  },
  {
   "cell_type": "markdown",
   "id": "b1d7836e",
   "metadata": {},
   "source": [
    "Ce code utilise la classe LinearRegression de scikit-learn pour créer un modèle de régression linéaire. Les données sont converties en tableaux numpy et le modèle est ajusté aux données en utilisant la méthode fit(). Les paramètres de la régression (pente et ordonnée à l'origine) peuvent être extraits à l'aide des attributs"
   ]
  },
  {
   "cell_type": "code",
   "execution_count": 37,
   "id": "e6e0b98e",
   "metadata": {},
   "outputs": [
    {
     "data": {
      "image/png": "[encoded data removed]",
      "text/plain": [
       "<Figure size 432x288 with 1 Axes>"
      ]
     },
     "metadata": {
      "needs_background": "light"
     },
     "output_type": "display_data"
    }
   ],
   "source": [
    "import numpy as np\n",
    "import matplotlib.pyplot as plt\n",
    "\n",
    "# Valeurs de vitesses attendues\n",
    "vitesses_attendues = [13.9, 19.4, 36.1]\n",
    "\n",
    "# Moyennes estimées obtenues précédemment\n",
    "moyennes_estimees = [pic1_mean, pic2_mean, pic1_mean]\n",
    "\n",
    "# Conversion des listes en tableaux numpy\n",
    "X = np.array(vitesses_attendues).reshape(-1, 1)\n",
    "y = np.array(moyennes_estimees)\n",
    "\n",
    "# Création d'un modèle de régression linéaire\n",
    "regression = LinearRegression()\n",
    "\n",
    "# Ajustement du modèle aux données\n",
    "regression.fit(X, y)\n",
    "\n",
    "# Paramètres de la régression\n",
    "pente = regression.coef_[0]\n",
    "ordonnee_origine = regression.intercept_\n",
    "\n",
    "# Points pour la ligne ajustée\n",
    "x_line = np.linspace(min(vitesses_attendues), max(vitesses_attendues), 100)\n",
    "y_line = regression.predict(x_line.reshape(-1, 1))\n",
    "\n",
    "# Tracé des points et de la ligne ajustée\n",
    "plt.scatter(vitesses_attendues, moyennes_estimees, label='Données')\n",
    "plt.plot(x_line, y_line, color='red', linestyle='--', label='Ajustement')\n",
    "\n",
    "# Étiquettes des axes\n",
    "plt.xlabel('Vitesses attendues (m/s)')\n",
    "plt.ylabel('Moyennes estimées')\n",
    "\n",
    "# Titre du graphique\n",
    "plt.title('Calibration du détecteur')\n",
    "\n",
    "# Légende\n",
    "plt.legend()\n",
    "\n",
    "# Affichage du graphique\n",
    "plt.show()\n"
   ]
  },
  {
   "cell_type": "markdown",
   "id": "75d3de66",
   "metadata": {},
   "source": [
    "## 1.4 Calibration en énergie d'un pic"
   ]
  },
  {
   "cell_type": "code",
   "execution_count": 41,
   "id": "a6243a50",
   "metadata": {},
   "outputs": [
    {
     "name": "stdout",
     "output_type": "stream",
     "text": [
      "Vitesse du pic inconnu : -343.280962594423 km/h\n",
      "Erreur sur la vitesse du pic inconnu : -3.0876707295044077 km/h\n"
     ]
    }
   ],
   "source": [
    "# Calibration parameters\n",
    "pente = regression.coef_[0]\n",
    "ordonnee_origine = regression.intercept_\n",
    "\n",
    "# Unknown pic measurements and error\n",
    "moyenne_inconnue = pic_inconnu_mean\n",
    "std_inconnu = pic_inconnu_std\n",
    "N = len(pic_inconnu_speed)\n",
    "\n",
    "# Calculate error on the mean of the unknown pic\n",
    "erreur_moyenne_inconnue = std_inconnu / np.sqrt(N)\n",
    "\n",
    "# Calculate speed and its error\n",
    "vitesse_inconnue = (moyenne_inconnue - ordonnee_origine) / pente\n",
    "erreur_vitesse = erreur_moyenne_inconnue / pente\n",
    "\n",
    "# Convert speed and error to km/h\n",
    "vitesse_inconnue_km_h = vitesse_inconnue * 3.6\n",
    "erreur_vitesse_km_h = erreur_vitesse * 3.6\n",
    "\n",
    "# Print the results\n",
    "print(\"Vitesse du pic inconnu :\", vitesse_inconnue_km_h, \"km/h\")\n",
    "print(\"Erreur sur la vitesse du pic inconnu :\", erreur_vitesse_km_h, \"km/h\")\n"
   ]
  },
  {
   "cell_type": "code",
   "execution_count": null,
   "id": "03aba229",
   "metadata": {},
   "outputs": [],
   "source": []
  }
 ],
 "metadata": {
  "kernelspec": {
   "display_name": "Python 3 (ipykernel)",
   "language": "python",
   "name": "python3"
  },
  "language_info": {
   "codemirror_mode": {
    "name": "ipython",
    "version": 3
   },
   "file_extension": ".py",
   "mimetype": "text/x-python",
   "name": "python",
   "nbconvert_exporter": "python",
   "pygments_lexer": "ipython3",
   "version": "3.7.3"
  }
 },
 "nbformat": 4,
 "nbformat_minor": 5
}
