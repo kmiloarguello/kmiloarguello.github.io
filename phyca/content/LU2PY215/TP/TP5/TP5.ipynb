{
 "cells": [
  {
   "attachments": {},
   "cell_type": "markdown",
   "metadata": {},
   "source": [
    "# TP5 : Mesure de l’absorption de la lumière par des liquides\n",
    "### Auteur : ARGUELLO Camilo"
   ]
  },
  {
   "cell_type": "markdown",
   "metadata": {},
   "source": [
    "### Introduction\n",
    "\n",
    "Dans ce TP, notre objectif c'est de mesurer le coefficient d'absorption molaire $\\epsilon$ d'un liquide. Pour cela, nous allons utiliser un montage expérimental avec l'application [PhyPhox](https://phyphox.org/) qui nous permettra de mesurer l'intensité lumineuse. Ensuite, nous allons analyser les données obtenues pour déterminer le coefficient d'absorption du liquide."
   ]
  },
  {
   "cell_type": "markdown",
   "metadata": {},
   "source": [
    "### Loi de Beer-Lambert"
   ]
  },
  {
   "attachments": {},
   "cell_type": "markdown",
   "metadata": {},
   "source": [
    "La loi de Beer-Lambert est une loi qui décrit l'absorption de la lumière par un milieu. Elle est donnée par l'équation suivante:\n",
    "\n",
    "$$I = I_0 \\; e^{-\\epsilon \\ l \\ C}$$\n",
    "\n",
    "Où $I_0$ est l'intensité lumineuse incidente, $I$ est l'intensité lumineuse transmise, $\\epsilon$ est le coefficient d'absorption molaire, $l$ est l'épaisseur du milieu, et $C$ est la concentration du milieu.\n",
    "\n",
    "À l'aide de cette relation, nous allons estimer **le coefficient d'absortion molaire $\\epsilon$**, à partir de données expérimentales mesurés avec le capteur de luminosité de notre smartphone, en fonction de longueurs connues de liquide traversées par la lumière. "
   ]
  },
  {
   "cell_type": "markdown",
   "metadata": {},
   "source": [
    "#### Détermination de la position du capteur de luminosité\n",
    "\n",
    "\n",
    "Pour réaliser cette expérience, nous utiliserons l'application Phyphox sur notre smartphone avec sa fonction de mesure de luminosité. En accédant à l'onglet 'Composantes' de l'application, nous positionnerons le capteur sous la source lumineuse. Ce dernier nous fournira alors une mesure de luminosité exprimée en lux.\n",
    "\n",
    "Afin de vérifier le bon étalonnage du capteur, on place notre doigt sous le capteur, et on vérifie que l'intensité lumineuse mesurée est égale à 0. $l_x = 0$.\n",
    "\n",
    "**Remarque**: Qu'est c'est passe si lorsqu'on place notre doigt sur le capteur, il ne marque pas 0?\n",
    "\n",
    "> Dans ce cas on doit faire prendre cette valeur comme une incertitude sur la mesure de luminosité."
   ]
  },
  {
   "cell_type": "markdown",
   "metadata": {},
   "source": [
    "### Montage et protocole expérimental"
   ]
  },
  {
   "cell_type": "markdown",
   "metadata": {},
   "source": [
    "Le montage expérimental est composé d'une source de lumière (lampe), d'un liquide (soda), et d'un capteur qui mesure l'intensité lumineuse (téléphone). La source de lumière est une LED blanche qui émet de la lumière dans le visible. Le liquide est contenu dans un bécher. Ainsi qu'un mètre pour mesurer les hauteurs du liquide Le montage est illustré dans la figure ci-dessous.\n",
    "\n",
    "![Mesure Illustration](./images/mesure-illustration/mesure-illustration1.jpg)\n",
    "\n",
    "1. L'expériment doit se faire dans un endroît sombre, pour éviter que la lumière ambiante interfère avec les mesures.\n",
    "   \n",
    "2. On place le bécher sur le capteur (téléphone), et en-dessous de la source de lumière. Eux, ils doivent être alignés, pour que la lumière passe à travers le liquide et arrive au capteur.\n",
    "\n",
    "3. On demarre la collecte des données de luminosité avec l'application Phyphox. Ensuite, on mesure différentes longueurs de liquide dans le bécher, en prenant soin de ne pas déplacer le bécher ni renverser de liquide sur le smartphone. On va s'aider de la fonctionnalité de contrôle à distance.\n",
    "\n",
    "4. On répéte les mesures pour différentes longueurs de liquide, toujours en prenant les mêmes précautions.\n",
    "\n",
    "D’après le protocole expérimental, on mesure la hauteur de la solution liquide à l’aide d’un mètre.\n",
    "\n",
    "On estime donc l’erreur sur la lecture de la hauteur à $\\Delta h \\approx  \\pm 0.1 \\ cm$.\n",
    "\n",
    "Pour estimer une erreur sur la luminosité, on place un objet sombre devant la lampe pour bloquer la lumière, puis on le déplace. Cette opération est répétée plusieurs fois, en tenant compte notamment de la position du bécher au-dessus du téléphone. On constate que lorsque l'on place un objet sombre devant la lampe, l'intensité lumineuse diminue.\n",
    "\n",
    "Le niveau d’erreur sur la luminosité que nous retiendrons par la suite est de $\\Delta l \\approx \\pm 16.4 \\ Lx$.\n",
    "\n",
    "![Niveux de liquide avec des erreurs](./images/mesure-illustration/glass-levels.jpg)"
   ]
  },
  {
   "cell_type": "code",
   "execution_count": 25,
   "metadata": {},
   "outputs": [],
   "source": [
    "import os\n",
    "import numpy as np\n",
    "import matplotlib.pyplot as plt\n",
    "import pandas as pd\n",
    "import scipy.stats as stats\n",
    "import qexpy\n",
    "from qexpy import MeasurementArray\n",
    "import qexpy.plotting as qplt\n",
    "from scipy.stats import linregress\n",
    "from scipy.optimize import minimize\n",
    "from IPython.display import display, Math"
   ]
  },
  {
   "cell_type": "code",
   "execution_count": null,
   "metadata": {},
   "outputs": [],
   "source": []
  },
  {
   "cell_type": "code",
   "execution_count": 2,
   "metadata": {},
   "outputs": [],
   "source": [
    "def calculate_uncertainty (hs):\n",
    "    \"\"\"\n",
    "    Cette fonction calcule l'incertitude sur la moyenne d'une série de mesures\n",
    "    \"\"\"\n",
    "    avg = np.mean(hs)\n",
    "    std = np.std(hs) \n",
    "    dx = std / np.sqrt(len(hs))\n",
    "    dh = np.sqrt(dx**2 + dx**2)\n",
    "    return avg, dh"
   ]
  },
  {
   "cell_type": "code",
   "execution_count": 3,
   "metadata": {},
   "outputs": [],
   "source": [
    "def load_data(folder_path, color='blue'):\n",
    "    \"\"\"\n",
    "    Cette fonction charge les données des fichiers csv dans un dictionnaire\n",
    "    @param folder_path: chemin du dossier contenant les données\n",
    "    @param color: couleur de liquide (on a testé avec 3 couleurs différents bleu, rouge, jaune) des données à charger \n",
    "    \"\"\"\n",
    "    Color={}\n",
    "    for folder_name in os.listdir(folder_path):\n",
    "        folder_path_full = os.path.join(folder_path, folder_name)\n",
    "        if os.path.isdir(folder_path_full):\n",
    "            raw_data_path = os.path.join(folder_path_full, 'Raw Data.csv')\n",
    "            if os.path.isfile(raw_data_path):\n",
    "                var_name = extract_yellow_number(folder_name, color)\n",
    "                Color[var_name] = pd.read_csv(raw_data_path)\n",
    "    return Color\n",
    "\n",
    "def extract_yellow_number(folder_name, color='yellow'):\n",
    "    \"\"\"\n",
    "    Cette fonction extrait le nom de color avec son numéro pour nommer la colonne\n",
    "    @param folder_name: nom du dossier\n",
    "    @param color: couleur à extraire\n",
    "    \"\"\"\n",
    "    substrings = folder_name.split(color)\n",
    "    if len(substrings) > 1:\n",
    "        color_number = substrings[1]\n",
    "        return f'{color}{color_number}'\n",
    "    else:\n",
    "        return None"
   ]
  },
  {
   "cell_type": "markdown",
   "metadata": {},
   "source": [
    "On réalise une série de **6 mesures** correspondant à **6 hauteurs** de liquide différentes. On va stocker les données dans un `dict` sous la forme suivante:\n",
    "\n",
    "```python\n",
    "data = {\n",
    "    'blue10': [['Temps (s)'] ... , ['Illuminance (lx)'] ...], # mesures pour la hauteur de 1 cm\n",
    "    'blue20': [...], # mesures pour la hauteur de 2 cm\n",
    "    'blue30': [...], # mesures pour la hauteur de 3 cm\n",
    "    'blue40': [...], # mesures pour la hauteur de 4 cm\n",
    "    'blue50': [...], # mesures pour la hauteur de 5 cm\n",
    "    'blue60': [...]  # mesures pour la hauteur de 6 cm\n",
    "}\n",
    "```"
   ]
  },
  {
   "cell_type": "code",
   "execution_count": 4,
   "metadata": {},
   "outputs": [],
   "source": [
    "folder_path = './data/Blue/'\n",
    "Data = load_data(folder_path, color='blue')\n",
    "\n",
    "heights = np.array([1.05, 2.03, 3.08, 4.03, 5.07, 6.05]) # Hauteur des liquides mésurés en cm\n",
    "height_uncertainty = 0.1 * np.ones(len(heights)) # Incertitude sur la hauteur des liquides"
   ]
  },
  {
   "cell_type": "markdown",
   "metadata": {},
   "source": [
    "Vu que l'application Phyphox nous donne un tableau au cours du temps pour chaque mesure, et qu'on a bien vérifié que nos mésures son bien estables, alors on prendra la moyenne des valeurs pour chaque hauteur."
   ]
  },
  {
   "cell_type": "code",
   "execution_count": 5,
   "metadata": {},
   "outputs": [],
   "source": [
    "luminosites = np.array([Data[key]['Illuminance (lx)'].mean() for key in sorted(Data.keys())])\n",
    "luminosite_uncertainty = 16.4 * np.ones(len(luminosites)) # Incertitude sur la luminosité"
   ]
  },
  {
   "cell_type": "code",
   "execution_count": 6,
   "metadata": {},
   "outputs": [
    {
     "data": {
      "image/png": "[encoded data removed]",
      "text/plain": [
       "<Figure size 432x288 with 1 Axes>"
      ]
     },
     "metadata": {
      "needs_background": "light"
     },
     "output_type": "display_data"
    }
   ],
   "source": [
    "fig, ax = plt.subplots()\n",
    "\n",
    "for i, height in enumerate(list(sorted(Data.keys())), start=0):\n",
    "    ax.plot(Data[height]['Time (s)'], Data[height]['Illuminance (lx)'], '+', \n",
    "            label=f'h={heights[i]} cm, l={np.round(luminosites[i], 3)} lx')\n",
    "    \n",
    "plt.title('Des valeurs de luminosité mesurées en fonction du temps par Phyphox')\n",
    "plt.xlabel('Temps (s)')\n",
    "plt.ylabel('Luminosité (lx)')\n",
    "fig.legend(loc='center left', bbox_to_anchor=(1, 0.5))\n",
    "plt.show()"
   ]
  },
  {
   "cell_type": "code",
   "execution_count": 7,
   "metadata": {},
   "outputs": [
    {
     "name": "stdout",
     "output_type": "stream",
     "text": [
      "Erreurs relatives sur les hauteurs: 3.97 %\n",
      "Erreurs relatives sur les luminosités 5.59 %\n"
     ]
    },
    {
     "data": {
      "image/png": "[encoded data removed]",
      "text/plain": [
       "<Figure size 460.8x345.6 with 1 Axes>"
      ]
     },
     "metadata": {
      "needs_background": "light"
     },
     "output_type": "display_data"
    }
   ],
   "source": [
    "xs = MeasurementArray(heights, height_uncertainty, unit='cm', name='Hauteur liquide ')\n",
    "ys = MeasurementArray(luminosites, luminosite_uncertainty, unit='lx', name='Luminosité ')\n",
    "\n",
    "# Erreurs relatives sur les hauteurs et les luminosités\n",
    "dxs = height_uncertainty / heights\n",
    "dys = luminosite_uncertainty / luminosites\n",
    "\n",
    "print('Erreurs relatives sur les hauteurs: {:.2f} %'.format(np.mean(dxs) * 100))\n",
    "print('Erreurs relatives sur les luminosités {:.2f} %'.format(np.mean(dys) * 100))\n",
    "\n",
    "qplt.plot(xs, ys)\n",
    "figure = qplt.get_plot()\n",
    "figure.title = 'Absorption de la lumière par le liquide'\n",
    "qplt.show()"
   ]
  },
  {
   "cell_type": "markdown",
   "metadata": {},
   "source": [
    "D'après le graphique, on peut remarquer qu'on obtient une fonction exponentielle décroissante, ce qui confime l'expression de la loi de Beer-Lambert. De même, l'erreur qui semble être dominante c'est celle portant sur l'intensité lumineuse. En plus on peut confirmer cette affirmation en analysant les erreurs relatives $\\frac{\\Delta \\mu}{\\mu} = 5.59\\%$, tandis que pour $\\frac{\\Delta h}{h} = 3.97\\%$, où on voit une erreur relative plus importante pour celle de l'intensité par rapport celle sur l'hauteur."
   ]
  },
  {
   "cell_type": "markdown",
   "metadata": {},
   "source": [
    "### Adjustement du modèle"
   ]
  },
  {
   "cell_type": "markdown",
   "metadata": {},
   "source": [
    "On a vu la dependence de la loi de Beer-Lambert en fonction de l'intensité lumineuse. Maintenant notre objectif est de linéariser cette rélation à l'aide du logarithme naturel. \n",
    "\n",
    "D'après la loi de Beer-Lambert, on a:\n",
    "\n",
    "$$ I = I_0 \\; e^{-\\epsilon \\ l \\ C} $$\n",
    "\n",
    "$$ \\ln (I) = \\ln (I_0) + \\ln(e^{\\epsilon \\ l \\ C}) $$\n",
    "\n",
    "$$ \\ln (I) = \\ln (I_0) - \\epsilon \\ l \\ C $$\n",
    "\n",
    "En commençant par la méthode analytique où on peut trouver les valeurs de $a$ et $b$ en résolvant l'équation de la forme: $y = a \\ x + b$. Et en identifiant à $\\ln(I)= a \\ l + b$.\n",
    "\n",
    "$$ a = - \\epsilon \\ C \\quad \\text{et} \\quad b = \\ln(I_0) $$\n",
    "\n",
    "On aura:\n",
    "\n",
    "$$ \\epsilon = - \\frac{a}{C} \\quad \\text{et} \\quad I_0 = e^b$$\n",
    "\n",
    "En négligeant les erreurs sur les hauteurs par rapport à celles sur l'intensité, on a:\n",
    "\n",
    "$$ \\Delta \\ln(I) = \\sqrt{\\left( \\frac{\\Delta I}{I} \\right)^2} = \\frac{\\Delta I}{I} $$\n",
    "\n",
    "Nous sommes dans le cas d'un ajustement linéaire, on peut écrire:\n",
    "\n",
    "$$ A = \\sum_i \\frac{x_i \\ y_i}{\\sigma_i^2} = \\sum_{n=1}^{6} \\frac{h_i \\ \\ln(I_i)}{\\sigma_{\\Delta \\ln(I_i)}^2} $$\n",
    "\n",
    "$$ B = \\sum_i \\frac{x_i^2}{\\sigma_i^2} = \\sum_{n=1}^{6} \\frac{h_i^2}{\\sigma_{\\Delta \\ln(I_i)}^2} $$\n",
    "\n",
    "$$ C = \\sum_i \\frac{x_i}{\\sigma_i^2} = \\sum_{n=1}^{6} \\frac{h_i}{\\sigma_{\\Delta \\ln(I_i)}^2} $$\n",
    "\n",
    "$$ D = \\sum_i \\frac{y_i}{\\sigma_i^2} = \\sum_{n=1}^{6} \\frac{\\ln(I_i)}{\\sigma_{\\Delta \\ln(I_i)}^2} $$\n",
    "\n",
    "$$ E = \\sum_i \\frac{1}{\\sigma_i^2} = \\sum_{n=1}^{6} \\frac{1}{\\sigma_{\\Delta \\ln(I_i)}^2} $$\n",
    "\n",
    "D'où on peut trouver les valeurs de $a$ et $b$:\n",
    "\n",
    "$$ a = \\frac{A \\ E - D \\ C}{B \\ E - C^2} \\quad \\text{et} \\quad b = \\frac{D \\ B - A \\ C}{B \\ E - C^2} $$\n"
   ]
  },
  {
   "cell_type": "code",
   "execution_count": 32,
   "metadata": {},
   "outputs": [
    {
     "name": "stdout",
     "output_type": "stream",
     "text": [
      "a = -0.33 cm\n",
      "b = 6.97\n"
     ]
    },
    {
     "data": {
      "text/latex": [
       "$\\displaystyle I_0 = 1060.43 \\, \\text{lx}$"
      ],
      "text/plain": [
       "<IPython.core.display.Math object>"
      ]
     },
     "metadata": {},
     "output_type": "display_data"
    },
    {
     "data": {
      "text/latex": [
       "$\\displaystyle \\mu = 0.33 \\, \\text{cm}^{-1}$"
      ],
      "text/plain": [
       "<IPython.core.display.Math object>"
      ]
     },
     "metadata": {},
     "output_type": "display_data"
    },
    {
     "data": {
      "image/png": "[encoded data removed]",
      "text/plain": [
       "<Figure size 432x288 with 1 Axes>"
      ]
     },
     "metadata": {
      "needs_background": "light"
     },
     "output_type": "display_data"
    }
   ],
   "source": [
    "h_i = heights.copy()\n",
    "I_i = luminosites.copy()\n",
    "ln_i = np.log(I_i)\n",
    "sigma_i = dys * ln_i\n",
    "\n",
    "A = np.sum(h_i * ln_i / sigma_i**2)\n",
    "B = np.sum(h_i**2 / sigma_i**2)\n",
    "C = np.sum(h_i / sigma_i**2)\n",
    "D = np.sum(ln_i / sigma_i**2)\n",
    "E = np.sum(1 / sigma_i**2)\n",
    "\n",
    "a = (A * E - D * C) / (B * E - C**2)\n",
    "b = (D * B - A * C) / (B * E - C**2)\n",
    "\n",
    "mu = -a\n",
    "I_0 = np.exp(b)\n",
    "\n",
    "print('a = {:.2f} cm'.format(a))\n",
    "print('b = {:.2f}'.format(b))\n",
    "\n",
    "display(Math(r'I_0 = {:.2f} \\, \\text{{lx}}'.format(np.exp(b))))\n",
    "display(Math(r'\\mu = {:.2f} \\, \\text{{cm}}^{{-1}}'.format(mu)))\n",
    "\n",
    "# Modele\n",
    "I = I_0 * np.exp(-mu * heights)\n",
    "\n",
    "plt.errorbar(heights, luminosites, yerr=luminosite_uncertainty, fmt='o', label='Données')\n",
    "plt.plot(heights, I, label='Modèle')\n",
    "plt.title('Ajustement des données à un modèle exponentiel décroissant')\n",
    "plt.xlabel('Hauteur (cm)')\n",
    "plt.ylabel('Luminosité (lx)')\n",
    "plt.legend()\n",
    "plt.show()\n"
   ]
  },
  {
   "cell_type": "code",
   "execution_count": null,
   "metadata": {},
   "outputs": [],
   "source": []
  }
 ],
 "metadata": {
  "kernelspec": {
   "display_name": "base",
   "language": "python",
   "name": "python3"
  },
  "language_info": {
   "codemirror_mode": {
    "name": "ipython",
    "version": 3
   },
   "file_extension": ".py",
   "mimetype": "text/x-python",
   "name": "python",
   "nbconvert_exporter": "python",
   "pygments_lexer": "ipython3",
   "version": "3.9.5"
  },
  "orig_nbformat": 4
 },
 "nbformat": 4,
 "nbformat_minor": 2
}
