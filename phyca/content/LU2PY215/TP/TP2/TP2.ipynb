{
 "cells": [
  {
   "attachments": {},
   "cell_type": "markdown",
   "metadata": {},
   "source": [
    "# TP2 : Mesure du coefficient de rebond d’une balle\n",
    "### Auteur : ARGUELLO Camilo"
   ]
  },
  {
   "attachments": {},
   "cell_type": "markdown",
   "metadata": {},
   "source": [
    "### Introduction\n",
    "\n",
    "L'objectif de ce TP est d'étudier avec un exemple de chute d'une balle de ping-ping les notions des incertitudes des erreurs systématiques ainsi que des erreurs statistiques. En particulier, à partir des données des temps prises par notre téléphone et l'application [PhyPhox](https://phyphox.org).\n",
    "\n",
    "L'analyse est faite avec [Python](https://python.org) en utilisant les modules [numpy](https://numpy.org/), [pandas](https://pandas.pydata.org/) et [matplotlib](https://matplotlib.org/)."
   ]
  },
  {
   "cell_type": "code",
   "execution_count": 1,
   "metadata": {},
   "outputs": [],
   "source": [
    "import numpy as np\n",
    "import matplotlib.pyplot as plt\n",
    "import pandas as pd\n",
    "import qexpy"
   ]
  },
  {
   "attachments": {},
   "cell_type": "markdown",
   "metadata": {},
   "source": [
    "### Mesure des rebonds de la balle et extraction d'une mesure du coefficient de restitution\n",
    "\n",
    "À l'aide de l'application PhyPhox, on a mesuré le temps produites par les rebonds de la balle de ping-pong qui tombe d'une hauteur $h_0 = 1\\text{ m} \\pm 0.01\\text{ m}$. La balle de ping-pong a une masse de $0.1\\text{ kg}$. On a pris 3 fois les mesures de temps de rebond. Les données sont dans le fichier `All.csv`.\n",
    "\n",
    "<img src=\"./h_t.jpg\" width=\"400\">"
   ]
  },
  {
   "cell_type": "code",
   "execution_count": 83,
   "metadata": {},
   "outputs": [],
   "source": [
    "# Constantes\n",
    "\n",
    "g=9.81 # m/s2\n",
    "m=0.10 # kg (masse d'une balle de ping-pong)\n",
    "h_0=1.0 # m (hauteur initiale)"
   ]
  },
  {
   "cell_type": "code",
   "execution_count": 84,
   "metadata": {},
   "outputs": [
    {
     "data": {
      "text/html": [
       "<div>\n",
       "<style scoped>\n",
       "    .dataframe tbody tr th:only-of-type {\n",
       "        vertical-align: middle;\n",
       "    }\n",
       "\n",
       "    .dataframe tbody tr th {\n",
       "        vertical-align: top;\n",
       "    }\n",
       "\n",
       "    .dataframe thead th {\n",
       "        text-align: right;\n",
       "    }\n",
       "</style>\n",
       "<table border=\"1\" class=\"dataframe\">\n",
       "  <thead>\n",
       "    <tr style=\"text-align: right;\">\n",
       "      <th></th>\n",
       "      <th>Event time (s)</th>\n",
       "      <th>Interval (s)</th>\n",
       "    </tr>\n",
       "  </thead>\n",
       "  <tbody>\n",
       "    <tr>\n",
       "      <th>0</th>\n",
       "      <td>2.133771</td>\n",
       "      <td>0.785792</td>\n",
       "    </tr>\n",
       "    <tr>\n",
       "      <th>1</th>\n",
       "      <td>2.919563</td>\n",
       "      <td>0.668104</td>\n",
       "    </tr>\n",
       "    <tr>\n",
       "      <th>2</th>\n",
       "      <td>3.587667</td>\n",
       "      <td>0.578625</td>\n",
       "    </tr>\n",
       "    <tr>\n",
       "      <th>3</th>\n",
       "      <td>4.166292</td>\n",
       "      <td>0.509146</td>\n",
       "    </tr>\n",
       "    <tr>\n",
       "      <th>4</th>\n",
       "      <td>4.675438</td>\n",
       "      <td>0.454750</td>\n",
       "    </tr>\n",
       "  </tbody>\n",
       "</table>\n",
       "</div>"
      ],
      "text/plain": [
       "   Event time (s)  Interval (s)\n",
       "0        2.133771      0.785792\n",
       "1        2.919563      0.668104\n",
       "2        3.587667      0.578625\n",
       "3        4.166292      0.509146\n",
       "4        4.675438      0.454750"
      ]
     },
     "execution_count": 84,
     "metadata": {},
     "output_type": "execute_result"
    }
   ],
   "source": [
    "# On ajoute le fichier All.csv\n",
    "data = pd.read_csv('./Acoustic Stopwatch_2023-03-07_15-24-18/All.csv', sep=',')\n",
    "# On affiche les 5 premières lignes\n",
    "data.head()"
   ]
  },
  {
   "attachments": {},
   "cell_type": "markdown",
   "metadata": {},
   "source": [
    "Les deux colonnes affichés contiennent l'information liée à:\n",
    "- `Event time (s)` le temps en seconds de déclénchement à partir des conditions initales comme le bruit au moment de faire l'expériment. On rélatione un rebond comme un évènement.\n",
    "- `Interval (s)` qui corresponde au temps en seconds de l'interval entre chaque rebond. "
   ]
  },
  {
   "attachments": {},
   "cell_type": "markdown",
   "metadata": {},
   "source": [
    "\n",
    "Notre objectif en première terme c'est de vérifier la différence de temps entre chaque rebond, cela va nous permettre de vérifier si l'information qu'on a mesuré est correcte, c'est-à-dire que le bruit n'a pas afecté la prise de mesures.\n",
    "\n",
    "On va ajouter une nouvelle colonne appelée `diff` avec les informations de différence entre chaque évenement en seconds."
   ]
  },
  {
   "cell_type": "code",
   "execution_count": 85,
   "metadata": {},
   "outputs": [
    {
     "data": {
      "text/html": [
       "<div>\n",
       "<style scoped>\n",
       "    .dataframe tbody tr th:only-of-type {\n",
       "        vertical-align: middle;\n",
       "    }\n",
       "\n",
       "    .dataframe tbody tr th {\n",
       "        vertical-align: top;\n",
       "    }\n",
       "\n",
       "    .dataframe thead th {\n",
       "        text-align: right;\n",
       "    }\n",
       "</style>\n",
       "<table border=\"1\" class=\"dataframe\">\n",
       "  <thead>\n",
       "    <tr style=\"text-align: right;\">\n",
       "      <th></th>\n",
       "      <th>Event time (s)</th>\n",
       "      <th>Interval (s)</th>\n",
       "      <th>diff</th>\n",
       "    </tr>\n",
       "  </thead>\n",
       "  <tbody>\n",
       "    <tr>\n",
       "      <th>1</th>\n",
       "      <td>2.919563</td>\n",
       "      <td>0.668104</td>\n",
       "      <td>0.785792</td>\n",
       "    </tr>\n",
       "    <tr>\n",
       "      <th>2</th>\n",
       "      <td>3.587667</td>\n",
       "      <td>0.578625</td>\n",
       "      <td>0.668104</td>\n",
       "    </tr>\n",
       "    <tr>\n",
       "      <th>3</th>\n",
       "      <td>4.166292</td>\n",
       "      <td>0.509146</td>\n",
       "      <td>0.578625</td>\n",
       "    </tr>\n",
       "    <tr>\n",
       "      <th>4</th>\n",
       "      <td>4.675438</td>\n",
       "      <td>0.454750</td>\n",
       "      <td>0.509146</td>\n",
       "    </tr>\n",
       "    <tr>\n",
       "      <th>5</th>\n",
       "      <td>5.130187</td>\n",
       "      <td>0.411521</td>\n",
       "      <td>0.454750</td>\n",
       "    </tr>\n",
       "  </tbody>\n",
       "</table>\n",
       "</div>"
      ],
      "text/plain": [
       "   Event time (s)  Interval (s)      diff\n",
       "1        2.919563      0.668104  0.785792\n",
       "2        3.587667      0.578625  0.668104\n",
       "3        4.166292      0.509146  0.578625\n",
       "4        4.675438      0.454750  0.509146\n",
       "5        5.130187      0.411521  0.454750"
      ]
     },
     "execution_count": 85,
     "metadata": {},
     "output_type": "execute_result"
    }
   ],
   "source": [
    "## Pour la première colonne, on calcule la différence de temps entre deux événements\n",
    "\n",
    "# on calcule la différence de temps entre deux événements\n",
    "data['diff'] = data['Event time (s)'].diff()\n",
    "# on supprime la première ligne qui est NaN\n",
    "data = data.dropna()\n",
    "# on affiche les 5 premières lignes\n",
    "data.head()"
   ]
  },
  {
   "cell_type": "code",
   "execution_count": 86,
   "metadata": {},
   "outputs": [
    {
     "name": "stdout",
     "output_type": "stream",
     "text": [
      "La difference de temps est égale à l'intervalle 'Event time (s)':  True\n"
     ]
    }
   ],
   "source": [
    "# on verifie que la diff est égale à la colonne Interval (s) \n",
    "# Il faut comparer les lignes de cette façon:\n",
    "# ligne 2: data['diff'] avec ligne 1: data['Interval (s)']\n",
    "# ligne 3: data['diff'] avec ligne 2: data['Interval (s)']\n",
    "# ligne 4: data['diff'] avec ligne 3: data['Interval (s)']\n",
    "# etc.\n",
    "\n",
    "def interval_diff_compare(data):\n",
    "    for i in range(1, len(data)):\n",
    "        if round(data['diff'][i+1], 2) != round(data['Interval (s)'][i], 2):\n",
    "            return False\n",
    "    return True\n",
    "\n",
    "# on verifie que la diff est égale à la colonne Interval (s)\n",
    "print(\"La difference de temps est égale à l'intervalle 'Event time (s)': \", interval_diff_compare(data))\n"
   ]
  },
  {
   "attachments": {},
   "cell_type": "markdown",
   "metadata": {},
   "source": [
    "Maintenant, on s'intéresse pour calculer la vitesse entre chaque rebond selon la rélation:\n",
    "\n",
    "$$ v_i = \\frac{g  T_i}{2} $$ \n",
    "\n",
    "Où, $g$ c'est la gravité et $T_i$ est l'intervalle de temps, dans notre cas la colonne `diff`.\n",
    "\n",
    "Pour cela on ajoute une nouvelle colonne `vitesse` dans notre tableau."
   ]
  },
  {
   "cell_type": "code",
   "execution_count": 89,
   "metadata": {},
   "outputs": [
    {
     "data": {
      "text/html": [
       "<div>\n",
       "<style scoped>\n",
       "    .dataframe tbody tr th:only-of-type {\n",
       "        vertical-align: middle;\n",
       "    }\n",
       "\n",
       "    .dataframe tbody tr th {\n",
       "        vertical-align: top;\n",
       "    }\n",
       "\n",
       "    .dataframe thead th {\n",
       "        text-align: right;\n",
       "    }\n",
       "</style>\n",
       "<table border=\"1\" class=\"dataframe\">\n",
       "  <thead>\n",
       "    <tr style=\"text-align: right;\">\n",
       "      <th></th>\n",
       "      <th>Event time (s)</th>\n",
       "      <th>Interval (s)</th>\n",
       "      <th>diff</th>\n",
       "      <th>vitesse</th>\n",
       "    </tr>\n",
       "  </thead>\n",
       "  <tbody>\n",
       "    <tr>\n",
       "      <th>1</th>\n",
       "      <td>2.919563</td>\n",
       "      <td>0.668104</td>\n",
       "      <td>0.785792</td>\n",
       "      <td>3.854308</td>\n",
       "    </tr>\n",
       "    <tr>\n",
       "      <th>2</th>\n",
       "      <td>3.587667</td>\n",
       "      <td>0.578625</td>\n",
       "      <td>0.668104</td>\n",
       "      <td>3.277051</td>\n",
       "    </tr>\n",
       "    <tr>\n",
       "      <th>3</th>\n",
       "      <td>4.166292</td>\n",
       "      <td>0.509146</td>\n",
       "      <td>0.578625</td>\n",
       "      <td>2.838156</td>\n",
       "    </tr>\n",
       "    <tr>\n",
       "      <th>4</th>\n",
       "      <td>4.675438</td>\n",
       "      <td>0.454750</td>\n",
       "      <td>0.509146</td>\n",
       "      <td>2.497360</td>\n",
       "    </tr>\n",
       "    <tr>\n",
       "      <th>5</th>\n",
       "      <td>5.130187</td>\n",
       "      <td>0.411521</td>\n",
       "      <td>0.454750</td>\n",
       "      <td>2.230549</td>\n",
       "    </tr>\n",
       "  </tbody>\n",
       "</table>\n",
       "</div>"
      ],
      "text/plain": [
       "   Event time (s)  Interval (s)      diff   vitesse\n",
       "1        2.919563      0.668104  0.785792  3.854308\n",
       "2        3.587667      0.578625  0.668104  3.277051\n",
       "3        4.166292      0.509146  0.578625  2.838156\n",
       "4        4.675438      0.454750  0.509146  2.497360\n",
       "5        5.130187      0.411521  0.454750  2.230549"
      ]
     },
     "execution_count": 89,
     "metadata": {},
     "output_type": "execute_result"
    }
   ],
   "source": [
    "## Calcul de la vitesse entre chaque rebond grâce à la formule v_i = g * T_i / 2\n",
    "data['vitesse'] = g * data['diff'] / 2\n",
    "# on affiche les 5 premières lignes\n",
    "data.head()"
   ]
  },
  {
   "cell_type": "code",
   "execution_count": 90,
   "metadata": {},
   "outputs": [],
   "source": [
    "# On calcule le nombre du rebond\n",
    "data['rebond'] = np.arange(1, len(data)+1)"
   ]
  },
  {
   "cell_type": "code",
   "execution_count": 98,
   "metadata": {},
   "outputs": [
    {
     "data": {
      "image/png": "[encoded data removed]",
      "text/plain": [
       "<Figure size 432x288 with 1 Axes>"
      ]
     },
     "metadata": {
      "needs_background": "light"
     },
     "output_type": "display_data"
    }
   ],
   "source": [
    "# On trace la vitesse de la balle en fonction du nombre du rebond\n",
    "plt.plot(data['rebond'], data['vitesse'], '+')\n",
    "plt.title('Vitesse de la balle en fonction du nombre du rebond')\n",
    "plt.xlabel('Numéro du rebond')\n",
    "plt.ylabel('Vitesse (m/s)')\n",
    "plt.show()"
   ]
  },
  {
   "attachments": {},
   "cell_type": "markdown",
   "metadata": {},
   "source": [
    "On peut noter que la vitesse entre chaque rebonds a une tendence à diminuer sa valeur. Cela est dû à que l'hauteur pour chaque rebond diminue. C'est à dire que si on analyse la rélation d'energie potentielle de la balle:\n",
    "\n",
    "$$ E_p = m g h_i $$\n",
    "\n",
    "Avec $m$ la masse, $h$ la hauteur de la balle. Si on **diminue** la hauteur, alors l'énergie potentielle sera aussi diminuée.\n",
    "\n",
    "À chaque mouvement on sait que l'énergie potentielle se transforme en énergie cinetique, donc:\n",
    "\n",
    "$$ E_c = \\frac{1}{2}  m  \\vec{v}^2 $$\n",
    "\n",
    "$$ \\vec{v} = \\sqrt{\\frac{2  E_c}{m}} $$\n",
    "\n",
    "Si la $E_c$ diminue, la vitesse diminuera également."
   ]
  },
  {
   "attachments": {},
   "cell_type": "markdown",
   "metadata": {},
   "source": [
    "On considère maintenant l'effet que nos mesures ne sont pas infinitement précises, car dû à des erreurs systématiques (déclenchement du bruit, précision de la mesure, etc) on a un erreur d'environ $\\pm 10\\text{ ms}$.\n",
    "\n",
    "Pour calculer l'incertitud sur la vitesse, on prend en compte les incertitudes sur les mesures de temps et l'hauter $h_0$. En utilisant l'équation de propagation des erreurs, on obtient:\n",
    "\n",
    "$$ \\Delta \\vec{v}^2 = \\left( \\frac{\\partial \\vec{v}}{\\partial t} \\right)^2 \\Delta t^2 + \\left( \\frac{\\partial \\vec{v}}{\\partial h} \\right)^2 \\Delta h^2 + 2 \\frac{\\partial \\vec{v}}{\\partial t} \\frac{\\partial \\vec{v}}{\\partial h} cov(t,h) $$ \n",
    "\n",
    "où $\\Delta t$ et $\\Delta h$ sont les incertitudes sur les mesures de temps et de hauteur respectivement. On a aussi $cov(t,h)$ qui est la covariance entre les mesures de temps et de la hauteur.\n",
    "\n",
    "De même, on utilise l'équation de la de la chute libre :\n",
    "\n",
    "$$h = h_0 + v_0t - \\frac{1}{2}gt^2$$\n",
    "\n",
    "D'où on obtient:\n",
    "\n",
    "$$\\frac{\\partial \\vec{v}}{\\partial t} = -g \\quad \\frac{\\partial \\vec{v}}{\\partial h} = 0$$"
   ]
  },
  {
   "attachments": {},
   "cell_type": "markdown",
   "metadata": {},
   "source": [
    "En utilisant la formule de propagation des erreurs et en vérifient que la  covariance entre les mesures de temps et de hauteur est nulle, on obtient:\n",
    "\n",
    "$$ \\Delta \\vec{v}^2 = \\left( -g \\right)^2 \\Delta t^2 $$\n",
    "\n",
    "Ainsi, l'incertitude sur la vitesse peut être calculée comme:\n",
    "\n",
    "$$ \\Delta \\vec{v} = \\sqrt{ \\left( -g \\right)^2 \\Delta t^2 } $$\n",
    "\n",
    "En substituant les valeurs numériques, on obtient:\n",
    "\n",
    "$$ \\Delta \\vec{v} = \\sqrt{ \\left( -9.81 \\right)^2 \\times 0.0001 } = 0.0981 \\text{ m/s} $$\n"
   ]
  },
  {
   "cell_type": "code",
   "execution_count": 99,
   "metadata": {},
   "outputs": [
    {
     "name": "stdout",
     "output_type": "stream",
     "text": [
      "L'erreur maximale sur la vitesse est de:  0.0981 m/s\n"
     ]
    }
   ],
   "source": [
    "# on calcule l'erreur sur la vitesse selon \\sqrt{ \\left( -g \\right)^2 \\Delta t^2 }\n",
    "delta_t = .01 # s\n",
    "erreur_vitesse = np.sqrt( (-g)**2 * (delta_t)**2 )\n",
    "print(\"L'erreur maximale sur la vitesse est de: \", erreur_vitesse, \"m/s\")"
   ]
  },
  {
   "cell_type": "code",
   "execution_count": 100,
   "metadata": {},
   "outputs": [
    {
     "data": {
      "text/html": [
       "<div>\n",
       "<style scoped>\n",
       "    .dataframe tbody tr th:only-of-type {\n",
       "        vertical-align: middle;\n",
       "    }\n",
       "\n",
       "    .dataframe tbody tr th {\n",
       "        vertical-align: top;\n",
       "    }\n",
       "\n",
       "    .dataframe thead th {\n",
       "        text-align: right;\n",
       "    }\n",
       "</style>\n",
       "<table border=\"1\" class=\"dataframe\">\n",
       "  <thead>\n",
       "    <tr style=\"text-align: right;\">\n",
       "      <th></th>\n",
       "      <th>Event time (s)</th>\n",
       "      <th>Interval (s)</th>\n",
       "      <th>diff</th>\n",
       "      <th>vitesse</th>\n",
       "      <th>rebond</th>\n",
       "      <th>vitesse_err</th>\n",
       "    </tr>\n",
       "  </thead>\n",
       "  <tbody>\n",
       "    <tr>\n",
       "      <th>1</th>\n",
       "      <td>2.919563</td>\n",
       "      <td>0.668104</td>\n",
       "      <td>0.785792</td>\n",
       "      <td>3.854308</td>\n",
       "      <td>1</td>\n",
       "      <td>0.756215</td>\n",
       "    </tr>\n",
       "    <tr>\n",
       "      <th>2</th>\n",
       "      <td>3.587667</td>\n",
       "      <td>0.578625</td>\n",
       "      <td>0.668104</td>\n",
       "      <td>3.277051</td>\n",
       "      <td>2</td>\n",
       "      <td>0.642957</td>\n",
       "    </tr>\n",
       "    <tr>\n",
       "      <th>3</th>\n",
       "      <td>4.166292</td>\n",
       "      <td>0.509146</td>\n",
       "      <td>0.578625</td>\n",
       "      <td>2.838156</td>\n",
       "      <td>3</td>\n",
       "      <td>0.556846</td>\n",
       "    </tr>\n",
       "    <tr>\n",
       "      <th>4</th>\n",
       "      <td>4.675438</td>\n",
       "      <td>0.454750</td>\n",
       "      <td>0.509146</td>\n",
       "      <td>2.497360</td>\n",
       "      <td>4</td>\n",
       "      <td>0.489982</td>\n",
       "    </tr>\n",
       "    <tr>\n",
       "      <th>5</th>\n",
       "      <td>5.130187</td>\n",
       "      <td>0.411521</td>\n",
       "      <td>0.454750</td>\n",
       "      <td>2.230549</td>\n",
       "      <td>5</td>\n",
       "      <td>0.437634</td>\n",
       "    </tr>\n",
       "  </tbody>\n",
       "</table>\n",
       "</div>"
      ],
      "text/plain": [
       "   Event time (s)  Interval (s)      diff   vitesse  rebond  vitesse_err\n",
       "1        2.919563      0.668104  0.785792  3.854308       1     0.756215\n",
       "2        3.587667      0.578625  0.668104  3.277051       2     0.642957\n",
       "3        4.166292      0.509146  0.578625  2.838156       3     0.556846\n",
       "4        4.675438      0.454750  0.509146  2.497360       4     0.489982\n",
       "5        5.130187      0.411521  0.454750  2.230549       5     0.437634"
      ]
     },
     "execution_count": 100,
     "metadata": {},
     "output_type": "execute_result"
    }
   ],
   "source": [
    "# On calcule l'erreru sur la vitesse pour CHAQUE REBOUND selon \\sqrt{ \\left( -g \\right)^2 \\Delta t^2 }\n",
    "\n",
    "data['vitesse_err'] = np.sqrt( (-g)**2 * (data['diff'] * erreur_vitesse)**2 )\n",
    "# on affiche les 5 premières lignes\n",
    "data.head()"
   ]
  },
  {
   "cell_type": "code",
   "execution_count": 101,
   "metadata": {},
   "outputs": [
    {
     "data": {
      "image/png": "[encoded data removed]",
      "text/plain": [
       "<Figure size 432x288 with 1 Axes>"
      ]
     },
     "metadata": {
      "needs_background": "light"
     },
     "output_type": "display_data"
    }
   ],
   "source": [
    "# On trace la vitesse de la balle en fonction du numéro du rebond\n",
    "\n",
    "plt.errorbar(data['rebond'], data['vitesse'], yerr=data['vitesse_err'], fmt='o')\n",
    "plt.title('Vitesse de la balle en fonction du numéro du rebond')\n",
    "plt.xlabel('Numéro du rebond')\n",
    "plt.ylabel('Vitesse (m/s)')\n",
    "plt.show()"
   ]
  },
  {
   "attachments": {},
   "cell_type": "markdown",
   "metadata": {},
   "source": [
    "On peut noter que à chaque rebond, une partie de l'énergie cinétique de la balle est convertie en énergie potentielle élastique, puis restituée sous forme d'énergie cinétique lorsqu'elle rebondit. Cette perte d'énergie cinétique peut contribuer à réduire la vitesse de la balle, ce qui peut réduire l'erreur sur la vitesse mesurée. Cela explique pourquoi l'erreur sur la vitesse diminue à chaque rebond."
   ]
  },
  {
   "attachments": {},
   "cell_type": "markdown",
   "metadata": {},
   "source": [
    "Maintenant on s'intéresse pour déterminer le coefficient de restitution $k$ de la balle de ping-pong. On sait que:\n",
    "\n",
    "$$ k = \\frac{E_{\\text{cinétique après rebond}}}{E_{\\text{cinétique avant rebond}}} = \\frac{E_c}{E_c'} $$\n",
    "\n",
    "L'énergie cinétique de la balle le rebond est donnée par :\n",
    "\n",
    "$$ E_c = \\frac{1}{2} m \\vec{v}^2 $$\n",
    "\n",
    "L'énergie total du système est donnée par:\n",
    "\n",
    "$$ E_c + E_p = E_c' + E_p' + E_d $$\n",
    "\n",
    "Où $E_p$ est l'énergie potentielle de la balle avant le rebond, $E_p'$ celle après le rebond, et $E_d$ est l'énergie dissipée par la balle pendant le rebond. On peut montrer que les énergies potentielles sont les mêmes avant et après le rebond, donc:\n",
    "\n",
    "$$ E_c = E_c' + E_d $$\n",
    "\n",
    "Alors l'énergie dissipée par la balle pendant le rebond est donnée par:\n",
    "\n",
    "$$ E_d = E_c - E_c' $$\n",
    "\n",
    "On peut aussi montrer que l'énergie dissipée par la balle pendant le rebond est donnée par:\n",
    "\n",
    "$$ E_d = \\frac{1}{2} m \\vec{v}^2 - \\frac{1}{2} m \\vec{v'}^2 $$\n",
    "\n",
    "Où $\\vec{v'}$ est la vitesse de la balle dans le rebond $i-1$."
   ]
  },
  {
   "cell_type": "code",
   "execution_count": 102,
   "metadata": {},
   "outputs": [
    {
     "data": {
      "text/html": [
       "<div>\n",
       "<style scoped>\n",
       "    .dataframe tbody tr th:only-of-type {\n",
       "        vertical-align: middle;\n",
       "    }\n",
       "\n",
       "    .dataframe tbody tr th {\n",
       "        vertical-align: top;\n",
       "    }\n",
       "\n",
       "    .dataframe thead th {\n",
       "        text-align: right;\n",
       "    }\n",
       "</style>\n",
       "<table border=\"1\" class=\"dataframe\">\n",
       "  <thead>\n",
       "    <tr style=\"text-align: right;\">\n",
       "      <th></th>\n",
       "      <th>Event time (s)</th>\n",
       "      <th>Interval (s)</th>\n",
       "      <th>diff</th>\n",
       "      <th>vitesse</th>\n",
       "      <th>rebond</th>\n",
       "      <th>vitesse_err</th>\n",
       "      <th>E_cinetique</th>\n",
       "      <th>E_dissipee</th>\n",
       "      <th>k</th>\n",
       "    </tr>\n",
       "  </thead>\n",
       "  <tbody>\n",
       "    <tr>\n",
       "      <th>1</th>\n",
       "      <td>2.919563</td>\n",
       "      <td>0.668104</td>\n",
       "      <td>0.785792</td>\n",
       "      <td>3.854308</td>\n",
       "      <td>1</td>\n",
       "      <td>0.756215</td>\n",
       "      <td>0.742785</td>\n",
       "      <td>0.000000</td>\n",
       "      <td>0.742785</td>\n",
       "    </tr>\n",
       "    <tr>\n",
       "      <th>2</th>\n",
       "      <td>3.587667</td>\n",
       "      <td>0.578625</td>\n",
       "      <td>0.668104</td>\n",
       "      <td>3.277051</td>\n",
       "      <td>2</td>\n",
       "      <td>0.642957</td>\n",
       "      <td>0.536953</td>\n",
       "      <td>-0.205831</td>\n",
       "      <td>0.153621</td>\n",
       "    </tr>\n",
       "    <tr>\n",
       "      <th>3</th>\n",
       "      <td>4.166292</td>\n",
       "      <td>0.509146</td>\n",
       "      <td>0.578625</td>\n",
       "      <td>2.838156</td>\n",
       "      <td>3</td>\n",
       "      <td>0.556846</td>\n",
       "      <td>0.402756</td>\n",
       "      <td>-0.134197</td>\n",
       "      <td>0.069560</td>\n",
       "    </tr>\n",
       "    <tr>\n",
       "      <th>4</th>\n",
       "      <td>4.675438</td>\n",
       "      <td>0.454750</td>\n",
       "      <td>0.509146</td>\n",
       "      <td>2.497360</td>\n",
       "      <td>4</td>\n",
       "      <td>0.489982</td>\n",
       "      <td>0.311840</td>\n",
       "      <td>-0.090916</td>\n",
       "      <td>0.020294</td>\n",
       "    </tr>\n",
       "    <tr>\n",
       "      <th>5</th>\n",
       "      <td>5.130187</td>\n",
       "      <td>0.411521</td>\n",
       "      <td>0.454750</td>\n",
       "      <td>2.230549</td>\n",
       "      <td>5</td>\n",
       "      <td>0.437634</td>\n",
       "      <td>0.248767</td>\n",
       "      <td>-0.063073</td>\n",
       "      <td>-0.004775</td>\n",
       "    </tr>\n",
       "  </tbody>\n",
       "</table>\n",
       "</div>"
      ],
      "text/plain": [
       "   Event time (s)  Interval (s)      diff   vitesse  rebond  vitesse_err  \\\n",
       "1        2.919563      0.668104  0.785792  3.854308       1     0.756215   \n",
       "2        3.587667      0.578625  0.668104  3.277051       2     0.642957   \n",
       "3        4.166292      0.509146  0.578625  2.838156       3     0.556846   \n",
       "4        4.675438      0.454750  0.509146  2.497360       4     0.489982   \n",
       "5        5.130187      0.411521  0.454750  2.230549       5     0.437634   \n",
       "\n",
       "   E_cinetique  E_dissipee         k  \n",
       "1     0.742785    0.000000  0.742785  \n",
       "2     0.536953   -0.205831  0.153621  \n",
       "3     0.402756   -0.134197  0.069560  \n",
       "4     0.311840   -0.090916  0.020294  \n",
       "5     0.248767   -0.063073 -0.004775  "
      ]
     },
     "execution_count": 102,
     "metadata": {},
     "output_type": "execute_result"
    }
   ],
   "source": [
    "# on va mesurer le coefficient de restitution d’une balle de ping-pong en la faisant rebondir sur le sol et en mesurant le temps entre chaque rebond\n",
    "# le coefficient de restitution est donné par la formule: k = E_cinetique après rebond / E_cinetique avant rebond\n",
    "\n",
    "# on calcule l'énergie cinétique pour chaque rebond Ec = (1/2) * m * v^2\n",
    "data['E_cinetique'] = (1/2) * m * (data['vitesse'] ** 2)\n",
    "data['E_dissipee'] = np.zeros(len(data)) # helper pour créer une colonne de 0\n",
    "\n",
    "for i in range(2, len(data)):\n",
    "    # df['E_dissipee'] = Ec[i] - Ec'[i-1]\n",
    "    data.loc[i,'E_dissipee'] = (1/2) * m * (data['vitesse'][i] ** 2) - (1/2) * m * (data['vitesse'][i-1] ** 2)\n",
    "\n",
    "# on calcule le coefficient de restitution k\n",
    "data['k'] = data['E_cinetique'] + data['E_dissipee'] / data['E_cinetique']\n",
    "\n",
    "# on affiche les 5 premières lignes\n",
    "data.head()"
   ]
  },
  {
   "attachments": {},
   "cell_type": "markdown",
   "metadata": {},
   "source": [
    "Maintenant, on s'interesse pour calculer l'incertitud sur le coefficient de restitution $K$., on prend en compte l'incertitud sur les mesures de temps. En utilisant l'équation de propagation des erreurs, on obtient:\n",
    "\n",
    "$$ \\Delta K^2 = \\left( \\frac{\\partial K}{\\partial t} \\right)^2 \\Delta t^2  $$ \n",
    "\n",
    "où $\\Delta t$ est l'incertitude sur la mesure de temps, alors on obtient:\n",
    "\n",
    "$$ \\Delta K = \\sqrt{ \\left( \\frac{\\partial K}{\\partial t} \\right)^2 \\Delta t^2 } $$\n",
    "\n",
    "Où, on peut réssoudre l'équation pour déterminer $\\frac{\\partial K}{\\partial t}$:\n",
    "\n",
    "$$ = \\frac{\\partial K}{\\partial t} $$\n",
    "\n",
    "$$ = \\frac{\\partial \\frac{E_c}{E_c'}}{\\partial t} $$\n",
    "\n",
    "Où, $E_c'$ est l'énergie cinetique de la balle dans le rebond $i$. $E_c'$ celle à le rebond $i-1$.\n",
    "\n",
    "$$ = \\frac{\\partial \\frac{\\frac{1}{2} m \\vec{v}^2}{\\frac{1}{2} m \\vec{v'}^2}}{\\partial t} $$\n",
    "\n",
    "Où, $\\vec{v}$ est la vitesse de la balle dans le rebond $i$, et $\\vec{v'}$ celle dans le rebond $i-1$.\n",
    "\n",
    "$$ \\frac{\\partial E_c}{\\partial t} = \\frac{\\partial}{\\partial t}\\left(\\frac{1}{2}m\\vec{v}^2\\right) = m\\vec{v}\\cdot\\frac{\\partial \\vec{v}}{\\partial t} $$\n",
    "\n",
    "et\n",
    "\n",
    "$$ \\frac{\\partial E_c'}{\\partial t} = \\frac{\\partial}{\\partial t}\\left(\\frac{1}{2}m\\vec{v'}^2\\right) = m\\vec{v'}\\cdot\\frac{\\partial \\vec{v'}}{\\partial t} $$\n",
    "\n",
    "Ainsi, on savait que $\\frac{\\partial \\vec{v}}{\\partial t} = -g $, donc:\n",
    "\n",
    "$$ \\frac{\\partial E_c}{\\partial t} = -mg\\vec{v} $$\n",
    "\n",
    "et \n",
    "\n",
    "$$ \\frac{\\partial E_c'}{\\partial t} = -mg\\vec{v'} $$\n",
    "\n",
    "Donc, on obtient:\n",
    "\n",
    "$$ \\Delta K = \\sqrt{ \\left( \\frac{\\vec{v}}{\\vec{v'}} \\right)^2 \\Delta t^2 } $$"
   ]
  },
  {
   "cell_type": "code",
   "execution_count": 103,
   "metadata": {},
   "outputs": [
    {
     "data": {
      "text/html": [
       "<div>\n",
       "<style scoped>\n",
       "    .dataframe tbody tr th:only-of-type {\n",
       "        vertical-align: middle;\n",
       "    }\n",
       "\n",
       "    .dataframe tbody tr th {\n",
       "        vertical-align: top;\n",
       "    }\n",
       "\n",
       "    .dataframe thead th {\n",
       "        text-align: right;\n",
       "    }\n",
       "</style>\n",
       "<table border=\"1\" class=\"dataframe\">\n",
       "  <thead>\n",
       "    <tr style=\"text-align: right;\">\n",
       "      <th></th>\n",
       "      <th>Event time (s)</th>\n",
       "      <th>Interval (s)</th>\n",
       "      <th>diff</th>\n",
       "      <th>vitesse</th>\n",
       "      <th>rebond</th>\n",
       "      <th>vitesse_err</th>\n",
       "      <th>E_cinetique</th>\n",
       "      <th>E_dissipee</th>\n",
       "      <th>k</th>\n",
       "      <th>k_err</th>\n",
       "    </tr>\n",
       "  </thead>\n",
       "  <tbody>\n",
       "    <tr>\n",
       "      <th>1</th>\n",
       "      <td>2.919563</td>\n",
       "      <td>0.668104</td>\n",
       "      <td>0.785792</td>\n",
       "      <td>3.854308</td>\n",
       "      <td>1</td>\n",
       "      <td>0.756215</td>\n",
       "      <td>0.742785</td>\n",
       "      <td>0.000000</td>\n",
       "      <td>0.742785</td>\n",
       "      <td>0.000000</td>\n",
       "    </tr>\n",
       "    <tr>\n",
       "      <th>2</th>\n",
       "      <td>3.587667</td>\n",
       "      <td>0.578625</td>\n",
       "      <td>0.668104</td>\n",
       "      <td>3.277051</td>\n",
       "      <td>2</td>\n",
       "      <td>0.642957</td>\n",
       "      <td>0.536953</td>\n",
       "      <td>-0.205831</td>\n",
       "      <td>0.153621</td>\n",
       "      <td>0.568043</td>\n",
       "    </tr>\n",
       "    <tr>\n",
       "      <th>3</th>\n",
       "      <td>4.166292</td>\n",
       "      <td>0.509146</td>\n",
       "      <td>0.578625</td>\n",
       "      <td>2.838156</td>\n",
       "      <td>3</td>\n",
       "      <td>0.556846</td>\n",
       "      <td>0.402756</td>\n",
       "      <td>-0.134197</td>\n",
       "      <td>0.069560</td>\n",
       "      <td>0.501130</td>\n",
       "    </tr>\n",
       "    <tr>\n",
       "      <th>4</th>\n",
       "      <td>4.675438</td>\n",
       "      <td>0.454750</td>\n",
       "      <td>0.509146</td>\n",
       "      <td>2.497360</td>\n",
       "      <td>4</td>\n",
       "      <td>0.489982</td>\n",
       "      <td>0.311840</td>\n",
       "      <td>-0.090916</td>\n",
       "      <td>0.020294</td>\n",
       "      <td>0.448009</td>\n",
       "    </tr>\n",
       "    <tr>\n",
       "      <th>5</th>\n",
       "      <td>5.130187</td>\n",
       "      <td>0.411521</td>\n",
       "      <td>0.454750</td>\n",
       "      <td>2.230549</td>\n",
       "      <td>5</td>\n",
       "      <td>0.437634</td>\n",
       "      <td>0.248767</td>\n",
       "      <td>-0.063073</td>\n",
       "      <td>-0.004775</td>\n",
       "      <td>0.406166</td>\n",
       "    </tr>\n",
       "  </tbody>\n",
       "</table>\n",
       "</div>"
      ],
      "text/plain": [
       "   Event time (s)  Interval (s)      diff   vitesse  rebond  vitesse_err  \\\n",
       "1        2.919563      0.668104  0.785792  3.854308       1     0.756215   \n",
       "2        3.587667      0.578625  0.668104  3.277051       2     0.642957   \n",
       "3        4.166292      0.509146  0.578625  2.838156       3     0.556846   \n",
       "4        4.675438      0.454750  0.509146  2.497360       4     0.489982   \n",
       "5        5.130187      0.411521  0.454750  2.230549       5     0.437634   \n",
       "\n",
       "   E_cinetique  E_dissipee         k     k_err  \n",
       "1     0.742785    0.000000  0.742785  0.000000  \n",
       "2     0.536953   -0.205831  0.153621  0.568043  \n",
       "3     0.402756   -0.134197  0.069560  0.501130  \n",
       "4     0.311840   -0.090916  0.020294  0.448009  \n",
       "5     0.248767   -0.063073 -0.004775  0.406166  "
      ]
     },
     "execution_count": 103,
     "metadata": {},
     "output_type": "execute_result"
    }
   ],
   "source": [
    "# On calcule l'erreur sur le coefficient de restitution\n",
    "\n",
    "data['k_err'] = np.zeros(len(data)) # helper pour créer une colonne de 0\n",
    "\n",
    "for i in range(2, len(data)):\n",
    "    data.loc[i,'k_err'] = np.sqrt( (data['vitesse'][i] / data['vitesse'][i-1])**2 * (data['diff'][i])**2 )\n",
    "\n",
    "# on affiche les 5 premières lignes\n",
    "data.head()"
   ]
  },
  {
   "cell_type": "code",
   "execution_count": 104,
   "metadata": {},
   "outputs": [
    {
     "data": {
      "image/png": "[encoded data removed]",
      "text/plain": [
       "<Figure size 432x288 with 1 Axes>"
      ]
     },
     "metadata": {
      "needs_background": "light"
     },
     "output_type": "display_data"
    }
   ],
   "source": [
    "plt.errorbar(data['vitesse'], data['k'], yerr=data['k_err'], fmt='o')\n",
    "plt.title('Coefficient de restitution en fonction de la vitesse')\n",
    "plt.xlabel('Vitesse (m/s)')\n",
    "plt.ylabel('Coefficient de restitution')\n",
    "plt.show()"
   ]
  },
  {
   "attachments": {},
   "cell_type": "markdown",
   "metadata": {},
   "source": [
    "L'incertitude sur le coefficient de restitution $K$ montre qu'au début de la chute de la balle de ping-pong, il y a un temps important pour que la vitesse puisse être mesurée malgré le bruit, donc l'énergie cinétique peut être calculée avec précision. Cependant, lorsque la balle commence à rebondir plus rapidement, la précision diminue en raison de la rapidité des rebonds. Par conséquent, le calcul de l'énergie cinétique et du coefficient de restitution devient de plus en plus difficile."
   ]
  },
  {
   "attachments": {},
   "cell_type": "markdown",
   "metadata": {},
   "source": [
    "### Comparaison avec les résultats de QExPy"
   ]
  },
  {
   "attachments": {},
   "cell_type": "markdown",
   "metadata": {},
   "source": [
    "Maintent, à l'aide du module [QuexPy](https://qexpy.readthedocs.io/en/latest/intro.html) on peut calculer l'incertitude sur les valeurs de $\\vec{v}$."
   ]
  },
  {
   "cell_type": "code",
   "execution_count": 105,
   "metadata": {},
   "outputs": [
    {
     "name": "stdout",
     "output_type": "stream",
     "text": [
      "Vitesses =  vitesse = [ 3.9 +/- 0.8, 3.3 +/- 0.6, 2.8 +/- 0.6, 2.5 +/- 0.5, 2.2 +/- 0.4, 2.0 +/- 0.4, 1.8 +/- 0.4, 1.7 +/- 0.3, 1.5 +/- 0.3, 1.4 +/- 0.3, 1.3 +/- 0.3, 1.2 +/- 0.2, 1.1 +/- 0.2, 1.0 +/- 0.2, 1.0 +/- 0.2, 0.9 +/- 0.2, 0.8 +/- 0.2, 0.8 +/- 0.1, 0.7 +/- 0.1, 0.7 +/- 0.1, 0.6 +/- 0.1, 0.6 +/- 0.1, 0.5 +/- 0.1, 0.8 +/- 0.2 ] (m⋅s^-1)\n"
     ]
    }
   ],
   "source": [
    "# On fait la conversion en array pour qexpy \n",
    "vitesse = data['vitesse'].to_numpy()\n",
    "vitesse_err = data['vitesse_err'].to_numpy()\n",
    "# On crée un array de mesure de vitesse\n",
    "vitesse_mes=qexpy.MeasurementArray(vitesse, error=vitesse_err, unit=\"m/s\", name=\"vitesse\")\n",
    "# On affiche les mesures\n",
    "print(\"Vitesses = \", vitesse_mes)"
   ]
  },
  {
   "cell_type": "code",
   "execution_count": 106,
   "metadata": {},
   "outputs": [
    {
     "data": {
      "image/png": "[encoded data removed]",
      "text/plain": [
       "<Figure size 432x288 with 1 Axes>"
      ]
     },
     "metadata": {
      "needs_background": "light"
     },
     "output_type": "display_data"
    }
   ],
   "source": [
    "plt.errorbar(data['rebond'], vitesse_mes.values, yerr=vitesse_mes.errors, fmt='o')\n",
    "plt.title('Vitesse de la balle en fonction du nombre du rebond avec QexPY')\n",
    "plt.xlabel('Rebonds')\n",
    "plt.ylabel('Vitesse (m/s)')\n",
    "plt.show()"
   ]
  },
  {
   "cell_type": "code",
   "execution_count": 113,
   "metadata": {},
   "outputs": [
    {
     "name": "stdout",
     "output_type": "stream",
     "text": [
      "L'erreur sur la vitesse est égale à l'erreur sur la vitesse avec QexPY:  True\n"
     ]
    }
   ],
   "source": [
    "\n",
    "def vitesse_error_compare(data, vitesse_mes):\n",
    "    \"\"\"\n",
    "    Cette fonction compare l'erreur sur la vitesse avec QexPY et l'erreur sur la vitesse calculée à la main\n",
    "    \"\"\"\n",
    "    for i in range(1, len(data)):\n",
    "        if vitesse_mes.errors[i] == data['vitesse_err'][i+1]:\n",
    "            return True\n",
    "    return False\n",
    "\n",
    "print(\"L'erreur sur la vitesse est égale à l'erreur sur la vitesse avec QexPY: \", vitesse_error_compare(data, vitesse_mes))"
   ]
  },
  {
   "attachments": {},
   "cell_type": "markdown",
   "metadata": {},
   "source": [
    "On remarque que l'incertitude trouvé à l'aide de `QuexPy` et celle trouvé à l'aide de la formule de propagation des erreurs sont les mêmes."
   ]
  },
  {
   "attachments": {},
   "cell_type": "markdown",
   "metadata": {},
   "source": [
    "### Extraction d’une erreur statistique sur les coefficients de restitution"
   ]
  },
  {
   "cell_type": "code",
   "execution_count": 125,
   "metadata": {},
   "outputs": [
    {
     "name": "stdout",
     "output_type": "stream",
     "text": [
      "Nombre de fichiers lus:  3\n"
     ]
    },
    {
     "data": {
      "image/png": "[encoded data removed]",
      "text/plain": [
       "<Figure size 1080x360 with 2 Axes>"
      ]
     },
     "metadata": {
      "needs_background": "light"
     },
     "output_type": "display_data"
    }
   ],
   "source": [
    "# on crée une liste vide pour stocker les données\n",
    "data_list = []\n",
    "\n",
    "# on crée une liste de tous les fichiers à lire\n",
    "dataset_list = ['./Acoustic Stopwatch_2023-03-07_15-26-31/All.csv', './Acoustic Stopwatch_2023-03-07_15-27-22/All.csv', './Acoustic Stopwatch_2023-03-07_15-24-18/All.csv']\n",
    "\n",
    "fig, (ax1,ax2) = plt.subplots(1,2, figsize=(15,5))\n",
    "\n",
    "# on lit tous les fichiers\n",
    "for dataset in dataset_list:\n",
    "    data = pd.read_csv(dataset, sep=',')\n",
    "    data['diff'] = data['Event time (s)'].diff()\n",
    "    # on supprime la première ligne qui est NaN\n",
    "    data = data.dropna()\n",
    "    \n",
    "    # On calcule le nombre du rebond\n",
    "    data['rebond'] = np.arange(1, len(data)+1)\n",
    "    # on calcule la vitesse\n",
    "    data['vitesse'] = g * data['diff'] / 2\n",
    "\n",
    "    ax1.plot(data['rebond'], data['vitesse'], 'o', label=dataset)\n",
    "    ax1.set_title('Vitesse de la balle en fonction du nombre du rebond')\n",
    "    ax1.set_xlabel('Rebonds')\n",
    "    ax1.set_ylabel('Vitesse (m/s)')\n",
    "\n",
    "    # On calcule K\n",
    "    data['E_cinetique'] = (1/2) * m * (data['vitesse'] ** 2)\n",
    "    data['E_dissipee'] = np.zeros(len(data)) # helper pour créer une colonne de 0\n",
    "    \n",
    "    for i in range(2, len(data)):\n",
    "        # df['E_dissipee'] = Ec[i] - Ec'[i-1]\n",
    "        data.loc[i,'E_dissipee'] = (1/2) * m * (data['vitesse'][i] ** 2) - (1/2) * m * (data['vitesse'][i-1] ** 2)\n",
    "\n",
    "    # on calcule le coefficient de restitution k\n",
    "    data['k'] = data['E_cinetique'] + data['E_dissipee'] / data['E_cinetique']\n",
    "\n",
    "    # on calcule l'erreur sur le coefficient de restitution\n",
    "    data['k_err'] = np.zeros(len(data)) # helper pour créer une colonne de 0\n",
    "    for i in range(2, len(data)):\n",
    "        data.loc[i,'k_err'] = np.sqrt( (data['vitesse'][i] / data['vitesse'][i-1])**2 * (data['diff'][i])**2 )\n",
    "\n",
    "    # On trace ax.plot( data['vitesse'], data['k'], 'o')\n",
    "    ax2.errorbar(data['vitesse'], data['k'], yerr=data['k_err'], fmt='o')\n",
    "    ax2.set_title('Coefficient de restitution en fonction de la vitesse')\n",
    "    ax2.set_xlabel('Vitesse (m/s)')\n",
    "    ax2.set_ylabel('Coefficient de restitution K')\n",
    "\n",
    "    # on ajoute les données à la liste\n",
    "    data_list.append(data)\n",
    "\n",
    "# length of the list\n",
    "data_list_len = len(data_list)\n",
    "print(\"Nombre de fichiers lus: \", data_list_len)"
   ]
  },
  {
   "cell_type": "code",
   "execution_count": 165,
   "metadata": {},
   "outputs": [
    {
     "name": "stdout",
     "output_type": "stream",
     "text": [
      "Moyenne des valeurs de K = 'mean of K = -0.03 +/- 0.04'\n",
      "Incertitude sur la moyenne des valeurs de K = 0.042\n",
      "Incertitude combinée sur toutes les mesures de K = 0.299\n"
     ]
    }
   ],
   "source": [
    "k_list = list()\n",
    "k_err_list = list()\n",
    "for i in range(1, len(data_list)):\n",
    "    k = data_list[i]['k']\n",
    "    k_err = data_list[i]['k_err']\n",
    "    k_list.append(k.to_numpy())\n",
    "    k_err_list.append(k_err.to_numpy())\n",
    "\n",
    "## flat list\n",
    "k_list = [item for sublist in k_list for item in sublist]\n",
    "k_err_list = [item for sublist in k_err_list for item in sublist]\n",
    "\n",
    "# Calcul de la moyenne et de l'écart type des valeurs de K\n",
    "K_values = qexpy.MeasurementArray(k_list, error=k_err_list, unit=\"\", name=\"K\")\n",
    "K_mean = qexpy.mean(K_values)\n",
    "K_std = np.std(K_values, ddof=1)\n",
    "\n",
    "# Calcul de l'incertitude sur la moyenne des valeurs de K\n",
    "delta_K_mean = K_std / qexpy.sqrt(len(K_values))\n",
    "\n",
    "# Affichage des résultats\n",
    "print(\"Moyenne des valeurs de K = '{}'\".format(K_mean))\n",
    "print(\"Incertitude sur la moyenne des valeurs de K = {:.3f}\".format(delta_K_mean))\n",
    "print(\"Incertitude combinée sur toutes les mesures de K = {:.3f}\".format(K_std))"
   ]
  },
  {
   "attachments": {},
   "cell_type": "markdown",
   "metadata": {},
   "source": [
    "On voit que à partir de toutes les mesures, on obtient une distribution de valeurs pour le coefficient de restitution $K$ avec une valeur moyenne de `-0.03`et une incertitude de `0.042`. Aussi on a calculé l'incertitude combinée sur l'écart-type de la distribution de valeurs de $K \\pm 0.299 $.\n",
    "\n",
    "Pour faire l'analyse de mesures on a utilisé le module [MonteCarloSettings](https://qexpy.readthedocs.io/en/latest/_modules/qexpy/data/utils.html#MonteCarloSettings) de `QuexPy`. Ce module permet de faire l'analyse de mesures en utilisant la méthode de Monte Carlo (qui qui permet de propager l'incertitude associée à des mesures individuelles à des fonctions mathématiques complexes). On peut utiliser ce module pour calculer l'incertitude sur les coefficients de restitution $K$. "
   ]
  },
  {
   "attachments": {},
   "cell_type": "markdown",
   "metadata": {},
   "source": [
    "### Conclusion"
   ]
  },
  {
   "attachments": {},
   "cell_type": "markdown",
   "metadata": {},
   "source": [
    "Un exemple simple comme la chute d'une balle de ping-pong montre que l'incertitude sur les mesures de temps peut avoir un impact important sur l'incertitude sur le coefficient de restitution. On a calculé l'incertitude sur la vitesse de la balle à l'aide de la formule de propagation des erreurs et à l'aide du module [QuexPy](https://qexpy.readthedocs.io/en/latest/intro.html). On a remarqué que les deux méthodes donnent les mêmes résultats. \n",
    "\n",
    "L'analyse des énergies cinetiques avant et après le rebond montre qu'on peut obtenir le rapport de restitution $K$ qui va nous permettre d'obtenir la fiabilité du modèle. La bibliothéque QuexPy permet aussi faire l'analyse des erreurs statistiques à l'aide de la méthode de Monte Carlo, cependant, il manqué des mesures pour obtenir un résultat fiable."
   ]
  }
 ],
 "metadata": {
  "kernelspec": {
   "display_name": "base",
   "language": "python",
   "name": "python3"
  },
  "language_info": {
   "codemirror_mode": {
    "name": "ipython",
    "version": 3
   },
   "file_extension": ".py",
   "mimetype": "text/x-python",
   "name": "python",
   "nbconvert_exporter": "python",
   "pygments_lexer": "ipython3",
   "version": "3.9.5"
  },
  "orig_nbformat": 4
 },
 "nbformat": 4,
 "nbformat_minor": 2
}
