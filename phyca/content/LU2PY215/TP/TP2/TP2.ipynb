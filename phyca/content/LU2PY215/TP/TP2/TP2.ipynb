{
 "cells": [
  {
   "attachments": {},
   "cell_type": "markdown",
   "metadata": {},
   "source": [
    "# TP2 : Mesure du coefficient de rebond d’une balle\n",
    "### Auteur : ARGUELLO Camilo"
   ]
  },
  {
   "attachments": {},
   "cell_type": "markdown",
   "metadata": {},
   "source": [
    "### Introduction\n",
    "\n",
    "L'objectif de ce TP est d'étudier le coefficient de restitution d'une balle de ping-pong lors qu'elle chute et rebond contre le sol. En particulier, à partir des données des temps prises par notre téléphone et l'application [PhyPhox](https://phyphox.org). Où, on pourra mésurer les temps de rebond de la balle. Pour évaluer notre modèle, on introduira les notions des incertitudes des erreurs systématiques ainsi que des erreurs statistiques liées à la mesure.\n",
    "\n",
    "L'analyse est faite avec [Python](https://python.org) en utilisant les modules [numpy](https://numpy.org/), [pandas](https://pandas.pydata.org/) et [matplotlib](https://matplotlib.org/)."
   ]
  },
  {
   "cell_type": "code",
   "execution_count": 1,
   "metadata": {},
   "outputs": [],
   "source": [
    "import numpy as np\n",
    "import matplotlib.pyplot as plt\n",
    "import pandas as pd\n",
    "import qexpy"
   ]
  },
  {
   "attachments": {},
   "cell_type": "markdown",
   "metadata": {},
   "source": [
    "### Mesure des rebonds de la balle et extraction d'une mesure du coefficient de restitution\n",
    "\n",
    "Dans un prémièr temps on réalise les mesures où le protocole expérimental suivi consiste dans 3 parties: \n",
    "\n",
    "**1. Choix du lieu**\n",
    "\n",
    "L'objectif est de réaliser l'expérience dans un endroit silencieux. On se place dans une pièce au sol en parquet. À l'aide d'un mètre on mesure l'hauteur initiale d'environ $h_0 = 1\\text{ m} \\pm 0.01\\text{ m}$.\n",
    "\n",
    "**2. Réglages PhyPhox**\n",
    "\n",
    "Dans l'application `Phyphox`, on cherche la section `Acoustic Stopwatch`, dans l'onglet `Simple`, on règle le seuil de détection à $0.1\\text{ m/s}$. Avec un délai de $0.1\\text{ s}$. Même s'il endroit il est silencieux, le bruit produit par la balle de ping-pong n'est pas assez fort pour que l'application puisse le détecter.\n",
    "\n",
    "**3. Mesure de temps**\n",
    "\n",
    "Nous avons mesuré les temps de rebond de la balle de ping-pong qui tombe depuis une hauteur $h_0$. La balle de ping-pong a une masse de $0.1\\text{ kg}$. Nous avons pris trois fois les mesures de temps de rebond. Les données sont dans le fichier `All.csv`. \n",
    "\n",
    "Nous pouvons estimer visuellement le comportement des rebonds de la balle de ping pong en fonction du temps, pour chaque rebond l'application mésure un évenement.\n",
    "\n",
    "![Chute d'une balle de ping pong](./h_t.jpg \"h_t\")\n"
   ]
  },
  {
   "cell_type": "code",
   "execution_count": 2,
   "metadata": {},
   "outputs": [],
   "source": [
    "# Constantes\n",
    "\n",
    "g=9.81 # m/s2\n",
    "m=0.10 # kg (masse d'une balle de ping-pong)\n",
    "h_0=1.0 # m (hauteur initiale)"
   ]
  },
  {
   "cell_type": "code",
   "execution_count": 3,
   "metadata": {},
   "outputs": [
    {
     "data": {
      "text/html": [
       "<div>\n",
       "<style scoped>\n",
       "    .dataframe tbody tr th:only-of-type {\n",
       "        vertical-align: middle;\n",
       "    }\n",
       "\n",
       "    .dataframe tbody tr th {\n",
       "        vertical-align: top;\n",
       "    }\n",
       "\n",
       "    .dataframe thead th {\n",
       "        text-align: right;\n",
       "    }\n",
       "</style>\n",
       "<table border=\"1\" class=\"dataframe\">\n",
       "  <thead>\n",
       "    <tr style=\"text-align: right;\">\n",
       "      <th></th>\n",
       "      <th>Event time (s)</th>\n",
       "      <th>Interval (s)</th>\n",
       "    </tr>\n",
       "  </thead>\n",
       "  <tbody>\n",
       "    <tr>\n",
       "      <th>0</th>\n",
       "      <td>2.133771</td>\n",
       "      <td>0.785792</td>\n",
       "    </tr>\n",
       "    <tr>\n",
       "      <th>1</th>\n",
       "      <td>2.919563</td>\n",
       "      <td>0.668104</td>\n",
       "    </tr>\n",
       "    <tr>\n",
       "      <th>2</th>\n",
       "      <td>3.587667</td>\n",
       "      <td>0.578625</td>\n",
       "    </tr>\n",
       "    <tr>\n",
       "      <th>3</th>\n",
       "      <td>4.166292</td>\n",
       "      <td>0.509146</td>\n",
       "    </tr>\n",
       "    <tr>\n",
       "      <th>4</th>\n",
       "      <td>4.675438</td>\n",
       "      <td>0.454750</td>\n",
       "    </tr>\n",
       "  </tbody>\n",
       "</table>\n",
       "</div>"
      ],
      "text/plain": [
       "   Event time (s)  Interval (s)\n",
       "0        2.133771      0.785792\n",
       "1        2.919563      0.668104\n",
       "2        3.587667      0.578625\n",
       "3        4.166292      0.509146\n",
       "4        4.675438      0.454750"
      ]
     },
     "execution_count": 3,
     "metadata": {},
     "output_type": "execute_result"
    }
   ],
   "source": [
    "# On ajoute le fichier All.csv\n",
    "data = pd.read_csv('./Acoustic Stopwatch_2024-03-07_15-24-18/All.csv', sep=',')\n",
    "# On affiche les 5 premières lignes\n",
    "data.head()"
   ]
  },
  {
   "attachments": {},
   "cell_type": "markdown",
   "metadata": {},
   "source": [
    "Les deux colonnes affichés contiennent l'information liée à:\n",
    "- `Event time (s)` le temps en seconds de déclénchement à partir des conditions initales comme le bruit au moment de faire l'expériment. On rélatione un rebond comme un évènement.\n",
    "- `Interval (s)` qui corresponde au temps en seconds de l'interval entre chaque rebond. "
   ]
  },
  {
   "attachments": {},
   "cell_type": "markdown",
   "metadata": {},
   "source": [
    "\n",
    "Notre objectif en première terme c'est de calculer la différence de temps entre chaque rebond, cela va nous permettre de vérifier si l'information qu'on a mesuré est correcte, c'est-à-dire que le bruit n'a pas afecté la prise de mesures.\n",
    "\n",
    "On va ajouter une nouvelle colonne appelée `diff` avec les informations de différence entre chaque évenement en seconds."
   ]
  },
  {
   "cell_type": "code",
   "execution_count": 4,
   "metadata": {},
   "outputs": [
    {
     "data": {
      "text/html": [
       "<div>\n",
       "<style scoped>\n",
       "    .dataframe tbody tr th:only-of-type {\n",
       "        vertical-align: middle;\n",
       "    }\n",
       "\n",
       "    .dataframe tbody tr th {\n",
       "        vertical-align: top;\n",
       "    }\n",
       "\n",
       "    .dataframe thead th {\n",
       "        text-align: right;\n",
       "    }\n",
       "</style>\n",
       "<table border=\"1\" class=\"dataframe\">\n",
       "  <thead>\n",
       "    <tr style=\"text-align: right;\">\n",
       "      <th></th>\n",
       "      <th>Event time (s)</th>\n",
       "      <th>Interval (s)</th>\n",
       "      <th>diff</th>\n",
       "    </tr>\n",
       "  </thead>\n",
       "  <tbody>\n",
       "    <tr>\n",
       "      <th>1</th>\n",
       "      <td>2.919563</td>\n",
       "      <td>0.668104</td>\n",
       "      <td>0.785792</td>\n",
       "    </tr>\n",
       "    <tr>\n",
       "      <th>2</th>\n",
       "      <td>3.587667</td>\n",
       "      <td>0.578625</td>\n",
       "      <td>0.668104</td>\n",
       "    </tr>\n",
       "    <tr>\n",
       "      <th>3</th>\n",
       "      <td>4.166292</td>\n",
       "      <td>0.509146</td>\n",
       "      <td>0.578625</td>\n",
       "    </tr>\n",
       "    <tr>\n",
       "      <th>4</th>\n",
       "      <td>4.675438</td>\n",
       "      <td>0.454750</td>\n",
       "      <td>0.509146</td>\n",
       "    </tr>\n",
       "    <tr>\n",
       "      <th>5</th>\n",
       "      <td>5.130187</td>\n",
       "      <td>0.411521</td>\n",
       "      <td>0.454750</td>\n",
       "    </tr>\n",
       "  </tbody>\n",
       "</table>\n",
       "</div>"
      ],
      "text/plain": [
       "   Event time (s)  Interval (s)      diff\n",
       "1        2.919563      0.668104  0.785792\n",
       "2        3.587667      0.578625  0.668104\n",
       "3        4.166292      0.509146  0.578625\n",
       "4        4.675438      0.454750  0.509146\n",
       "5        5.130187      0.411521  0.454750"
      ]
     },
     "execution_count": 4,
     "metadata": {},
     "output_type": "execute_result"
    }
   ],
   "source": [
    "## Pour la première colonne, on calcule la différence de temps entre deux événements\n",
    "\n",
    "# on calcule la différence de temps entre deux événements\n",
    "data['diff'] = data['Event time (s)'].diff()\n",
    "# on supprime la première ligne qui est NaN\n",
    "data = data.dropna()\n",
    "# on affiche les 5 premières lignes\n",
    "data.head()"
   ]
  },
  {
   "cell_type": "code",
   "execution_count": 5,
   "metadata": {},
   "outputs": [
    {
     "name": "stdout",
     "output_type": "stream",
     "text": [
      "La difference de temps est égale à l'intervalle 'Event time (s)':  True\n"
     ]
    }
   ],
   "source": [
    "# on verifie que la diff est égale à la colonne Interval (s) \n",
    "# Il faut comparer les lignes de cette façon:\n",
    "# ligne 2: data['diff'] avec ligne 1: data['Interval (s)']\n",
    "# ligne 3: data['diff'] avec ligne 2: data['Interval (s)']\n",
    "# ligne 4: data['diff'] avec ligne 3: data['Interval (s)']\n",
    "# etc.\n",
    "\n",
    "def interval_diff_compare(data):\n",
    "    for i in range(1, len(data)):\n",
    "        if round(data['diff'][i+1], 2) != round(data['Interval (s)'][i], 2):\n",
    "            return False\n",
    "    return True\n",
    "\n",
    "# on verifie que la diff est égale à la colonne Interval (s)\n",
    "print(\"La difference de temps est égale à l'intervalle 'Event time (s)': \", interval_diff_compare(data))\n"
   ]
  },
  {
   "attachments": {},
   "cell_type": "markdown",
   "metadata": {},
   "source": [
    "On a bien la confirmation que les intervalles des événements calculés par `Phyphox` sont corrects.\n",
    "\n",
    "Maintenant, on s'intéresse à calculer la vitesse entre chaque rebond selon la rélation:\n",
    "\n",
    "$$ v_i = \\frac{g \\ T_i}{2} $$ \n",
    "\n",
    "Où, $g$ c'est la gravité et $T_i$ est l'intervalle de temps, dans notre cas la colonne `diff`.\n",
    "\n",
    "Pour cela on ajoute une nouvelle colonne `vitesse` dans notre tableau. Et on fait une représentation graphique en fonction du rebound $i$. Vu la rélation directe ntre $T_i$ et $v_i$, comme $T_i$ diminue, alors on peut s'attendre à une diminution de la vitesse entre chaque rebond."
   ]
  },
  {
   "cell_type": "code",
   "execution_count": 6,
   "metadata": {},
   "outputs": [
    {
     "data": {
      "text/html": [
       "<div>\n",
       "<style scoped>\n",
       "    .dataframe tbody tr th:only-of-type {\n",
       "        vertical-align: middle;\n",
       "    }\n",
       "\n",
       "    .dataframe tbody tr th {\n",
       "        vertical-align: top;\n",
       "    }\n",
       "\n",
       "    .dataframe thead th {\n",
       "        text-align: right;\n",
       "    }\n",
       "</style>\n",
       "<table border=\"1\" class=\"dataframe\">\n",
       "  <thead>\n",
       "    <tr style=\"text-align: right;\">\n",
       "      <th></th>\n",
       "      <th>Event time (s)</th>\n",
       "      <th>Interval (s)</th>\n",
       "      <th>diff</th>\n",
       "      <th>vitesse</th>\n",
       "    </tr>\n",
       "  </thead>\n",
       "  <tbody>\n",
       "    <tr>\n",
       "      <th>1</th>\n",
       "      <td>2.919563</td>\n",
       "      <td>0.668104</td>\n",
       "      <td>0.785792</td>\n",
       "      <td>3.854308</td>\n",
       "    </tr>\n",
       "    <tr>\n",
       "      <th>2</th>\n",
       "      <td>3.587667</td>\n",
       "      <td>0.578625</td>\n",
       "      <td>0.668104</td>\n",
       "      <td>3.277051</td>\n",
       "    </tr>\n",
       "    <tr>\n",
       "      <th>3</th>\n",
       "      <td>4.166292</td>\n",
       "      <td>0.509146</td>\n",
       "      <td>0.578625</td>\n",
       "      <td>2.838156</td>\n",
       "    </tr>\n",
       "    <tr>\n",
       "      <th>4</th>\n",
       "      <td>4.675438</td>\n",
       "      <td>0.454750</td>\n",
       "      <td>0.509146</td>\n",
       "      <td>2.497360</td>\n",
       "    </tr>\n",
       "    <tr>\n",
       "      <th>5</th>\n",
       "      <td>5.130187</td>\n",
       "      <td>0.411521</td>\n",
       "      <td>0.454750</td>\n",
       "      <td>2.230549</td>\n",
       "    </tr>\n",
       "  </tbody>\n",
       "</table>\n",
       "</div>"
      ],
      "text/plain": [
       "   Event time (s)  Interval (s)      diff   vitesse\n",
       "1        2.919563      0.668104  0.785792  3.854308\n",
       "2        3.587667      0.578625  0.668104  3.277051\n",
       "3        4.166292      0.509146  0.578625  2.838156\n",
       "4        4.675438      0.454750  0.509146  2.497360\n",
       "5        5.130187      0.411521  0.454750  2.230549"
      ]
     },
     "execution_count": 6,
     "metadata": {},
     "output_type": "execute_result"
    }
   ],
   "source": [
    "## Calcul de la vitesse entre chaque rebond grâce à la formule v_i = g * T_i / 2\n",
    "data['vitesse'] = g * data['diff'] / 2\n",
    "# on affiche les 5 premières lignes\n",
    "data.head()"
   ]
  },
  {
   "cell_type": "code",
   "execution_count": 7,
   "metadata": {},
   "outputs": [],
   "source": [
    "# On calcule le nombre du rebond\n",
    "data['rebond'] = np.arange(1, len(data)+1)"
   ]
  },
  {
   "cell_type": "code",
   "execution_count": 8,
   "metadata": {},
   "outputs": [
    {
     "data": {
      "image/png": "[encoded data removed]",
      "text/plain": [
       "<Figure size 432x288 with 1 Axes>"
      ]
     },
     "metadata": {
      "needs_background": "light"
     },
     "output_type": "display_data"
    }
   ],
   "source": [
    "# On trace la vitesse de la balle en fonction du nombre du rebond\n",
    "plt.plot(data['rebond'], data['vitesse'], '+')\n",
    "plt.title('Vitesse de la balle en fonction du nombre du rebond')\n",
    "plt.xlabel('Numéro du rebond')\n",
    "plt.ylabel('Vitesse (m/s)')\n",
    "plt.grid()\n",
    "plt.show()"
   ]
  },
  {
   "cell_type": "markdown",
   "metadata": {},
   "source": [
    "On a bien vérifié une diminution de la vitesse en fonction du nombre de rebonds. Pourtant, les temps de mesures vers la fin on augmenté, cela dû à du bruit enregistré lors des derniers rebonds. Alors on peut donc excluire les valeurs du bruit à partir de $i > 23$ selon le tableau des vitesses."
   ]
  },
  {
   "cell_type": "code",
   "execution_count": 9,
   "metadata": {},
   "outputs": [
    {
     "data": {
      "text/html": [
       "<div>\n",
       "<style scoped>\n",
       "    .dataframe tbody tr th:only-of-type {\n",
       "        vertical-align: middle;\n",
       "    }\n",
       "\n",
       "    .dataframe tbody tr th {\n",
       "        vertical-align: top;\n",
       "    }\n",
       "\n",
       "    .dataframe thead th {\n",
       "        text-align: right;\n",
       "    }\n",
       "</style>\n",
       "<table border=\"1\" class=\"dataframe\">\n",
       "  <thead>\n",
       "    <tr style=\"text-align: right;\">\n",
       "      <th></th>\n",
       "      <th>Event time (s)</th>\n",
       "      <th>Interval (s)</th>\n",
       "      <th>diff</th>\n",
       "      <th>vitesse</th>\n",
       "      <th>rebond</th>\n",
       "    </tr>\n",
       "  </thead>\n",
       "  <tbody>\n",
       "    <tr>\n",
       "      <th>19</th>\n",
       "      <td>8.647312</td>\n",
       "      <td>0.144646</td>\n",
       "      <td>0.147646</td>\n",
       "      <td>0.724203</td>\n",
       "      <td>19</td>\n",
       "    </tr>\n",
       "    <tr>\n",
       "      <th>20</th>\n",
       "      <td>8.791958</td>\n",
       "      <td>0.127479</td>\n",
       "      <td>0.144646</td>\n",
       "      <td>0.709488</td>\n",
       "      <td>20</td>\n",
       "    </tr>\n",
       "    <tr>\n",
       "      <th>21</th>\n",
       "      <td>8.919438</td>\n",
       "      <td>0.117313</td>\n",
       "      <td>0.127479</td>\n",
       "      <td>0.625285</td>\n",
       "      <td>21</td>\n",
       "    </tr>\n",
       "    <tr>\n",
       "      <th>22</th>\n",
       "      <td>9.036750</td>\n",
       "      <td>0.110271</td>\n",
       "      <td>0.117312</td>\n",
       "      <td>0.575418</td>\n",
       "      <td>22</td>\n",
       "    </tr>\n",
       "    <tr>\n",
       "      <th>23</th>\n",
       "      <td>9.147021</td>\n",
       "      <td>0.171437</td>\n",
       "      <td>0.110271</td>\n",
       "      <td>0.540878</td>\n",
       "      <td>23</td>\n",
       "    </tr>\n",
       "  </tbody>\n",
       "</table>\n",
       "</div>"
      ],
      "text/plain": [
       "    Event time (s)  Interval (s)      diff   vitesse  rebond\n",
       "19        8.647312      0.144646  0.147646  0.724203      19\n",
       "20        8.791958      0.127479  0.144646  0.709488      20\n",
       "21        8.919438      0.117313  0.127479  0.625285      21\n",
       "22        9.036750      0.110271  0.117312  0.575418      22\n",
       "23        9.147021      0.171437  0.110271  0.540878      23"
      ]
     },
     "execution_count": 9,
     "metadata": {},
     "output_type": "execute_result"
    }
   ],
   "source": [
    "## i jusqu'à 23\n",
    "data = data.iloc[:23]\n",
    "\n",
    "data.tail()"
   ]
  },
  {
   "attachments": {},
   "cell_type": "markdown",
   "metadata": {},
   "source": [
    "De même, si on analyse la rélation d'energie potentielle de la balle:\n",
    "\n",
    "$$ E_p = m g h_i $$\n",
    "\n",
    "Avec $m$ la masse, $h$ la hauteur de la balle. Si on **diminue** la hauteur, alors l'énergie potentielle sera aussi diminuée.\n",
    "\n",
    "À chaque mouvement on sait que l'énergie potentielle se transforme en énergie cinetique, donc:\n",
    "\n",
    "$$ E_c = \\frac{1}{2}  m  \\vec{v}^2 $$\n",
    "\n",
    "$$ \\vec{v} = \\sqrt{\\frac{2  E_c}{m}} $$\n",
    "\n",
    "Si la $E_c$ diminue, la vitesse diminuera également."
   ]
  },
  {
   "attachments": {},
   "cell_type": "markdown",
   "metadata": {},
   "source": [
    "On considère maintenant l'effet que nos mesures ne sont pas infinitement précises, car dû à des erreurs systématiques (déclenchement du bruit, précision de la mesure, etc.) on a un erreur d'environ $\\pm 10\\text{ ms}$ proposé par l'enonncé.\n",
    "\n",
    "Pour calculer l'incertitud sur la vitesse, on prend en compte les incertitudes sur les mesures de temps et l'hauter $h_0$. En utilisant l'équation de propagation des erreurs, on obtient:\n",
    "\n",
    "$$ \\Delta \\vec{v}^2 = \\left( \\frac{\\partial \\vec{v}}{\\partial t} \\right)^2 \\Delta t^2 + \\left( \\frac{\\partial \\vec{v}}{\\partial h} \\right)^2 \\Delta h^2 + 2 \\frac{\\partial \\vec{v}}{\\partial t} \\frac{\\partial \\vec{v}}{\\partial h} cov(t,h) $$ \n",
    "\n",
    "où $\\Delta t$ et $\\Delta h$ sont les incertitudes sur les mesures de temps et de hauteur respectivement. On a aussi $cov(t,h)$ qui est la covariance entre les mesures de temps et de la hauteur.\n",
    "\n",
    "De même, on utilise l'équation de la de la chute libre :\n",
    "\n",
    "$$h = h_0 + v_0t - \\frac{1}{2}gt^2$$\n",
    "\n",
    "D'où on obtient:\n",
    "\n",
    "$$\\frac{\\partial \\vec{v}}{\\partial t} = -g \\quad \\frac{\\partial \\vec{v}}{\\partial h} = 0$$"
   ]
  },
  {
   "attachments": {},
   "cell_type": "markdown",
   "metadata": {},
   "source": [
    "En utilisant la formule de propagation des erreurs et en vérifient que la  covariance entre les mesures de temps et de hauteur est `nulle`, on obtient:\n",
    "\n",
    "$$ \\Delta \\vec{v}^2 = \\frac{1}{2} \\left( -g \\right)^2 \\Delta t^2 $$\n",
    "\n",
    "Ainsi, l'incertitude sur la vitesse peut être calculée comme:\n",
    "\n",
    "$$ \\Delta \\vec{v} = \\frac{\\sqrt{ \\left( -g \\right)^2 \\Delta t^2 }}{\\sqrt{2}} $$\n",
    "\n",
    "$$ \\Delta \\vec{v} = \\frac{g \\Delta t}{\\sqrt{2}} $$\n",
    "\n",
    "En substituant les valeurs numériques, on obtient:\n",
    "\n",
    "$$ \\Delta \\vec{v} = \\frac{9.81 \\times 0.01}{\\sqrt{2}} = 0.069 \\text{ m/s} $$\n",
    "\n",
    "D'où on peut propager l'incertitude sur $v \\pm 0.069\\text{ m/s}$ à partir de cette formule et adapter la représentation graphique avec l'outil matplotlib et la fonction `errorbar`. \n"
   ]
  },
  {
   "cell_type": "code",
   "execution_count": 10,
   "metadata": {},
   "outputs": [
    {
     "name": "stdout",
     "output_type": "stream",
     "text": [
      "L'incertude maximale sur la vitesse pour chaque rebound est: 0.069 m/s\n"
     ]
    }
   ],
   "source": [
    "# on calcule l'erreur sur la vitesse selon \\sqrt{ \\left( -g \\right)^2 \\Delta t^2 }\n",
    "delta_t = .01 # s\n",
    "erreur_vitesse = g * delta_t / np.sqrt(2)\n",
    "data['vitesse_err'] = erreur_vitesse\n",
    "print(\"L'incertude maximale sur la vitesse pour chaque rebound est: {:.3f} m/s\".format(erreur_vitesse))"
   ]
  },
  {
   "cell_type": "code",
   "execution_count": 11,
   "metadata": {},
   "outputs": [
    {
     "data": {
      "image/png": "[encoded data removed]",
      "text/plain": [
       "<Figure size 504x504 with 1 Axes>"
      ]
     },
     "metadata": {
      "needs_background": "light"
     },
     "output_type": "display_data"
    }
   ],
   "source": [
    "# On trace la vitesse de la balle en fonction du numéro du rebond\n",
    "\n",
    "plt.figure(figsize = (7, 7))\n",
    "plt.errorbar(data['rebond'], data['vitesse'], yerr=data['vitesse_err'], fmt='o')\n",
    "plt.title('Vitesse de la balle en fonction du numéro du rebond')\n",
    "plt.xlabel('Numéro du rebond')\n",
    "plt.ylabel('Vitesse (m/s)')\n",
    "plt.grid()\n",
    "plt.show()"
   ]
  },
  {
   "attachments": {},
   "cell_type": "markdown",
   "metadata": {},
   "source": [
    "Maintenant on s'intéresse pour déterminer le coefficient de restitution $K$ en fonction du numéro de rebond de la balle de ping-pong. On sait que l'énergie cinétique vaut $E_c = \\frac{1}{2} m \\vec{v}^2$. On peut donc écrire le coefficient de restitution comme:\n",
    "\n",
    "$$ K_i = \\frac{E_{\\text{cinétique après rebond}}}{E_{\\text{cinétique avant rebond}}} = \\frac{\\frac{1}{2} m \\ \\vec{v_i}^2}{\\frac{1}{2} m \\ \\vec{v_{i -1}}^2} = \\frac{\\vec{v_i}^2}{\\vec{v_{i -1}}^2} = \\frac{T_i^2}{T_{i -1}^2} = \\frac{\\left( t_{i+1} - t_i \\right) ^ 2}{\\left( t_i - t_{i-1} \\right) ^ 2} $$"
   ]
  },
  {
   "cell_type": "markdown",
   "metadata": {},
   "source": [
    "Pour calculer l'incertitude $\\Delta K_i$ sur la quantité $K$ qui dépend de $n$ variables $x_j$, on peut utiliser l'approximation suivante :\n",
    "\n",
    "$$ \\Delta K_i^2 = \\sum _{j=1}^n \\left(\\frac{\\partial K_i}{\\partial x_j}\\right)^2 \\Delta x_j^2 + 2 \\sum_{i, j<i} cov(x_i, x_j) \\left \\vert \\frac{\\partial K}{\\partial x_i} \\frac{\\partial K}{\\partial x_j} \\right \\vert $$\n",
    "\n",
    "Où on considére à la fois les incertitudes sur les mesures et ses corrélations éventuelles. On préfèrera les calculer la propagation des erreurs en fonction du temps au lieu de la vitesse, parce que comme on a vu avant, les mesures de vitesses sont corrélées entre elles, tandis que les mesures de temps ne le sont pas. Ce qui simplifie le calcul de l'incertitude avec:\n",
    "\n",
    "$$ cov(x_i, x_j) \\left \\vert \\frac{\\partial K}{\\partial x_i} \\frac{\\partial K}{\\partial x_j} \\right \\vert = 0 $$\n",
    "\n",
    "Et on obtient:\n",
    "\n",
    "$$ \\Delta K_i^2 = \\sum _{j=1}^n \\left(\\frac{\\partial K_i}{\\partial x_j}\\right)^2 \\Delta x_j^2 $$\n",
    "\n",
    "Où on peut vérifier que l'incertitude sur la quantité $K$ dépend simplement des incertitudes sur les mesures de départ et des dérivées partielles de la fonction $K$ par rapport à chaque variable $x_i$.\n",
    "\n",
    "Dans notre cas, en posant $x_1 = t_i$ et $x_2 = t_{i-1}$, on obtient:\n",
    "\n",
    "$$ \\Delta K_i^2 = \\left( \\frac{\\partial K_i}{\\partial t_i} \\right)^2 \\Delta t_i^2 + \\left( \\frac{\\partial K_i}{\\partial t_{i+1}} \\right)^2 \\Delta t_{i+1}^2 + \\left( \\frac{\\partial K_i}{\\partial t_{i-1}} \\right)^2 \\Delta t_{i-1}^2  $$\n",
    "\n",
    "$$ \\Delta K_i^2 = \\left( \\frac{\\partial \\left( \\frac{t_{i+1} - t_i}{ t_i - t_{i-1}} \\right)^2 }{\\partial t_i} \\right)^2 \\Delta t_i^2 + \\left( \\frac{\\partial \\left( \\frac{t_{i+1} - t_i}{t_i - t_{i-1}} \\right)^2 }{\\partial t_{i+1}} \\right)^2 \\Delta t_{i+1}^2 + \\left( \\frac{\\partial \\left( \\frac{t_{i+1} - t_i}{t_i - t_{i-1}} \\right)^2 }{\\partial t_{i-1}} \\right)^2 \\Delta t_{i-1}^2  $$\n",
    "\n",
    "On pourra simplifier cette expression en utilisant la règle de la chaîne pour les dérivées partielles, pour arriver à:\n",
    "\n",
    "$$ \\Delta K_i = 2 \\ K_i \\sqrt{ \\left( 2 \\frac{\\Delta t}{t_i - t_{i-1}} \\right)^2 + \\left( 2 \\frac{\\Delta t}{t_{i+1} - t_i} \\right)^2 } $$"
   ]
  },
  {
   "cell_type": "code",
   "execution_count": 12,
   "metadata": {},
   "outputs": [],
   "source": [
    "# on calcule K \n",
    "data['K'] = (data['diff'] ** 2) / (data['diff'].shift(1) ** 2)"
   ]
  },
  {
   "cell_type": "code",
   "execution_count": 13,
   "metadata": {},
   "outputs": [],
   "source": [
    "# On calcule l'erreur sur le coefficient de restitution\n",
    "data['err_K'] = 2 * data['K'] * np.sqrt((2 * delta_t / data['diff']) ** 2 + (2 * delta_t / data['diff'].shift(1)) ** 2)"
   ]
  },
  {
   "cell_type": "code",
   "execution_count": 24,
   "metadata": {},
   "outputs": [
    {
     "data": {
      "image/png": "[encoded data removed]",
      "text/plain": [
       "<Figure size 504x504 with 1 Axes>"
      ]
     },
     "metadata": {
      "needs_background": "light"
     },
     "output_type": "display_data"
    },
    {
     "name": "stdout",
     "output_type": "stream",
     "text": [
      "L'incertitude moyenne associée au coefficient de restitution est: 0.214\n"
     ]
    }
   ],
   "source": [
    "plt.figure(figsize = (7, 7))\n",
    "plt.errorbar(data['vitesse'], data['K'], yerr=data['err_K'], fmt='o')\n",
    "plt.plot(data['vitesse'], [data['K'].mean()] * len(data['vitesse']), 'r--', label=r'$\\overline{K}$=' + str(round(data['K'].mean(), 2)))\n",
    "plt.title('Coefficient de restitution en fonction de la vitesse')\n",
    "plt.xlabel('Vitesse (m/s)')\n",
    "plt.ylabel('Coefficient de restitution du rebond K')\n",
    "plt.legend()\n",
    "plt.grid()\n",
    "plt.show()\n",
    "\n",
    "print(\"L'incertitude moyenne associée au coefficient de restitution est: {:.3f}\".format(data['err_K'].mean()))"
   ]
  },
  {
   "cell_type": "markdown",
   "metadata": {},
   "source": [
    "D'après cette représentation graphique, on obtient une valeur moyenne du coefficient de restitution $\\overline{K}=0.84 \\pm{0.2}$, ce qui confirme la valeur attendue de ($\\overline{K} < 1$). Pour bien comprendre cette partie, on analyse l'énergie total du système décrite par l'équation:\n",
    "\n",
    "$$ E_c + E_p = E_c' + E_p' + E_d $$\n",
    "\n",
    "Où $E_p$ représente l'énergie potentielle de la balle avant le rebond, $E_p'$ celle après le rebond, et $E_d$ est l'énergie dissipée par la balle pendant le rebond et $E_c$ l'énergie cinétique. On peut donc remarquer que l'énergie cinetique perd en moyenne $16 \\%$ de son énergie à chaque rebond."
   ]
  },
  {
   "attachments": {},
   "cell_type": "markdown",
   "metadata": {},
   "source": [
    "### Comparaison avec les résultats de QExPy"
   ]
  },
  {
   "attachments": {},
   "cell_type": "markdown",
   "metadata": {},
   "source": [
    "Maintenant, à l'aide du module [QuexPy](https://qexpy.readthedocs.io/en/latest/intro.html) on peut aussi calculer les valeurs trouvées précédemment, telles que les vitesses, les incertitudes et les coefficients de restitution. On peut donc comparer les résultats obtenus avec les deux méthodes. On commence par le calcul des vitesses."
   ]
  },
  {
   "cell_type": "code",
   "execution_count": 15,
   "metadata": {},
   "outputs": [
    {
     "name": "stdout",
     "output_type": "stream",
     "text": [
      "Vitesses =  vitesse = [ 3.85 +/- 0.07, 3.28 +/- 0.07, 2.84 +/- 0.07, 2.50 +/- 0.07, 2.23 +/- 0.07, 2.02 +/- 0.07, 1.84 +/- 0.07, 1.68 +/- 0.07, 1.53 +/- 0.07, 1.42 +/- 0.07, 1.29 +/- 0.07, 1.21 +/- 0.07, 1.11 +/- 0.07, 1.02 +/- 0.07, 0.95 +/- 0.07, 0.90 +/- 0.07, 0.80 +/- 0.07, 0.76 +/- 0.07, 0.72 +/- 0.07, 0.71 +/- 0.07, 0.63 +/- 0.07, 0.58 +/- 0.07, 0.54 +/- 0.07 ] (m⋅s^-1)\n"
     ]
    }
   ],
   "source": [
    "# On fait la conversion en array pour qexpy \n",
    "vitesse = data['vitesse'].to_numpy()\n",
    "vitesse_err = data['vitesse_err'].to_numpy()\n",
    "# On crée un array de mesure de vitesse\n",
    "vitesse_mes=qexpy.MeasurementArray(vitesse, error=vitesse_err, unit=\"m/s\", name=\"vitesse\")\n",
    "# On affiche les mesures\n",
    "print(\"Vitesses = \", vitesse_mes)"
   ]
  },
  {
   "cell_type": "code",
   "execution_count": 16,
   "metadata": {},
   "outputs": [
    {
     "data": {
      "image/png": "[encoded data removed]",
      "text/plain": [
       "<Figure size 504x504 with 1 Axes>"
      ]
     },
     "metadata": {
      "needs_background": "light"
     },
     "output_type": "display_data"
    }
   ],
   "source": [
    "plt.figure(figsize = (7, 7))\n",
    "plt.errorbar(data['rebond'], vitesse_mes.values, yerr=vitesse_mes.errors, fmt='o')\n",
    "plt.title('Vitesse de la balle en fonction du nombre du rebond avec QexPY')\n",
    "plt.xlabel('Rebonds')\n",
    "plt.ylabel('Vitesse (m/s)')\n",
    "plt.grid()\n",
    "plt.show()"
   ]
  },
  {
   "cell_type": "code",
   "execution_count": 17,
   "metadata": {},
   "outputs": [
    {
     "name": "stdout",
     "output_type": "stream",
     "text": [
      "L'erreur sur la vitesse est égale à l'erreur sur la vitesse avec QexPY:  True\n"
     ]
    }
   ],
   "source": [
    "\n",
    "def vitesse_error_compare(data, vitesse_mes):\n",
    "    \"\"\"\n",
    "    Cette fonction compare l'erreur sur la vitesse avec QexPY et l'erreur sur la vitesse calculée à la main\n",
    "    \"\"\"\n",
    "    for i in range(1, len(data)):\n",
    "        if vitesse_mes.errors[i] == data['vitesse_err'][i+1]:\n",
    "            return True\n",
    "    return False\n",
    "\n",
    "print(\"L'erreur sur la vitesse est égale à l'erreur sur la vitesse avec QexPY: \", vitesse_error_compare(data, vitesse_mes))"
   ]
  },
  {
   "attachments": {},
   "cell_type": "markdown",
   "metadata": {},
   "source": [
    "On remarque que l'incertitude trouvé à l'aide de `QuexPy` et celle trouvé à l'aide de la formule de propagation des erreurs sont les mêmes."
   ]
  },
  {
   "attachments": {},
   "cell_type": "markdown",
   "metadata": {},
   "source": [
    "### Extraction d’une erreur statistique sur les coefficients de restitution"
   ]
  },
  {
   "cell_type": "markdown",
   "metadata": {},
   "source": [
    "Dans cette partie, nous répétons les lâchers de la balle de ping-pong en maintenant la même hauteur initiale afin d'obtenir une série de mesures de temps de rebond. Ainsi, nous effectuons la procédure expérimentale pour 3 lancers."
   ]
  },
  {
   "cell_type": "code",
   "execution_count": 38,
   "metadata": {},
   "outputs": [
    {
     "name": "stdout",
     "output_type": "stream",
     "text": [
      "Nombre de fichiers lus:  3\n"
     ]
    },
    {
     "data": {
      "image/png": "[encoded data removed]",
      "text/plain": [
       "<Figure size 1080x360 with 2 Axes>"
      ]
     },
     "metadata": {
      "needs_background": "light"
     },
     "output_type": "display_data"
    }
   ],
   "source": [
    "# on crée une liste vide pour stocker les données\n",
    "data_list = []\n",
    "\n",
    "# on crée une liste de tous les fichiers à lire\n",
    "dataset_list = ['./Acoustic Stopwatch_2024-03-07_15-26-31/All.csv', './Acoustic Stopwatch_2024-03-07_15-27-22/All.csv', './Acoustic Stopwatch_2024-03-07_15-24-18/All.csv']\n",
    "\n",
    "fig, (ax1,ax2) = plt.subplots(1,2, figsize=(15,5))\n",
    "\n",
    "means_K = list()\n",
    "\n",
    "# on lit tous les fichiers\n",
    "for index, dataset in enumerate(dataset_list):\n",
    "    data = pd.read_csv(dataset, sep=',')\n",
    "    data['diff'] = data['Event time (s)'].diff()\n",
    "    # on supprime la première ligne qui est NaN\n",
    "    data = data.dropna()\n",
    "    data = data.iloc[:23]\n",
    "    \n",
    "    # On calcule le nombre du rebond\n",
    "    data['rebond'] = np.arange(1, len(data)+1)\n",
    "    # on calcule la vitesse\n",
    "    data['vitesse'] = g * data['diff'] / 2\n",
    "\n",
    "    ax1.plot(data['rebond'], data['vitesse'], '.', label='lancer n° ' + str(index + 1))\n",
    "    \n",
    "    # on calcule le coefficient de restitution K\n",
    "    data['K'] = (data['diff'] ** 2) / (data['diff'].shift(1) ** 2)\n",
    "    # on calcule l'erreur sur le coefficient de restitution \\Delta K\n",
    "    data['err_K'] = 2 * data['K'] * np.sqrt((2 * delta_t / data['diff']) ** 2 + (2 * delta_t / data['diff'].shift(1)) ** 2)\n",
    "    means_K.append(data['K'].mean())\n",
    "    # On trace ax.plot( data['vitesse'], data['k'], 'o')\n",
    "    ax2.errorbar(data['vitesse'], data['K'], yerr=data['err_K'], fmt='o')\n",
    "    \n",
    "    # on ajoute les données à la liste\n",
    "    data_list.append(data)\n",
    "    \n",
    "\n",
    "ax1.set_title('Vitesse de la balle en fonction du nombre du rebond')\n",
    "ax1.set_xlabel('Rebonds')\n",
    "ax1.set_ylabel('Vitesse (m/s)')\n",
    "ax1.legend()\n",
    "ax1.grid()\n",
    "\n",
    "\n",
    "ax2.plot(data['vitesse'], [np.mean(means_K)] * len(data['vitesse']), 'r--', label=r'$\\overline{K}$=' + str(round(np.mean(means_K), 2)))\n",
    "ax2.set_title('Coefficient de restitution en fonction de la vitesse')\n",
    "ax2.set_xlabel('Vitesse (m/s)')\n",
    "ax2.set_ylabel('Coefficient de restitution K')\n",
    "ax2.grid()\n",
    "ax2.legend()\n",
    "\n",
    "# length of the list\n",
    "data_list_len = len(data_list)\n",
    "print(\"Nombre de fichiers lus: \", data_list_len)\n",
    "\n",
    "plt.show()"
   ]
  },
  {
   "cell_type": "markdown",
   "metadata": {},
   "source": [
    "D'après les résultats, on trouve la valeur moyenne du coefficient de restitution $\\overline{K}=0.84$ pour le jeu de données. On peut donc calculer l'erreur statistique sur $\\overline{K}$. On prendra 3 chiffres significatifs."
   ]
  },
  {
   "cell_type": "code",
   "execution_count": 37,
   "metadata": {},
   "outputs": [
    {
     "name": "stdout",
     "output_type": "stream",
     "text": [
      "Moyenne des valeurs de K = 'mean of K = 0.838 +/- 0.009'\n",
      "Incertitude sur la moyenne des valeurs de K = 0.009\n"
     ]
    }
   ],
   "source": [
    "k_list = list()\n",
    "k_err_list = list()\n",
    "for i in range(1, len(data_list)):\n",
    "    data_list[i] = data_list[i].dropna()\n",
    "    k = data_list[i]['K']\n",
    "    k_err = data_list[i]['err_K']\n",
    "    k_list.append(k.to_numpy())\n",
    "    k_err_list.append(k_err.to_numpy())\n",
    "\n",
    "## flat list\n",
    "k_list = [item for sublist in k_list for item in sublist]\n",
    "k_err_list = [item for sublist in k_err_list for item in sublist]\n",
    "\n",
    "# Calcul de la moyenne et de l'écart type des valeurs de K\n",
    "K_values = qexpy.MeasurementArray(k_list, error=k_err_list, unit=\"\", name=\"K\")\n",
    "K_mean = qexpy.mean(K_values)\n",
    "K_std = np.std(K_values, ddof=1)\n",
    "\n",
    "# Calcul de l'incertitude sur la moyenne des valeurs de K\n",
    "delta_K_mean = K_std / qexpy.sqrt(len(K_values))\n",
    "\n",
    "# Affichage des résultats\n",
    "print(\"Moyenne des valeurs de K = '{}'\".format(K_mean))\n",
    "print(\"Incertitude sur la moyenne des valeurs de K = {:.3f}\".format(delta_K_mean))"
   ]
  },
  {
   "attachments": {},
   "cell_type": "markdown",
   "metadata": {},
   "source": [
    "On voit que à partir de toutes les mesures, on obtient une distribution de valeurs pour le coefficient de restitution $K = 0.838 \\pm{0.009}$ où si on compare avec la valeur moyenne $\\overline{K}$ trouvée dans la section précedente, elle est légèrement différente. Cela est dû à des erreurs systématiques dans les mesures. Cepedant au fur et à mesure que le nombre de mesures augmente, l'erreur statistique diminue."
   ]
  },
  {
   "attachments": {},
   "cell_type": "markdown",
   "metadata": {},
   "source": [
    "### Conclusion"
   ]
  },
  {
   "attachments": {},
   "cell_type": "markdown",
   "metadata": {},
   "source": [
    "En utilisant un exemple de chute d'une balle de ping-pong à partir d'une hauteur $h_0$ et en mesurant le temps de rebond, nous avons pu étudier le coefficient de restitution \n",
    "$K$ ainsi que les incertitudes associées aux mesures, avec deux méthodes différentes.\n",
    "\n",
    "Les deux méthodes donnent un résultat de coefficient de restitution de rebond autour de $\\overline{K} \\approx 0.84$, où pour la bibliothéque QuexPy qui utilise la méthode de [Monte Carlo](https://qexpy.readthedocs.io/en/latest/_modules/qexpy/data/utils.html#MonteCarloSettings) on trouve une incertitude de $\\Delta K = 0.009$. Tandis que pour la méthode de propagation des erreurs on trouve une incertitude de $\\Delta K = 0.2$. D'où on a pu vérifier à partir de la répétition d'une expérience on peut augmenter la précision."
   ]
  }
 ],
 "metadata": {
  "kernelspec": {
   "display_name": "base",
   "language": "python",
   "name": "python3"
  },
  "language_info": {
   "codemirror_mode": {
    "name": "ipython",
    "version": 3
   },
   "file_extension": ".py",
   "mimetype": "text/x-python",
   "name": "python",
   "nbconvert_exporter": "python",
   "pygments_lexer": "ipython3",
   "version": "3.9.5"
  },
  "orig_nbformat": 4
 },
 "nbformat": 4,
 "nbformat_minor": 2
}
