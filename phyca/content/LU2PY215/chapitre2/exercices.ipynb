{
 "cells": [
  {
   "attachments": {},
   "cell_type": "markdown",
   "metadata": {},
   "source": [
    "# Exercise 5\n",
    "\n",
    "En utilisant une distribution de nombres aléatoires distribués uniformément, on veut produire une distribution de loi sinusoidale:\n",
    "\n",
    "$$ f(x) = \\frac{1}{2} \\sin(x) $$\n",
    "\n",
    "Dans un intervalle compris entre 0 et $\\pi$."
   ]
  },
  {
   "attachments": {},
   "cell_type": "markdown",
   "metadata": {},
   "source": [
    "## Question 1 \n",
    "\n",
    "Vérifier que sur cet intervalle $I$ de $f$ est normalisée à 1."
   ]
  },
  {
   "attachments": {},
   "cell_type": "markdown",
   "metadata": {},
   "source": [
    "$$ I = \\int_{0}^{\\pi} f(x) $$\n",
    "\n",
    "$$ I = \\int_{0}^{\\pi} \\frac{1}{2} sin(x) $$\n",
    "\n",
    "$$ I = \\frac{1}{2} \\int_{0}^{\\pi} sin(x) $$\n",
    "\n",
    "$$ I = \\frac{1}{2} \\left[ -cos(x) \\right]_{0}^{\\pi} $$\n",
    "\n",
    "$$ I = \\frac{1}{2} \\left[ -cos(\\pi) + cos(0) \\right] $$\n",
    "\n",
    "$$ I = \\frac{1}{2} \\left[ 1 + 1 \\right] $$\n",
    "\n",
    "$$ I = \\frac{1}{2} \\left[ 2 \\right] $$\n",
    "\n",
    "$$ I = 1 $$"
   ]
  },
  {
   "attachments": {},
   "cell_type": "markdown",
   "metadata": {},
   "source": [
    "## Question 2\n",
    "Calculer la fonction cumulative $F$ de $f$."
   ]
  },
  {
   "attachments": {},
   "cell_type": "markdown",
   "metadata": {},
   "source": [
    "$$ F(x) = \\int_{0}^{x} f(x') dx' $$\n",
    "\n",
    "$$ F(x) = \\int_{0}^{x} \\frac{1}{2} sin(x') dx'$$\n",
    "\n",
    "$$ F(x) = \\frac{1}{2} \\int_{0}^{x} sin(x') dx'$$\n",
    "\n",
    "$$ F(x) = \\frac{1}{2} \\left[ -cos(x') \\right]_{0}^{x}$$\n",
    "\n",
    "$$ F(x) = \\frac{1}{2} \\left[ -cos(x) + 1 \\right]$$\n",
    "\n",
    "$$ F(x) = \\frac{1}{2} \\left[ 1 - cos(x) \\right]$$"
   ]
  },
  {
   "attachments": {},
   "cell_type": "markdown",
   "metadata": {},
   "source": [
    "## Question 3\n",
    "Démontrer que l'inverse de $F$ est $F^{-1}(x) = cos^{-1}(1-2x)$. Donner l'intervalle de définition de $F^{-1}$."
   ]
  },
  {
   "attachments": {},
   "cell_type": "markdown",
   "metadata": {},
   "source": [
    "<div style=\"width:100%;height:auto;margin: 1.5625em auto;\n",
    "    padding: 0 0.6rem 0.8rem;\n",
    "    overflow: hidden;\n",
    "    page-break-inside: avoid;\n",
    "    border-left: 0.2rem solid;\n",
    "    border-left-color: rgba(87,154,202,1);\n",
    "    border-bottom-color: rgba(87,154,202,1);\n",
    "    border-right-color: rgba(87,154,202,1);\n",
    "    border-top-color: rgba(87,154,202,1);\n",
    "    border-radius: 0.2rem;\n",
    "    box-shadow: 0 0.2rem 0.5rem rgb(0 0 0 / 5%), 0 0 0.0625rem rgb(0 0 0 / 10%);\n",
    "    transition: color .25s,background-color .25s,border-color .25s;\">\n",
    "<p style=\"position: relative;\n",
    "    margin: 0 -0.6rem;\n",
    "    padding: 0.4rem 0.6rem 0.4rem 2rem;\n",
    "    font-weight: 700;\n",
    "    background-color: rgba(87,154,202,.1);\">\n",
    "    Petit rappel: Pour trouver l'inverse d'une fonction par exemple f(x) = 2x + 3, on valide les choses suivantes: \n",
    "</p>\n",
    "</div>\n",
    "\n",
    "1. La fonction $f$ est-elle bijective?\n",
    "Dans notre cas, oui, car $f$ est une fonction continue et monotone croissante. Nous constatons que la fonction est une droite qui passe par tous les points du plan cartésien et qu'elle ne croise jamais une même valeur deux fois.\n",
    "1. On écrit la fonction sous la forme $y=f(x) : y = 2x+3$\n",
    "2. On change les rôles de $x$ et $y : x = 2y + 3$\n",
    "3. On résoudre pour $y : x - 3 = 2y$, donc $y = \\frac{x-3}{2}$\n",
    "4. La fonction inverse est $f^{-1}(x)=\\frac{x-3}{2}$\n",
    "\n",
    "Finalement, on peut vérifier que la fonction inverse donne bien le résultat attendu:\n",
    "\n",
    "$$ f^{-1}(f(x)) = f^{-1}(2x+3) = \\frac{(2x+3)-3}{2} = x $$\n",
    "\n",
    "De même, si on aplique la fonction inverse $f^{-1}$ à la fonction $f$:\n",
    "\n",
    "$$ f(f^{-1}(x)) = f(\\frac{x-3}{2}) = 2\\frac{x-3}{2} + 3 = x $$\n"
   ]
  },
  {
   "attachments": {},
   "cell_type": "markdown",
   "metadata": {},
   "source": [
    "Dans notre exemple.\n",
    "\n",
    "On a:\n",
    "\n",
    "$$ F(x) = \\frac{1}{2} \\left[ -cos(x) + 1 \\right] $$\n",
    "\n",
    "1. On échange $x$ et $y : x = \\frac{1}{2} \\left[ -cos(y) + 1 \\right]$\n",
    "2. On résoudre pour $y$\n",
    "   1. On isole le cosinus:\n",
    "\n",
    "        $$ 2x = -cos(y) + 1 $$\n",
    "\n",
    "        $$ cos(y) = 1 - 2x $$\n",
    "    \n",
    "    2. On aplique la fonction inverse du cosinus (arcosinus) pour trouver $y$:\n",
    "\n",
    "        $$ cos(y) = 1 - 2x $$\n",
    "        \n",
    "        $$ y = cos^{-1}(1 - 2x) $$\n",
    "\n",
    "3. La fonction inverse devient $F^{-1}(x) = cos^{-1}(1-2x)$\n",
    "\n",
    "Pour $F(x)$ l'intervalle de définition est limité par le cosinus qui est défini entre $-1$ et $1$. Ainsi que pour la fonction inverse $F^{-1}(x)$."
   ]
  },
  {
   "attachments": {},
   "cell_type": "markdown",
   "metadata": {},
   "source": [
    "## Question 4\n",
    "\n",
    "Avec Python, tester la fonction $F$ poue générer des évènements selon la distribution de $f$ avec des nombres aléatoires distribués uniformément."
   ]
  },
  {
   "cell_type": "code",
   "execution_count": 1,
   "metadata": {},
   "outputs": [],
   "source": [
    "import numpy as np\n",
    "import matplotlib.pyplot as plt"
   ]
  },
  {
   "cell_type": "code",
   "execution_count": 32,
   "metadata": {},
   "outputs": [],
   "source": [
    "def f(x):\n",
    "    return (1 / 2) * np.sin(x)\n",
    "\n",
    "def F(x):\n",
    "    return (1 / 2) * (1 - np.cos(x))\n",
    "\n",
    "def F_inv(x):\n",
    "    return np.arccos(1 - 2 * x)"
   ]
  },
  {
   "cell_type": "code",
   "execution_count": 69,
   "metadata": {},
   "outputs": [
    {
     "data": {
      "image/png": "[encoded data removed]",
      "text/plain": [
       "<Figure size 432x288 with 1 Axes>"
      ]
     },
     "metadata": {
      "needs_background": "light"
     },
     "output_type": "display_data"
    }
   ],
   "source": [
    "N = 1000 # Nombre des évènements\n",
    "n_unif = [ np.random.rand() for i in range(N) ] # N nombres aléatoires uniformes\n",
    "x = [F_inv(i) for i in n_unif] # values of x\n",
    "y = [f(i) for i in x] # values of f(x) = sin(x) / 2\n",
    "\n",
    "n, bins, patches = plt.hist(x, density=True, alpha=0.75)\n",
    "plt.plot(x, y, 'r.', markersize=1, label='f(x)')\n",
    "plt.xlabel('x')\n",
    "plt.ylabel('f(x)')\n",
    "plt.title('Loi de probabilité f(x) = sin(x) / 2')\n",
    "# update the x-axis to show in terms of PI (i.e. 0 to PI)\n",
    "plt.xticks(np.arange(0, 4, step=1), [r'$0$', r'$\\frac{\\pi}{4}$', r'$\\frac{\\pi}{4}$',r'$\\pi$'])\n",
    "plt.legend()\n",
    "plt.show()"
   ]
  },
  {
   "attachments": {},
   "cell_type": "markdown",
   "metadata": {},
   "source": [
    "# Exercise 6"
   ]
  },
  {
   "attachments": {},
   "cell_type": "markdown",
   "metadata": {},
   "source": [
    "Certaines espèces de tortues pondent de nombreux oeufs (`110` pour certaines). La distribution du nombre d'oeufs pondus suit une loi de Poisson de paramètre $\\lambda = 110$."
   ]
  },
  {
   "attachments": {},
   "cell_type": "markdown",
   "metadata": {},
   "source": [
    "## Question 1\n",
    "Rappeler la loi de Poisson; que vaut la moyenne du nombre d'oeufs?"
   ]
  },
  {
   "attachments": {},
   "cell_type": "markdown",
   "metadata": {},
   "source": [
    "**Solution**\n",
    "\n",
    "La loi de Poisson est une loi de probabilité que permet de compter le nombre d'évènements qui se produisent dans un intervalle de temps donné. Elle est définie par la formule suivante:\n",
    "\n",
    "$$ P(k;\\lambda) = \\frac{\\lambda^k e^{-\\lambda}}{k!} $$\n",
    "\n",
    "La moyenne du nombre d'oeufs est égale à $\\lambda$."
   ]
  },
  {
   "attachments": {},
   "cell_type": "markdown",
   "metadata": {},
   "source": [
    "## Question 2\n",
    "\n",
    "Tous les oeufs n'arriveront pas à la maturité; on peut considérer que la probabilité qu'un oeuf arrive à la maturié est indépendante du nombre d'oeufs pondus et vaut $p$. Si le nombre d'oeufs est $n$, quelle est la loi de probabilité associée a l'éclosion de $k$ oeufs parmi les $n$ oeufs?"
   ]
  },
  {
   "attachments": {},
   "cell_type": "markdown",
   "metadata": {},
   "source": [
    "**Solution**\n",
    "\n",
    "La loi de probabilité associée à l'éclosion de $k$ oeufs parmi les $n$ oeufs est la loi binomiale. Elle est définie par la formule suivante:\n",
    "\n",
    "$$ P(k;n,p) = \\binom{n}{k} p^k (1-p)^{n-k} $$"
   ]
  },
  {
   "attachments": {},
   "cell_type": "markdown",
   "metadata": {},
   "source": [
    "## Question 3\n",
    "Démontrer que la loi de probabilité du nombre d'oeufs pondus et arrivant à l'éclosion est une loi de Poisson de paramètre $\\lambda \\times p$."
   ]
  },
  {
   "attachments": {},
   "cell_type": "markdown",
   "metadata": {},
   "source": [
    "La probabilité d'obtenir $k$ oeufs éclos pour une ponte est donc la probabilité de pondre $r$ oeufs et que $k$ d'entre eux arrivent à l'éclosion. On peut donc écrire:\n",
    "\n",
    "$$ P(k;n,p) = \\sum_{r=0}^{n} P(r;\\lambda) P(k-r;n-r,p) $$\n",
    "\n"
   ]
  }
 ],
 "metadata": {
  "kernelspec": {
   "display_name": "base",
   "language": "python",
   "name": "python3"
  },
  "language_info": {
   "codemirror_mode": {
    "name": "ipython",
    "version": 3
   },
   "file_extension": ".py",
   "mimetype": "text/x-python",
   "name": "python",
   "nbconvert_exporter": "python",
   "pygments_lexer": "ipython3",
   "version": "3.9.5"
  },
  "orig_nbformat": 4
 },
 "nbformat": 4,
 "nbformat_minor": 2
}
