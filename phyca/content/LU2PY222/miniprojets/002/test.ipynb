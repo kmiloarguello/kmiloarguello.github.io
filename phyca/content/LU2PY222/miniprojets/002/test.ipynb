{
 "cells": [
  {
   "cell_type": "code",
   "execution_count": 1,
   "metadata": {},
   "outputs": [],
   "source": [
    "import numpy as np\n",
    "import random\n",
    "import matplotlib.pyplot as plt"
   ]
  },
  {
   "cell_type": "code",
   "execution_count": 31,
   "metadata": {},
   "outputs": [
    {
     "data": {
      "text/plain": [
       "[6, 15, 24]"
      ]
     },
     "execution_count": 31,
     "metadata": {},
     "output_type": "execute_result"
    }
   ],
   "source": [
    "def F( x , n ):\n",
    "    i = 0\n",
    "    j = 0\n",
    "    y = list()\n",
    "\n",
    "    while (i < len(x) and j < len(x)):\n",
    "        j = i * n\n",
    "\n",
    "        # n = 1\n",
    "        # x[j]\n",
    "\n",
    "        # n = 2\n",
    "        # x[j] + x[j + 1]\n",
    "\n",
    "        # n = 3\n",
    "        # x[j] + x[j + 1] + x[j + 2]\n",
    "\n",
    "        # n = 4\n",
    "        # x[j] + x[j + 1] + x[j + 2] + x[j + 3]\n",
    "\n",
    "        # n = 5\n",
    "        # x[j] + x[j + 1] + x[j + 2] + x[j + 3] + x[j + 4]\n",
    "\n",
    "        ## Pairs c'est une liste de toutes les subgroupes\n",
    "        ## Si par exemple n=2, alors pairs va créer des groupes de deux nombres\n",
    "        ## Si n=5 pairs tiendrait groupes de 5 nombres\n",
    "        ## Si n > len(x) la liste `pairs` prendrait la somme de toute l'array x\n",
    "        pairs = list()\n",
    "        for k in range(n):\n",
    "            if j + k < len(x):\n",
    "                pairs.append(x[j + k])\n",
    "\n",
    "        if len(pairs) > 0:\n",
    "            y.append( np.sum(pairs) )\n",
    "\n",
    "        i += 1\n",
    "    return y\n",
    "\n",
    "# liste de nombres\n",
    "x = [1,2,3,4,5,6,7,8,9]\n",
    "n = 3\n",
    "\n",
    "F(x,n)\n"
   ]
  },
  {
   "cell_type": "code",
   "execution_count": 2,
   "metadata": {},
   "outputs": [],
   "source": [
    "liste = []\n",
    "for i in range(0,10):\n",
    "    #liste.append(np.round(random.uniform(0,1), 2))\n",
    "    liste.append(int(random.uniform(0,7)))"
   ]
  },
  {
   "cell_type": "code",
   "execution_count": 3,
   "metadata": {},
   "outputs": [
    {
     "data": {
      "text/plain": [
       "[6, 6, 3, 0, 0, 0, 4, 6, 3, 1]"
      ]
     },
     "execution_count": 3,
     "metadata": {},
     "output_type": "execute_result"
    }
   ],
   "source": [
    "liste"
   ]
  },
  {
   "cell_type": "code",
   "execution_count": 4,
   "metadata": {},
   "outputs": [],
   "source": [
    "# Paramètres\n",
    "start = 0   # borne inférieure\n",
    "end = 6.0       # borne supérieure\n",
    "step = 1     # pas\n",
    "\n",
    "# Création du tableau\n",
    "interval = end - start                     # intervalle\n",
    "num_points = int(interval / step) + 1      # nombre d'éléments\n",
    "\n",
    "bins = np.linspace(start, end, num_points)    # tableau"
   ]
  },
  {
   "cell_type": "code",
   "execution_count": 5,
   "metadata": {},
   "outputs": [
    {
     "data": {
      "text/plain": [
       "(array([3, 1, 0, 2, 1, 3]), array([0., 1., 2., 3., 4., 5., 6.]))"
      ]
     },
     "execution_count": 5,
     "metadata": {},
     "output_type": "execute_result"
    }
   ],
   "source": [
    "np.histogram(liste, bins=bins)"
   ]
  },
  {
   "cell_type": "code",
   "execution_count": 6,
   "metadata": {},
   "outputs": [
    {
     "data": {
      "text/plain": [
       "(array([3., 1., 0., 2., 1., 3.]),\n",
       " array([0., 1., 2., 3., 4., 5., 6.]),\n",
       " <BarContainer object of 6 artists>)"
      ]
     },
     "execution_count": 6,
     "metadata": {},
     "output_type": "execute_result"
    },
    {
     "data": {
      "image/png": "[encoded data removed]",
      "text/plain": [
       "<Figure size 432x288 with 1 Axes>"
      ]
     },
     "metadata": {
      "needs_background": "light"
     },
     "output_type": "display_data"
    }
   ],
   "source": [
    "plt.hist(liste, bins=bins)"
   ]
  },
  {
   "cell_type": "code",
   "execution_count": null,
   "metadata": {},
   "outputs": [],
   "source": []
  },
  {
   "cell_type": "code",
   "execution_count": null,
   "metadata": {},
   "outputs": [],
   "source": []
  },
  {
   "cell_type": "code",
   "execution_count": null,
   "metadata": {},
   "outputs": [],
   "source": []
  }
 ],
 "metadata": {
  "interpreter": {
   "hash": "e3e3b631d0578064596570627667cf6d3255b0ded78241c485c6d8d72cb2b64f"
  },
  "kernelspec": {
   "display_name": "Python 3.9.5 ('base')",
   "language": "python",
   "name": "python3"
  },
  "language_info": {
   "codemirror_mode": {
    "name": "ipython",
    "version": 3
   },
   "file_extension": ".py",
   "mimetype": "text/x-python",
   "name": "python",
   "nbconvert_exporter": "python",
   "pygments_lexer": "ipython3",
   "version": "3.9.5"
  },
  "orig_nbformat": 4
 },
 "nbformat": 4,
 "nbformat_minor": 2
}
