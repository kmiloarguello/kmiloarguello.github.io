{
 "cells": [
  {
   "cell_type": "markdown",
   "metadata": {},
   "source": [
    "# Calcul des forces de pression sur une digue\n",
    "\n",
    "**Modélisation Numérique en Physique - S2**\n",
    "\n",
    "**Miniprojet 4**\n",
    "\n",
    "**ARGUELLO Camilo**\n",
    "\n",
    "\n",
    "## Tableau\n",
    "\n",
    "1. Introduction\n",
    "2. Forces\n",
    "3. Modelisation\n",
    "4. Cas de digues convexes\n",
    "5. Conclusion"
   ]
  },
  {
   "cell_type": "markdown",
   "metadata": {},
   "source": [
    "## Introduction\n",
    "\n",
    "L'objectif de ce projet est d'analyser un système d'une digue immergé dans l'eau. On va vérifier si la digue peut ou non être déplacé sous l'effet de la pression exercée par l'eau."
   ]
  },
  {
   "cell_type": "markdown",
   "metadata": {},
   "source": [
    "## Forces\n",
    "\n",
    "### a) Bilan des forces \n",
    "\n",
    "\n",
    "Dans un système immergé, la pression varie selon l'altitude. Nous allons trouver une force qui considère ce changement. On suppose par exemple un systeme d'un surface immergé dans l'eau.\n",
    "\n",
    "<img src=\"./2x/force-strip@2x.png\" width=\"400\" style=\"display:block;margin:0 auto;\" />\n",
    "\n",
    "Si on prend des petites régions de la surface, on va pouvoir calculer la pression dans chacune des régions ainsi que la pression générale.\n",
    "\n",
    "Soit $dA$ l'aire de la section horizontale, avec une altitude $dy$, par consequence:\n",
    "\n",
    "$$dA = L\\,dy$$\n",
    "\n",
    "Si la pression change en fonction de l'altitude, on peut dire que $P = \\rho\\,g\\,y$, avec $\\rho$ une constante de densité du liquide, $g$ l'acceleration de la gravité et $y$ le déplacement sur l'axis `y`. Ainsi, on va calculer la force dans cette section.\n",
    "\n",
    "$$  dF = P\\,dA $$\n",
    "$$ dF = \\rho\\,g\\,y\\,dA $$\n",
    "$$ dF = \\rho\\,g\\,y\\,L\\,dy $$\n",
    "\n",
    "Avec l'integration, on a la force $F$:\n",
    "\n",
    "$$ F = \\int_{y=0}^{y=H}\\rho\\,g\\,y\\,L\\,dy $$\n",
    "$$ F = \\rho\\,g\\,L \\int_{y=0}^{y=H}y\\,dy $$\n",
    "$$ F = \\rho\\,g\\,L (\\frac{y^2}{2})_{0}^{H} $$\n",
    "$$ F = \\frac{\\rho\\,g\\,L\\,H^2}{2} = \\frac{1}{2}\\times \\rho\\,g\\,H \\times H\\,L $$\n",
    "$$ F_P = P_{moy}\\,A \\longrightarrow P_{moy} = \\frac{F_P}{A} $$\n",
    "\n",
    "Cette force est la force moyenne globale dû à la pression de l'eau sur le beton. Maintenant, si on se place dans le cas d'une digue qui reçoit la pression de l'eau dans une coté. \n",
    "\n",
    "<img src=\"./2x/digue-diagram-forces@2x.png\" width=\"400\" style=\"display:block;margin:0 auto;\" />\n",
    "\n",
    "Digue à modeliser. La digue est divisé en deux séctions: $w_1$ (partie à gauche) et $w_2$ (partie à droite). Pour compléter le système, on va considérer aussi $w_3$ pour l'eau.\n",
    "\n",
    "Avec $x = x_1 + x_2$, et $w = w_1 + w_2 + w_3$.\n",
    "\n",
    "Donc dans ce cas on a une force $F_{P}$ qui provient de la pression de l'eau. Ainsi qu'on considére le poids de la digue et l'eau $w$. La force de frottement $F_F$. Finalement, la force de résultant $R$.\n",
    "\n",
    "<img src=\"./2x/forces-total@2x.png\" width=\"300\" style=\"display:block;margin:0 auto;\" />\n",
    "\n"
   ]
  },
  {
   "cell_type": "markdown",
   "metadata": {},
   "source": [
    "### b) Pression hydrostatique dans l’eau ($P_{eau}$)\n",
    "\n",
    "Lorsque la préssion augménte selon la profundeur ($y$) de la digue, on a:\n",
    "\n",
    "$$ P = \\rho g y $$"
   ]
  },
  {
   "cell_type": "markdown",
   "metadata": {},
   "source": [
    "### c) Des équations d'équilibre statique\n",
    "\n",
    "On considére l'objet comme statique si la force $F_F$ (qui est opposé à la composante tangentielle $F_{P_x}$), est supérieure à la force produit par la pression d'eau. Pour faire l'analyse, on utilise le principe d'inertie, ainsi que l'influence des forces extérieures.\n",
    "\n",
    "$ \\sum F = 0 $"
   ]
  },
  {
   "cell_type": "markdown",
   "metadata": {},
   "source": [
    "## Modélisation\n"
   ]
  },
  {
   "cell_type": "markdown",
   "metadata": {},
   "source": [
    "Dans le cadre du projet, nous allons modeliser initialement une digue avec deux cotés qui sont données par une fonction lineaire.\n",
    "\n",
    "Les fonctions $f_{air}$ et $f_{eau}$, elles sont de la forme affine:\n",
    "\n",
    "$$ f(x) = ax + b $$\n",
    "\n",
    "Donc $f_{air}(y)$ est une fonction croissante entre $x_a$ et $0$.\n",
    "\n",
    "$$ f_{air}(y) = -\\frac{x_a}{H}.(y-H) = - x_a \\left(\\frac{y}{H} - 1\\right) $$\n",
    "\n",
    "La fonction $f_{eau}$ peut se décrire de la même façon afine, cependant lorqu'il est décroissante, la pente doîte être negative.\n",
    "\n",
    "$$ f_{eau}(y) = - x_e \\frac{y}{H} + x_e $$\n",
    "\n",
    "$$ f_{eau}(y) = - x_e \\left(\\frac{y}{H} - 1\\right) $$\n",
    "\n",
    "$$ f'_{eau}(y) = - \\frac{x_e }{H} $$\n",
    "\n"
   ]
  },
  {
   "cell_type": "code",
   "execution_count": 1,
   "metadata": {},
   "outputs": [],
   "source": [
    "import numpy as np\n",
    "import matplotlib.pyplot as plt"
   ]
  },
  {
   "cell_type": "code",
   "execution_count": 2,
   "metadata": {},
   "outputs": [],
   "source": [
    "## Global variables\n",
    "H = 10 # m\n",
    "L = 1 # m\n",
    "g = 9.8 # m / s^2\n",
    "rho = 1000 # Densité l'eau\n",
    "mu = 0.5 # coefficient frottement béton\n",
    "m_digue = 3000 # kg / m3\n",
    "\n",
    "# Ce code permet d'afficher les courbes représentant la digue\n",
    "xa = -5\n",
    "xe = +5\n",
    "\n",
    "# On crée un tableau de y\n",
    "y = np.linspace(0, H, 1000)\n",
    "\n",
    "# On définit les fonctions côté eau et côté air, ici les courbes concaves\n",
    "def fair(y):\n",
    "    return - xa * ((y / H) - 1)\n",
    "\n",
    "def feau(y):\n",
    "    return - xe  * ((y / H) - 1)\n",
    "\n",
    "def f_p_eau(y = 1):\n",
    "    return - xe / H\n"
   ]
  },
  {
   "cell_type": "code",
   "execution_count": 3,
   "metadata": {},
   "outputs": [
    {
     "data": {
      "image/png": "[encoded data removed]",
      "text/plain": [
       "<Figure size 432x288 with 1 Axes>"
      ]
     },
     "metadata": {
      "needs_background": "light"
     },
     "output_type": "display_data"
    }
   ],
   "source": [
    "# On trace\n",
    "plt.plot(fair(y), y, '-b') \n",
    "plt.plot(feau(y), y, '-b')  ## Décommenter après avoir codé la fonction feau(x)\n",
    " \n",
    "plt.plot([xe, xa], [0, 0], '-b') # Bas de la digue\n",
    "plt.xlabel('x (m)') \n",
    "plt.ylabel('y (m)')\n",
    "plt.text(xe, 8, 'eau')\n",
    "plt.text(xa, 8, 'air')\n",
    "plt.axis('equal') # Permet d'avoir un plot isométrique\n",
    "plt.axhline(0, color = \"black\")\n",
    "plt.axvline(0, color = \"black\")\n",
    "plt.xlim(-8, 8)\n",
    "plt.show()"
   ]
  },
  {
   "cell_type": "markdown",
   "metadata": {},
   "source": [
    "### Volume de digue\n",
    "\n",
    "Nous allons calculer le volume de la digue. Pour ce cas là, on considére qu'elle a une forme triangulaire, dans le coté d'air, ainsi que dans le coté d'eau. \n",
    "\n",
    "En principe le volume d'un triangle (avec un profundeur) peut se calculer avec l'expression $ v_{triangle} = \\frac{1}{2} \\times width \\times height \\times length $. Dans notre exemple $ width = x_1 + x_2$, $height = H$, $length = L$. Cependant, une autre façon de calculer le volume est à partir du calcul des aires avec l'aide de l'intégrale dépuis `xa` jusq'à `xe`. Pour les fonctions `fair` et `feau`, pour multiplier avec la profundeur $L$.\n",
    "\n",
    "L'intégral est une fonction qui utilise la methode du point milieu pour trouver une valeur plus précise de valeur trouvé analytiquement. Cette méthode considére les valeurs de la fonction $f$ au centre des $n$ intervalles. Ainsi, on aura $x_i = a + ( i + \\frac{1}{2} )\\times\\Delta x$, dans l'intervalle:\n",
    "\n",
    "$$\n",
    "Integrale(f) = \\sum_{i=0}^{n-1} f(x_i)\\Delta x  \n",
    "$$\n",
    "\n",
    "Avec $\\Delta x = \\frac{b-a}{n}$."
   ]
  },
  {
   "cell_type": "code",
   "execution_count": 4,
   "metadata": {},
   "outputs": [],
   "source": [
    "def calcule_integrale(f,a,b,n=1000):\n",
    "    \"\"\"\n",
    "    @description Cette fonction donne la valeur d'une integral avec la méthode du point milieu\n",
    "    @param {function} f -> f(y)\n",
    "    @param {float} a -> y_0 = 0\n",
    "    @param {float} b -> y_f = H\n",
    "    @param {int} n -> nombre d'iterations\n",
    "    @returns {float} valeur de la integrale\n",
    "    \"\"\"  \n",
    "    deltax = (b - a) / n    \n",
    "    output = 0\n",
    "    for i in range(n):\n",
    "        output = output + f(a+(i+0.5)*deltax)*deltax\n",
    "    return np.around(output, 2)\n",
    "\n",
    "def calculate_volume(f_int, fair, feau, xa, xe, H, L):\n",
    "    \"\"\"\n",
    "    @description Cette fonction donne la valeur de volume pour toute la digue\n",
    "    @param {function} f_integrale\n",
    "    @param {function} f_air\n",
    "    @param {function} f_eau\n",
    "    @param {float|int} xa\n",
    "    @param {float|int} xe\n",
    "    @param {float|int} H\n",
    "    @param {float|int} L\n",
    "    @returns {float} volume, volume_analitique\n",
    "    \"\"\"\n",
    "    # Volume between between -5 and 0\n",
    "    v_1 = np.abs(f_int(fair,0,H)) * L\n",
    "\n",
    "    # Volume between between 0 and 5\n",
    "    v_2 = f_int(feau,0,H) * L\n",
    "\n",
    "    v = np.around(v_1 + v_2, 2)\n",
    "\n",
    "    return v\n",
    "\n",
    "def calculate_volume_eau(xe=xe, H=H, L=L):\n",
    "    # Volume de l'eau à coté de la digue \n",
    "    # We use the centroide pour calculer l'aire et en multipliant avec la langueur\n",
    "    # area = (2/3) * x * h\n",
    "    v_3 = (2 / 3) * np.abs(xe) * H * L\n",
    "\n",
    "    return np.around(v_3, 2)\n",
    "\n",
    "def P(y, g=g):\n",
    "    \"\"\"\n",
    "    @description Cette fonction donne la valeur de pression dans une point de l'axe y\n",
    "    @borrow La valeur de rho n'a pas pris en compte, et donce l'expression devient P = g * y\n",
    "    \"\"\"\n",
    "    return g * y\n",
    "\n",
    "def calculate_forces(f,fp, n=1000):\n",
    "    \"\"\"\n",
    "    @description Cette fonction donne la force de pression de l'eau sur la digue\n",
    "    @returns {float} F\n",
    "    \"\"\"\n",
    "    ## Avec la force moyenne\n",
    "\n",
    "    # Avec l'equation F = P * A\n",
    "    # F_p = (1 / 2) * (rho * g * H) * (H * L)\n",
    "\n",
    "    # integrale dépuis 0 jusqu'à H\n",
    "    b = H\n",
    "    a = 0\n",
    "\n",
    "    deltax = (b - a) / n   # steps\n",
    "    force = 0\n",
    "\n",
    "    for i in range(n):\n",
    "        # angle entre tangente et abscisses\n",
    "        theta = np.rad2deg(np.arctan(fp(i)))\n",
    "\n",
    "        # valeurs de vecteurs à chaque point\n",
    "        n_v = np.sin(theta) - np.cos(theta)\n",
    "        dl = i / np.cos(theta)\n",
    "\n",
    "        # Pression\n",
    "        p = f(a + ( i + 0.5) * deltax) * deltax\n",
    "        force = force + p * dl * n_v\n",
    "\n",
    "    # Pour éviter des forces négatives, on va choisir la valeur absolue\n",
    "    return np.abs(force)\n",
    "\n",
    "def calculate_weight(m_digue, v_eau, rho=rho, g=g):\n",
    "    \"\"\"\n",
    "    @description Cette fonction donne les valeurs de poids de la digue + la séction d'eau\n",
    "    @param {float} m_digue -> Masse dique\n",
    "    @param {float} v_eau -> Volume séction eau\n",
    "    @borrows L'equation pour le poids de la séction d'eau est donnée pour: w = rho * v * g\n",
    "    @returns {float} w -> Le poids\n",
    "    \"\"\"\n",
    "    w_digue = m_digue * g\n",
    "    w_eau = rho * v_eau * g\n",
    "    w = w_digue + w_eau\n",
    "\n",
    "    return w\n",
    "\n",
    "\n",
    "def calculate_friction(w, mu=mu):\n",
    "    \"\"\"\n",
    "    @description Cette fonction donne la valeur de la force de frottement\n",
    "    @param {float} w -> Poids\n",
    "    @param {float} mu -> Constante de frottement\n",
    "    \"\"\"\n",
    "    N = w\n",
    "    F_f = mu * N\n",
    "    return F_f\n",
    "\n",
    "def is_the_dam_stable(F_p, F_f):\n",
    "    \"\"\"\n",
    "    @description Cette fonction imprime l'état de la digue (en mouvement ou en équilibre)\n",
    "    \"\"\"\n",
    "    if (F_p > F_f):\n",
    "        print(\"La digue est en mouvement avec une force résultant:\", np.around(F_p - F_f, 2) , \"N\")\n",
    "    else:\n",
    "        print(\"La digue est en équilibre translationnel avec une force résultant: \", np.around(F_p - F_f, 2) , \"N\")"
   ]
  },
  {
   "cell_type": "markdown",
   "metadata": {},
   "source": [
    "Pour trouver le volume de la séction d'eau à coté de la digue, on utilise l'aire trouvé par le centroide.\n",
    "\n",
    "<img src=\"./2x/volume_3@2x.png\" width=\"400\" style=\"display:block;margin:0 auto;\" />\n",
    "\n",
    "Lorsqu'on considére une digue triangulaire, avec `x = x_1 + x_2`, où `x_1 = np.abs(xa)` et `x_2 = np.abs(xe)`, on aurait `x = 10`, `h = 10`, et donc un volume `v = (1/2) * x * h = 50` $m^3$. Puis, on ajoute le volume de la séction d'eau. Cependant, la digue qu'on va analyser n'est pas nécessairement triangulaire, pour cela on utilise le centroïde comme on voit dans l'image."
   ]
  },
  {
   "cell_type": "code",
   "execution_count": 5,
   "metadata": {},
   "outputs": [
    {
     "name": "stdout",
     "output_type": "stream",
     "text": [
      "Le volume de la digue par intégration: 50.0 m3\n",
      "Le volume de la séction d'eau: 33.33 m3\n",
      "Le volume totale: 83.33 m3\n",
      "Le volume analitique digue avec l'eau: 83.33 m3\n",
      "Le poids totale est w = 356034.0 N\n",
      "La force moyenne =  2668400.34 N\n",
      "La force frottement =  178017.0 N\n",
      "La digue est en mouvement avec une force résultant: 2490383.34 N\n"
     ]
    }
   ],
   "source": [
    "## a\n",
    "xa = -5\n",
    "xe = 5\n",
    "\n",
    "v_digue  = calculate_volume(calcule_integrale, fair, feau, xa, xe, H, L)\n",
    "v_eau = calculate_volume_eau(xe)\n",
    "\n",
    "print(\"Le volume de la digue par intégration:\", v_digue, \"m3\")\n",
    "print(\"Le volume de la séction d'eau:\", v_eau, \"m3\")\n",
    "print(\"Le volume totale:\", v_digue + v_eau, \"m3\")\n",
    "\n",
    "# D'un façon analitique\n",
    "x_1 = np.abs(xa)\n",
    "x_2 = np.abs(xe)\n",
    "v_analitique = (1 / 2) * (x_1 + x_2) * H * L + (2 / 3) * (x_2) * H * L \n",
    "print(\"Le volume analitique digue avec l'eau:\", np.around(v_analitique, 2),\"m3\")\n",
    "\n",
    "w = calculate_weight(m_digue, v_eau)\n",
    "print(\"Le poids totale est w =\", np.around(w,2), \"N\")\n",
    "\n",
    "## b\n",
    "F_p = calculate_forces(P, f_p_eau)\n",
    "F_f = calculate_friction(w)\n",
    "\n",
    "print(\"La force moyenne = \", np.around(F_p, 2), \"N\")\n",
    "print(\"La force frottement = \", np.around(F_f, 2), \"N\")\n",
    "\n",
    "# C\n",
    "is_the_dam_stable(F_p, F_f)"
   ]
  },
  {
   "cell_type": "markdown",
   "metadata": {},
   "source": [
    "Dans cette exemple, on a trouvé que le système n'est pas en équilibre translationnel, c'est à dire l'eau peut déplacer la digue."
   ]
  },
  {
   "cell_type": "code",
   "execution_count": 6,
   "metadata": {},
   "outputs": [
    {
     "name": "stdout",
     "output_type": "stream",
     "text": [
      "Le volume de la digue par intégration: 25.0 m3\n",
      "Le volume de la séction d'eau: 0.0 m3\n",
      "Le volume totale: 25.0 m3\n",
      "Le poids totale est w = 29400.0 N\n",
      "La force moyenne =  326421.59 N\n",
      "La force frottement =  14700.0 N\n",
      "La digue est en mouvement avec une force résultant: 311721.59 N\n"
     ]
    }
   ],
   "source": [
    "xa = -5\n",
    "xe = 0\n",
    "\n",
    "v_digue  = calculate_volume(calcule_integrale, fair, feau, xa, xe, H, L)\n",
    "v_eau = calculate_volume_eau(xe)\n",
    "\n",
    "print(\"Le volume de la digue par intégration:\", v_digue, \"m3\")\n",
    "print(\"Le volume de la séction d'eau:\", v_eau, \"m3\")\n",
    "print(\"Le volume totale:\", v_digue + v_eau, \"m3\")\n",
    "\n",
    "w = calculate_weight(m_digue, v_eau)\n",
    "print(\"Le poids totale est w =\", np.around(w,2), \"N\")\n",
    "\n",
    "F_p = calculate_forces(P, f_p_eau)\n",
    "F_f = calculate_friction(w)\n",
    "\n",
    "print(\"La force moyenne = \", np.around(F_p, 2), \"N\")\n",
    "print(\"La force frottement = \", np.around(F_f, 2), \"N\")\n",
    "\n",
    "# C\n",
    "is_the_dam_stable(F_p, F_f)"
   ]
  },
  {
   "cell_type": "code",
   "execution_count": 7,
   "metadata": {},
   "outputs": [
    {
     "name": "stdout",
     "output_type": "stream",
     "text": [
      "Le volume de la digue par intégration: 25.0 m3\n",
      "Le volume de la séction d'eau: 33.33 m3\n",
      "Le volume totale: 58.33 m3\n",
      "Le poids totale est w = 356034.0 N\n",
      "La force moyenne =  68020.4 N\n",
      "La force frottement =  178017.0 N\n",
      "La digue est en équilibre translationnel avec une force résultant:  -109996.6 N\n"
     ]
    }
   ],
   "source": [
    "xa = 0\n",
    "xe = 5\n",
    "\n",
    "v_digue  = calculate_volume(calcule_integrale, fair, feau, xa, xe, H, L)\n",
    "v_eau = calculate_volume_eau()\n",
    "\n",
    "print(\"Le volume de la digue par intégration:\", v_digue, \"m3\")\n",
    "print(\"Le volume de la séction d'eau:\", v_eau, \"m3\")\n",
    "print(\"Le volume totale:\", v_digue + v_eau, \"m3\")\n",
    "\n",
    "w = calculate_weight(m_digue, v_eau)\n",
    "print(\"Le poids totale est w =\", np.around(w,2), \"N\")\n",
    "\n",
    "F_p = calculate_forces(feau, f_p_eau)\n",
    "F_f = calculate_friction(w)\n",
    "\n",
    "print(\"La force moyenne = \", np.around(F_p, 2), \"N\")\n",
    "print(\"La force frottement = \", np.around(F_f, 2), \"N\")\n",
    "\n",
    "# C\n",
    "is_the_dam_stable(F_p, F_f)"
   ]
  },
  {
   "cell_type": "markdown",
   "metadata": {},
   "source": [
    "\n",
    "On peut voir dans un des deux cas que la vigue est en équilibre translationnel et dans un autre elle ne l'est pas, cela est dû, par exemple, au fait que dans le cas où on a `xe = 0`, la force de frottement est plus faible du fait du volume de la section d'eau n'est pas prise en compte, et par conséquent la force normale et poids seront inférieurs."
   ]
  },
  {
   "cell_type": "markdown",
   "metadata": {},
   "source": [
    "## Cas des digues convexes\n",
    "\n",
    "La fonction $f_{eau}$ est de la forme quadratique:\n",
    "\n",
    "$$ f(x) = ax^2 + bx + c $$\n",
    "\n",
    "Lorsque $f_{eau}$ est une fonction décroissante dépuis $x_e$ vers $0$, donc on aurait une pente negative. Finalement, on rajoute une constante $a > 0 $ qui donne l'Inclinaison de la courbe. \n",
    "\n",
    "$$ f_{eau}(y) = a \\left(\\frac{y}{H} \\right)^2 - (a + x_e) \\left(\\frac{y}{H}\\right) + xe $$\n",
    "\n",
    "$$\n",
    "f'_{eau} (y)=\\frac{2ay}{H^2}-\\frac{a+x_e}{H}\n",
    "$$\n"
   ]
  },
  {
   "cell_type": "code",
   "execution_count": 8,
   "metadata": {},
   "outputs": [
    {
     "data": {
      "image/png": "[encoded data removed]",
      "text/plain": [
       "<Figure size 432x288 with 1 Axes>"
      ]
     },
     "metadata": {
      "needs_background": "light"
     },
     "output_type": "display_data"
    }
   ],
   "source": [
    "a = 3\n",
    "xa = -5\n",
    "xe = +5\n",
    "\n",
    "def feau(y):\n",
    "    return a * (y / H) ** 2 - (a + xe) * (y / H) + xe\n",
    "\n",
    "def f_p_eau(y):\n",
    "    return ((2 * a * y) / (H ** 2)) -  ((a + xe) / H)\n",
    "\n",
    "# On trace\n",
    "plt.plot(fair(y), y, '-b') \n",
    "plt.plot(feau(y), y, '-b')  ## Décommenter après avoir codé la fonction feau(x)\n",
    " \n",
    "plt.plot([xe, xa], [0, 0], '-b') # Bas de la digue\n",
    "plt.xlabel('x (m)') \n",
    "plt.ylabel('y (m)')\n",
    "plt.text(xe, 8, 'eau')\n",
    "plt.text(xa, 8, 'air')\n",
    "plt.axis('equal') # Permet d'avoir un plot isométrique\n",
    "plt.axhline(0, color = \"black\")\n",
    "plt.axvline(0, color = \"black\")\n",
    "plt.xlim(-8, 8)\n",
    "plt.show()"
   ]
  },
  {
   "cell_type": "code",
   "execution_count": 9,
   "metadata": {},
   "outputs": [
    {
     "name": "stdout",
     "output_type": "stream",
     "text": [
      "Le volume de la digue par intégration: 20.0 m3\n",
      "Le volume de la séction d'eau: 33.33 m3\n",
      "Le volume totale: 53.33 m3\n",
      "Le poids totale est w = 356034.0 N\n",
      "La force moyenne =  7897.2 N\n",
      "La force frottement =  178017.0 N\n",
      "La digue est en équilibre translationnel avec une force résultant:  -170119.8 N\n"
     ]
    }
   ],
   "source": [
    "## a\n",
    "a = 3\n",
    "xa = 0\n",
    "xe = 5\n",
    "\n",
    "v_digue  = calculate_volume(calcule_integrale, fair, feau, xa, xe, H, L)\n",
    "v_eau = calculate_volume_eau(xe)\n",
    "\n",
    "print(\"Le volume de la digue par intégration:\", v_digue, \"m3\")\n",
    "print(\"Le volume de la séction d'eau:\", v_eau, \"m3\")\n",
    "print(\"Le volume totale:\", v_digue + v_eau, \"m3\")\n",
    "\n",
    "w = calculate_weight(m_digue, v_eau)\n",
    "print(\"Le poids totale est w =\", np.around(w,2), \"N\")\n",
    "\n",
    "## b\n",
    "F_p = calculate_forces(feau, f_p_eau)\n",
    "F_f = calculate_friction(w)\n",
    "\n",
    "F_p_3 = F_p\n",
    "\n",
    "print(\"La force moyenne = \", np.around(F_p, 2), \"N\")\n",
    "print(\"La force frottement = \", np.around(F_f, 2), \"N\")\n",
    "\n",
    "# C\n",
    "is_the_dam_stable(F_p, F_f)"
   ]
  },
  {
   "cell_type": "code",
   "execution_count": 10,
   "metadata": {},
   "outputs": [
    {
     "name": "stdout",
     "output_type": "stream",
     "text": [
      "Le volume de la digue par intégration: 16.67 m3\n",
      "Le volume de la séction d'eau: 33.33 m3\n",
      "Le volume totale: 50.0 m3\n",
      "Le poids totale est w = 356034.0 N\n",
      "La force moyenne =  1286.17 N\n",
      "La force frottement =  178017.0 N\n"
     ]
    }
   ],
   "source": [
    "a = 5\n",
    "xa = 0\n",
    "xe = 5\n",
    "\n",
    "v_digue  = calculate_volume(calcule_integrale, fair, feau, xa, xe, H, L)\n",
    "v_eau = calculate_volume_eau(xe)\n",
    "\n",
    "print(\"Le volume de la digue par intégration:\", v_digue, \"m3\")\n",
    "print(\"Le volume de la séction d'eau:\", v_eau, \"m3\")\n",
    "print(\"Le volume totale:\", v_digue + v_eau, \"m3\")\n",
    "\n",
    "w = calculate_weight(m_digue, v_eau)\n",
    "print(\"Le poids totale est w =\", np.around(w,2), \"N\")\n",
    "\n",
    "## b\n",
    "F_p = calculate_forces(feau, f_p_eau)\n",
    "F_f = calculate_friction(w)\n",
    "\n",
    "F_p_5 = F_p\n",
    "\n",
    "print(\"La force moyenne = \", np.around(F_p, 2), \"N\")\n",
    "print(\"La force frottement = \", np.around(F_f, 2), \"N\")"
   ]
  },
  {
   "cell_type": "code",
   "execution_count": 11,
   "metadata": {},
   "outputs": [
    {
     "name": "stdout",
     "output_type": "stream",
     "text": [
      "Le percentage de réduction entre a=3 et a=5 est  83.71 %\n"
     ]
    }
   ],
   "source": [
    "percentage_reduction = (F_p_3 - F_p_5) * 100 / F_p_3\n",
    "print(\"Le percentage de réduction entre a=3 et a=5 est \",np.around(percentage_reduction,2), \"%\")"
   ]
  },
  {
   "cell_type": "markdown",
   "metadata": {},
   "source": [
    "On constate que la force de pression diminue de 83% lorsque la courbure est plus accentuée."
   ]
  },
  {
   "cell_type": "code",
   "execution_count": 12,
   "metadata": {},
   "outputs": [
    {
     "name": "stdout",
     "output_type": "stream",
     "text": [
      "Le volume de la digue par intégration: 25.0 m3\n",
      "Le volume de la séction d'eau: 40.0 m3\n",
      "Le volume totale: 65.0 m3\n",
      "Le poids totale est w = 421400.0 N\n",
      "La force moyenne =  5691.47 N\n",
      "La force frottement =  210700.0 N\n",
      "La digue est en équilibre translationnel avec une force résultant:  -205008.53 N\n"
     ]
    }
   ],
   "source": [
    "## a\n",
    "a = 3\n",
    "xa = 0\n",
    "xe = 6\n",
    "\n",
    "v_digue  = calculate_volume(calcule_integrale, fair, feau, xa, xe, H, L)\n",
    "v_eau = calculate_volume_eau(xe)\n",
    "\n",
    "print(\"Le volume de la digue par intégration:\", v_digue, \"m3\")\n",
    "print(\"Le volume de la séction d'eau:\", v_eau, \"m3\")\n",
    "print(\"Le volume totale:\", v_digue + v_eau, \"m3\")\n",
    "\n",
    "w = calculate_weight(m_digue, v_eau)\n",
    "print(\"Le poids totale est w =\", np.around(w,2), \"N\")\n",
    "\n",
    "## b\n",
    "F_p = calculate_forces(feau, f_p_eau)\n",
    "F_f = calculate_friction(w)\n",
    "\n",
    "print(\"La force moyenne = \", np.around(F_p, 2), \"N\")\n",
    "print(\"La force frottement = \", np.around(F_f, 2), \"N\")\n",
    "\n",
    "# C\n",
    "is_the_dam_stable(F_p, F_f)"
   ]
  },
  {
   "cell_type": "markdown",
   "metadata": {},
   "source": [
    "## Conclusion\n",
    "\n",
    "\n",
    "On a réussi a comparer différents scénarios d'une digue immergé et soumis à une force de l'eau. Pour les cas où `xe = 0`, on a montré que l'eau peut déplacer la digue. \n",
    "\n",
    "Ainsi pour les cas où la digue est composée d'une fonction courbée (quadratique), la pression de l'eau est mieux répartie, rendant plus difficile le déplacement de la digue. Cela dépend de la courbe, par exemple avec un valeur `a = 3`, la force de pression diminue fortement par rapport à celle calculée pour une digue de fonction linéaire."
   ]
  }
 ],
 "metadata": {
  "interpreter": {
   "hash": "e3e3b631d0578064596570627667cf6d3255b0ded78241c485c6d8d72cb2b64f"
  },
  "kernelspec": {
   "display_name": "Python 3.9.5 ('base')",
   "language": "python",
   "name": "python3"
  },
  "language_info": {
   "codemirror_mode": {
    "name": "ipython",
    "version": 3
   },
   "file_extension": ".py",
   "mimetype": "text/x-python",
   "name": "python",
   "nbconvert_exporter": "python",
   "pygments_lexer": "ipython3",
   "version": "3.9.5"
  },
  "orig_nbformat": 4
 },
 "nbformat": 4,
 "nbformat_minor": 2
}
