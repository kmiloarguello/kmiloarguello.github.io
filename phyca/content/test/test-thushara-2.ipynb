{
 "cells": [
  {
   "cell_type": "code",
   "execution_count": 1,
   "metadata": {},
   "outputs": [],
   "source": [
    "import numpy as np\n",
    "from math import *\n",
    "import pandas as pd\n",
    "from numpy.random import randn\n",
    "from numpy.random import *\n",
    "import matplotlib.pyplot as plt "
   ]
  },
  {
   "cell_type": "code",
   "execution_count": 4,
   "metadata": {},
   "outputs": [
    {
     "name": "stdout",
     "output_type": "stream",
     "text": [
      "Flux : I =  184.6\n",
      "Geometrical factor : G =  2028.7\n",
      "Coincidence counting rate : C =  143429.39 sec-1\n"
     ]
    }
   ],
   "source": [
    "I0 = 70.7 \n",
    "a12 = 0.40\n",
    "a22 = 0.40\n",
    "b12 = 0.40\n",
    "#E0 = 4.29 # en Gev\n",
    "#Ec = 0.5 # en Gev\n",
    "#E = 1 # en m-2.s-1.sr-1\n",
    "A1 = 16 # Surface of the first plane - en m : On calcul l'aire d'un carré\n",
    "A2 = 16 # Surface of the second plane - en m : On calcul l'aire d'un carré\n",
    "l = 0.63 # en m\n",
    "a1 = 0.40 # en m \n",
    "a2 = 0.40 # en m \n",
    "b1 = 0.40 # en m \n",
    "b2 = 0.40 # en m \n",
    "\n",
    "# For calculate the flux - A fonction of both the energy and the zenith angle \n",
    "I = 70.7 * (2 * pi / 3) * (4.79/4.29)**2\n",
    "print(\"Flux : I = \",round(I,2))                 #Use round to limit the result to two decimal places\n",
    "# I = I0 * (2 * pi / 3) * (E0 + Ec / E0)**2\n",
    "# print(I)\n",
    "\n",
    "# For caculate Geometrical factor with the data (2 plans 40cm*40cm separed by l=63cm)\n",
    "# Ici on à tout mis en mètre et non en cm!!\n",
    "G = (4 * pi * A1 * A2 ) / 2* ((l)*2) + a12 + a22 + b12 + b2*2\n",
    "print(\"Geometrical factor : G = \",round(G, 2))\n",
    "\n",
    "# For calculate coincidence counting rate (sec-1) \n",
    "C = I0 * G \n",
    "print(\"Coincidence counting rate : C = \",round(C,2), \"sec-1\")"
   ]
  },
  {
   "cell_type": "code",
   "execution_count": null,
   "metadata": {},
   "outputs": [],
   "source": []
  }
 ],
 "metadata": {
  "kernelspec": {
   "display_name": "base",
   "language": "python",
   "name": "python3"
  },
  "language_info": {
   "codemirror_mode": {
    "name": "ipython",
    "version": 3
   },
   "file_extension": ".py",
   "mimetype": "text/x-python",
   "name": "python",
   "nbconvert_exporter": "python",
   "pygments_lexer": "ipython3",
   "version": "3.9.5"
  }
 },
 "nbformat": 4,
 "nbformat_minor": 2
}
