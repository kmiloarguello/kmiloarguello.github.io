{
 "cells": [
  {
   "cell_type": "markdown",
   "id": "3a061fe7",
   "metadata": {},
   "source": [
    "# Mouvement rétrograde de Mars\n",
    "**Modélisation Numérique en Physique - S2**\n",
    "\n",
    "**Miniprojet 1**\n",
    "\n",
    "**ARGUELLO Camilo**"
   ]
  },
  {
   "cell_type": "markdown",
   "id": "b9fc3dd0",
   "metadata": {},
   "source": [
    "## Tableau\n",
    "\n",
    "1. Introduction\n",
    "2. Mouvement Circulaire Uniforme (MCU)\n",
    "3. Modelisation\n",
    "4. Données\n",
    "5. Résultats\n",
    "6. Conclusion"
   ]
  },
  {
   "cell_type": "markdown",
   "id": "e23bd9c5",
   "metadata": {},
   "source": [
    "## Introduction\n",
    "\n",
    "Notre système solaire est toujours en mouvement constante avec les planètes au tour du soleil. La plupart de ces planètes sont visibles dépuis la terre. Si nous essayons de suivre la position de chacune, on peut remarquer qu'elle change légèrement lorsque chaque planète orbite autour du soleil. Les planètes semblent se deplacer vers l'est sur un fond fixé des étoiles loin de notre système solaire.\n",
    "\n",
    "Cependant, il y a des moments où certaines planètes semblent inverser la direction et voyager en arriere (vers l'ouest), mais après quelques temps, ils reprennent leur cours habituel.\n",
    "\n",
    "> Ce mouvement est appellé: Mouvement rétrograde\n",
    "\n",
    "Pour bien comprendre le phénomène, nous allons modéliser le mouvement de la Terre, ainsi que de Mars autour du soleil."
   ]
  },
  {
   "cell_type": "code",
   "execution_count": 1,
   "id": "b1f58cda",
   "metadata": {},
   "outputs": [],
   "source": [
    "import numpy as np\n",
    "import pandas as pd\n",
    "import matplotlib.pyplot as plt\n",
    "import re\n",
    "from sklearn.metrics import explained_variance_score"
   ]
  },
  {
   "cell_type": "markdown",
   "id": "f4f9a0c8",
   "metadata": {},
   "source": [
    "## Mouvement Circulaire Uniforme (MCU)\n",
    "\n",
    "Le mouvement entre la Terre et Mars peut-être considéré comme un mouvement circulaire uniforme, car les deux planètes ont des trajectoires sur le réferentiel de la orbite du soleil. Ainsi, on peut considérer par exemple que la vitesse est constante.\n",
    "\n",
    "Si on se place dans un plan (x,y), et on considére le soleil dans le centre du plan. La Terre et Mars tourneront autour du soleil. Les deux planètes ont une distance $r$ par rapport le soleil, ainsi que une période.\n",
    "\n",
    "Les équations du mouvement circulaire uniforme (MCU), peuvent être obtenus de la même manière que celles du mouvement rectiligne uniforme, mais en considérant les grandeurs angulaires, au lieu des grandeurs linéaires."
   ]
  },
  {
   "cell_type": "markdown",
   "id": "e753cfd2",
   "metadata": {},
   "source": [
    "Pour un MCU, la vitesse angulaire $\\omega$ est constante, et elle peut se trouver avec la période $T$ du chaque planète:\n",
    "\n",
    "$$ \\omega = \\frac {2\\pi} {T} $$\n",
    "\n",
    "On peut deduire l'expression qui donne l'angle entre le centre $O$ et un point $M$.\n",
    "\n",
    "$$ \\theta (t)=\\omega t+\\theta _{0} $$\n",
    "\n",
    "Où, $\\theta _{0}$ est l'angle initial."
   ]
  },
  {
   "cell_type": "markdown",
   "id": "87845d6d",
   "metadata": {},
   "source": [
    "Dans le point $M$, on peut aussi trouver les coordonées en fonction du temps.\n",
    "\n",
    "$$ x_M(t) = r . \\cos{( \\theta(t) )} $$\n",
    "$$ y_M(t) = r . \\sin{( \\theta(t) )} $$\n",
    "\n",
    "Avec $r$ comme le rayon entre le centre $O$ et le point $M$. Cependant, lorsqu'on se place dans un mouvement heliocentrique, on va considérer aussi l'angle $ \\phi_{app} $ dépuis la Terre. \n",
    "\n",
    "![modelisation](https://phys-mod.github.io/_images/solar.png \"Modelisation\")\n"
   ]
  },
  {
   "cell_type": "markdown",
   "id": "64598c51",
   "metadata": {},
   "source": [
    "## Modelisation\n",
    "\n",
    "On va modeliser le problème comme un système circulaire uniforme de deux corps autour du centre. Pour faire cela, on va définir des grandeurs utiles:"
   ]
  },
  {
   "cell_type": "code",
   "execution_count": 2,
   "id": "2f96ddcd",
   "metadata": {},
   "outputs": [],
   "source": [
    "# Constants\n",
    "\n",
    "T_terre = 365.256 # jours\n",
    "R_s_t = 1 # UA\n",
    "T_mars = 686.885 #jours\n",
    "R_s_m = 1.52371 # UA"
   ]
  },
  {
   "cell_type": "markdown",
   "id": "449cef1f",
   "metadata": {},
   "source": [
    "On calcule la vitesse angulaire pour chaque planète:"
   ]
  },
  {
   "cell_type": "code",
   "execution_count": 3,
   "id": "075a807c",
   "metadata": {},
   "outputs": [
    {
     "name": "stdout",
     "output_type": "stream",
     "text": [
      "w_terre 0.02 rad/s\n",
      "w_mars 0.01 rad/s\n"
     ]
    }
   ],
   "source": [
    "# Angular velocity for earth and mars\n",
    "\n",
    "w_t = 2 * np.pi / T_terre # rad / s\n",
    "print(\"w_terre\",np.around(w_t, 2),\"rad/s\")\n",
    "\n",
    "w_m = 2 * np.pi / T_mars # rad / s\n",
    "print(\"w_mars\",np.around(w_m, 2),\"rad/s\")"
   ]
  },
  {
   "cell_type": "code",
   "execution_count": 4,
   "id": "1ff334e9",
   "metadata": {},
   "outputs": [],
   "source": [
    "# Function to plot the planet displacement for a set of points in the cartesian coordinates\n",
    "\n",
    "def plot_planet(ax, x_t, y_t, x_t_0, y_t_0, x_m, y_m, x_m_0, y_m_0, i ):\n",
    "    \"\"\"\n",
    "    @desc\n",
    "        This function takes each axis and prints the mars and earth trajectory\n",
    "        Moreover, it plots some particular points to show the Mars retrograde effect\n",
    "        \n",
    "    @param {object} ax Current axis\n",
    "    @param {array} x_t Total Earth trajectory in X\n",
    "    @param {array} y_t Total Earth trajectory in Y\n",
    "    @param {array} x_t_0 Specific Earth trajectory in X(t = ?)\n",
    "    @param {array} y_t_0 Specific Earth trajectory in Y(t = ?)\n",
    "    @param {array} x_m Total Mars trajectory in X\n",
    "    @param {array} y_m Total Mars trajectory in Y\n",
    "    @param {array} x_m_0 Specific Mars trajectory in X(t = ?)\n",
    "    @param {array} x_m_0 Specific Mars trajectory in Y(t = ?)\n",
    "    @param {int} i index\n",
    "    \"\"\"\n",
    "    xx_range = [-2, 2]\n",
    "    yy_range = [-3, 4]\n",
    "    \n",
    "    # sun\n",
    "    ax.scatter(0,0, c=\"orange\",s=100, label=\"Soleil\")\n",
    "    \n",
    "    # earth\n",
    "    ax.plot( x_t, y_t , label=\"Terre\", c=\"blue\")\n",
    "    ax.plot(x_t_0,y_t_0, 'o', c=\"blue\")\n",
    "    \n",
    "    # mars\n",
    "    ax.plot( x_m, y_m , label=\"Mars\", c=\"red\")\n",
    "    ax.plot(x_m_0,y_m_0, 'o', c=\"red\")\n",
    "    \n",
    "    ax.set_title(\"Terre-Mars trajectoire - jour=\"+str(i),fontsize=8)\n",
    "\n",
    "    # Defining viewport limits\n",
    "    ax.set_xlim(*xx_range)\n",
    "    ax.set_ylim(*yy_range)\n",
    "    \n",
    "    ax.spines['left'].set_position('zero')\n",
    "    ax.spines['right'].set_color('none')\n",
    "    ax.spines['bottom'].set_position('zero')\n",
    "    ax.spines['top'].set_color('none')\n",
    "    \n",
    "    ax.grid(True)\n",
    "    ax.legend()\n",
    "\n",
    "    ax.set_aspect( 1 )\n"
   ]
  },
  {
   "cell_type": "markdown",
   "id": "5003113e",
   "metadata": {},
   "source": [
    "Pour faire une analyse plus simple, nous allons travailler avec la periode de Mars. Donc, on va se situer dans la situation d'un tour de Mars autour du soleil. On définit le temps maximum, le temps que met Mars pour faire ce voyage, et on fait la comparaison avec la Terre.\n",
    "\n",
    "Ici, on va comparer à différents points aléatoires et en utilisant une équation linéaire, on va trouver la pente entre les deux points et puis on pourra tracer une ligne entre chaque planète au cours de temps.\n",
    "\n",
    "Pour l'initialisation de notre modèle, on se place en $t=0$ avec Mars et la Terre alignées horizontalement."
   ]
  },
  {
   "cell_type": "code",
   "execution_count": 17,
   "id": "f1b2082d",
   "metadata": {},
   "outputs": [
    {
     "data": {
      "image/png": "[encoded data removed]",
      "text/plain": [
       "<Figure size 1080x1080 with 6 Axes>"
      ]
     },
     "metadata": {
      "needs_background": "light"
     },
     "output_type": "display_data"
    }
   ],
   "source": [
    "# I consider the period of mars to define the time\n",
    "# One lap of mars to analyse the mouvement with the earth\n",
    "# The 900 are strictly related with the number of rows in the data to compare with\n",
    "t = np.linspace(0, T_mars, 900) # jours\n",
    "\n",
    "fig, (ax1,ax2,ax3,ax4,ax5,ax6) = plt.subplots( 1,6, figsize=(15,15) ) \n",
    "\n",
    "# Initialization of theta (theta_0) for earth and mars in rads\n",
    "th_0_t = np.pi\n",
    "th_0_m = np.pi\n",
    "\n",
    "# The range is between the t=900\n",
    "for i in range(0,900,1):\n",
    "    #print(\"for i=\" + str(i))\n",
    "    \n",
    "    # MCU\n",
    "    th_t = w_t * t + th_0_t # rad\n",
    "    th_m = w_m * t + th_0_m # rad\n",
    "    \n",
    "    x_t = R_s_t * np.cos( th_t ) \n",
    "    y_t = R_s_t * np.sin( th_t ) #+ 1\n",
    "    \n",
    "    x_t_0 = R_s_t * np.cos( w_t * np.array([i]) + th_0_t )\n",
    "    y_t_0 = R_s_t * np.sin( w_t * np.array([i]) + th_0_t ) #+ 1\n",
    "\n",
    "    x_m = R_s_m * np.cos( th_m )\n",
    "    y_m = R_s_m * np.sin( th_m ) #+ 1\n",
    "    \n",
    "    x_m_0 = R_s_m * np.cos( w_m * np.array([i]) + th_0_m )\n",
    "    y_m_0 = R_s_m * np.sin( w_m * np.array([i]) + th_0_m ) #+ 1\n",
    "    \n",
    "    point1 = np.array([x_t_0,y_t_0])\n",
    "    point2 = np.array([x_m_0,y_m_0])\n",
    "    \n",
    "    # slope\n",
    "    slope = (point2[1] - point1[1]) / (point2[0] - point1[0])\n",
    "    line_x = np.arange(-2, 3, .1)\n",
    "    \n",
    "    # Find the y-intercept\n",
    "    b = point2[1] - ( point2[0] * slope)\n",
    "    \n",
    "    # Linear equation y = xm + b\n",
    "    line_y = line_x * slope + b\n",
    "    \n",
    "    # Randomly times\n",
    "    if i == 0:\n",
    "        plot_planet(ax1,x_t,y_t, x_t_0, y_t_0, x_m, y_m, x_m_0, y_m_0,i )\n",
    "        ax1.plot(line_x,line_y, \"--\")\n",
    "\n",
    "    if i == 100:\n",
    "        plot_planet(ax2,x_t,y_t, x_t_0, y_t_0, x_m, y_m, x_m_0, y_m_0,i )\n",
    "        ax2.plot(line_x,line_y,\"--\")\n",
    "\n",
    "    if i == 200:\n",
    "        plot_planet(ax3,x_t,y_t, x_t_0, y_t_0, x_m, y_m, x_m_0, y_m_0,i )\n",
    "        ax3.plot(line_x,line_y,\"--\")\n",
    "\n",
    "    if i == 300:\n",
    "        plot_planet(ax4,x_t,y_t, x_t_0, y_t_0, x_m, y_m, x_m_0, y_m_0,i )\n",
    "        ax4.plot(line_x,line_y,\"--\")\n",
    "\n",
    "    if i == 400:\n",
    "        plot_planet(ax5,x_t,y_t, x_t_0, y_t_0, x_m, y_m, x_m_0, y_m_0,i )\n",
    "        ax5.plot(line_x,line_y,\"--\")\n",
    "\n",
    "    if i == 500:\n",
    "        plot_planet(ax6,x_t,y_t, x_t_0, y_t_0, x_m, y_m, x_m_0, y_m_0,i )\n",
    "        ax6.plot(line_x,line_y,\"--\")\n",
    "\n",
    "plt.show()"
   ]
  },
  {
   "cell_type": "code",
   "execution_count": 18,
   "id": "0f4e89b3",
   "metadata": {},
   "outputs": [],
   "source": [
    "# MCU\n",
    "th_t = w_t * t + th_0_t # rad\n",
    "th_m = w_m * t + th_0_m # rad\n",
    "\n",
    "x_t = R_s_t * np.cos( th_t ) \n",
    "y_t = R_s_t * np.sin( th_t )\n",
    "\n",
    "x_m = R_s_m * np.cos( th_m )\n",
    "y_m = R_s_m * np.sin( th_m )\n",
    "\n",
    "# The displacement between Mars - Earth is given by the difference of points between mars and earth\n",
    "# By considering the heliocentrism (planets around the sun) \n",
    "phi = np.rad2deg(np.arctan2((y_m - y_t),(x_m - x_t)))"
   ]
  },
  {
   "cell_type": "markdown",
   "id": "65f95e17",
   "metadata": {},
   "source": [
    "La variable $phi$ contient l'information concernant l'angle entre les deux planètes."
   ]
  },
  {
   "cell_type": "markdown",
   "id": "bae6dd0f",
   "metadata": {},
   "source": [
    "## Données\n",
    "\n",
    "Pour vérifier le modèle, on va comparer avec des données astronomiques qui contient l'information des angle de déplacement de mars dépuis la terre."
   ]
  },
  {
   "cell_type": "code",
   "execution_count": 19,
   "id": "4a4b076f",
   "metadata": {},
   "outputs": [],
   "source": [
    "df = pd.read_csv(\"DataMars.csv\", index_col = 0, encoding = 'utf-8', comment='#')"
   ]
  },
  {
   "cell_type": "code",
   "execution_count": 20,
   "id": "39c36372",
   "metadata": {},
   "outputs": [
    {
     "data": {
      "text/html": [
       "<div>\n",
       "<style scoped>\n",
       "    .dataframe tbody tr th:only-of-type {\n",
       "        vertical-align: middle;\n",
       "    }\n",
       "\n",
       "    .dataframe tbody tr th {\n",
       "        vertical-align: top;\n",
       "    }\n",
       "\n",
       "    .dataframe thead th {\n",
       "        text-align: right;\n",
       "    }\n",
       "</style>\n",
       "<table border=\"1\" class=\"dataframe\">\n",
       "  <thead>\n",
       "    <tr style=\"text-align: right;\">\n",
       "      <th></th>\n",
       "      <th>Date</th>\n",
       "      <th>Longitude (d:m:s)</th>\n",
       "      <th>Longitude (decimal)</th>\n",
       "      <th>Latitude (d:m:s)</th>\n",
       "      <th>Latitude (decimal)</th>\n",
       "    </tr>\n",
       "    <tr>\n",
       "      <th>Target</th>\n",
       "      <th></th>\n",
       "      <th></th>\n",
       "      <th></th>\n",
       "      <th></th>\n",
       "      <th></th>\n",
       "    </tr>\n",
       "  </thead>\n",
       "  <tbody>\n",
       "    <tr>\n",
       "      <th>Mars</th>\n",
       "      <td>2015-03-01</td>\n",
       "      <td>6 41 13.6229</td>\n",
       "      <td>6.687117</td>\n",
       "      <td>-00 29 17.9130</td>\n",
       "      <td>-0.488309</td>\n",
       "    </tr>\n",
       "    <tr>\n",
       "      <th>Mars</th>\n",
       "      <td>2015-03-02</td>\n",
       "      <td>7 27 2.2465</td>\n",
       "      <td>7.450624</td>\n",
       "      <td>-00 28 35.5370</td>\n",
       "      <td>-0.476538</td>\n",
       "    </tr>\n",
       "  </tbody>\n",
       "</table>\n",
       "</div>"
      ],
      "text/plain": [
       "              Date Longitude (d:m:s)  Longitude (decimal) Latitude (d:m:s)  \\\n",
       "Target                                                                       \n",
       "Mars    2015-03-01      6 41 13.6229             6.687117   -00 29 17.9130   \n",
       "Mars    2015-03-02       7 27 2.2465             7.450624   -00 28 35.5370   \n",
       "\n",
       "        Latitude (decimal)  \n",
       "Target                      \n",
       "Mars             -0.488309  \n",
       "Mars             -0.476538  "
      ]
     },
     "execution_count": 20,
     "metadata": {},
     "output_type": "execute_result"
    }
   ],
   "source": [
    "df.head(n=2)"
   ]
  },
  {
   "cell_type": "code",
   "execution_count": 21,
   "id": "91ed1bf4",
   "metadata": {},
   "outputs": [],
   "source": [
    "dates = np.array([np.datetime64(date) for date in df['Date']])"
   ]
  },
  {
   "cell_type": "markdown",
   "id": "70bd1c3d",
   "metadata": {},
   "source": [
    "## Résultats"
   ]
  },
  {
   "cell_type": "markdown",
   "id": "0a5d9254",
   "metadata": {},
   "source": [
    "On a fait une première approximation, en remarquant que pendant l'année 2016 on peut observer l'info liée au mouvement retrograde de Mars."
   ]
  },
  {
   "cell_type": "code",
   "execution_count": 22,
   "id": "c9d4ee24",
   "metadata": {},
   "outputs": [
    {
     "data": {
      "text/plain": [
       "[<matplotlib.lines.Line2D at 0x7fe6c9aa5220>]"
      ]
     },
     "execution_count": 22,
     "metadata": {},
     "output_type": "execute_result"
    },
    {
     "data": {
      "image/png": "[encoded data removed]",
      "text/plain": [
       "<Figure size 1080x288 with 2 Axes>"
      ]
     },
     "metadata": {
      "needs_background": "light"
     },
     "output_type": "display_data"
    }
   ],
   "source": [
    "fig, (ax1, ax2) = plt.subplots(1,2, figsize=(15,4))\n",
    "\n",
    "ax1.plot(np.array(dates), phi)\n",
    "ax1.set_title(\"Mars rétrograde déplacement - Model\")\n",
    "ax1.set_ylabel(\"Longitude\")\n",
    "ax1.set_xlabel(\"Date\")\n",
    "\n",
    "ax2.set_title(\"Mars rétrograde déplacement - Data\")\n",
    "ax2.set_ylabel(\"Longitude\")\n",
    "ax2.set_xlabel(\"Date\")\n",
    "ax2.plot(np.array(dates),df['Longitude (decimal)'])"
   ]
  },
  {
   "cell_type": "markdown",
   "id": "f26265d3",
   "metadata": {},
   "source": [
    "Maintenant, on va ajouter les résultats trouvés dans le `dataframe` pour pouvoir filtrer selon une date précise."
   ]
  },
  {
   "cell_type": "code",
   "execution_count": 23,
   "id": "af054566",
   "metadata": {},
   "outputs": [],
   "source": [
    "# Here I create a new column in the dataframe\n",
    "# The goal is to filtrate later\n",
    "df['phi'] = phi"
   ]
  },
  {
   "cell_type": "code",
   "execution_count": 24,
   "id": "99fdbadc",
   "metadata": {},
   "outputs": [
    {
     "data": {
      "text/html": [
       "<div>\n",
       "<style scoped>\n",
       "    .dataframe tbody tr th:only-of-type {\n",
       "        vertical-align: middle;\n",
       "    }\n",
       "\n",
       "    .dataframe tbody tr th {\n",
       "        vertical-align: top;\n",
       "    }\n",
       "\n",
       "    .dataframe thead th {\n",
       "        text-align: right;\n",
       "    }\n",
       "</style>\n",
       "<table border=\"1\" class=\"dataframe\">\n",
       "  <thead>\n",
       "    <tr style=\"text-align: right;\">\n",
       "      <th></th>\n",
       "      <th>Date</th>\n",
       "      <th>Longitude (d:m:s)</th>\n",
       "      <th>Longitude (decimal)</th>\n",
       "      <th>Latitude (d:m:s)</th>\n",
       "      <th>Latitude (decimal)</th>\n",
       "      <th>phi</th>\n",
       "    </tr>\n",
       "    <tr>\n",
       "      <th>Target</th>\n",
       "      <th></th>\n",
       "      <th></th>\n",
       "      <th></th>\n",
       "      <th></th>\n",
       "      <th></th>\n",
       "      <th></th>\n",
       "    </tr>\n",
       "  </thead>\n",
       "  <tbody>\n",
       "    <tr>\n",
       "      <th>Mars</th>\n",
       "      <td>2015-03-01</td>\n",
       "      <td>6 41 13.6229</td>\n",
       "      <td>6.687117</td>\n",
       "      <td>-00 29 17.9130</td>\n",
       "      <td>-0.488309</td>\n",
       "      <td>180.000000</td>\n",
       "    </tr>\n",
       "    <tr>\n",
       "      <th>Mars</th>\n",
       "      <td>2015-03-02</td>\n",
       "      <td>7 27 2.2465</td>\n",
       "      <td>7.450624</td>\n",
       "      <td>-00 28 35.5370</td>\n",
       "      <td>-0.476538</td>\n",
       "      <td>179.727203</td>\n",
       "    </tr>\n",
       "  </tbody>\n",
       "</table>\n",
       "</div>"
      ],
      "text/plain": [
       "              Date Longitude (d:m:s)  Longitude (decimal) Latitude (d:m:s)  \\\n",
       "Target                                                                       \n",
       "Mars    2015-03-01      6 41 13.6229             6.687117   -00 29 17.9130   \n",
       "Mars    2015-03-02       7 27 2.2465             7.450624   -00 28 35.5370   \n",
       "\n",
       "        Latitude (decimal)         phi  \n",
       "Target                                  \n",
       "Mars             -0.488309  180.000000  \n",
       "Mars             -0.476538  179.727203  "
      ]
     },
     "execution_count": 24,
     "metadata": {},
     "output_type": "execute_result"
    }
   ],
   "source": [
    "df.head(n=2)"
   ]
  },
  {
   "cell_type": "code",
   "execution_count": 25,
   "id": "e8d02328",
   "metadata": {},
   "outputs": [
    {
     "data": {
      "text/plain": [
       "<matplotlib.legend.Legend at 0x7fe6c99cbd30>"
      ]
     },
     "execution_count": 25,
     "metadata": {},
     "output_type": "execute_result"
    },
    {
     "data": {
      "image/png": "[encoded data removed]",
      "text/plain": [
       "<Figure size 432x288 with 1 Axes>"
      ]
     },
     "metadata": {
      "needs_background": "light"
     },
     "output_type": "display_data"
    }
   ],
   "source": [
    "# The goal is to compare model and data\n",
    "# I filter by the most interesting year -> 2016\n",
    "# Then I plot both (data & model)\n",
    "\n",
    "data_in_2016 = [np.datetime64(day,'Y') == np.datetime64('2016') for day in df['Date']]\n",
    "df_2016 = df[data_in_2016]\n",
    "dates_2016 = np.array([np.datetime64(date) for date in df_2016['Date']])\n",
    "\n",
    "plt.plot(dates_2016,df_2016['Longitude (decimal)'], \".\", label=\"data\", c=\"red\")\n",
    "plt.plot(dates_2016,df_2016['phi'], label=\"model\", c=\"blue\")\n",
    "plt.legend()"
   ]
  },
  {
   "cell_type": "code",
   "execution_count": 14,
   "id": "6c44b448",
   "metadata": {},
   "outputs": [],
   "source": [
    "y_true = df_2016['Longitude (decimal)']\n",
    "y_pred = df_2016['phi']"
   ]
  },
  {
   "cell_type": "code",
   "execution_count": 15,
   "id": "440c04bd",
   "metadata": {},
   "outputs": [
    {
     "data": {
      "text/plain": [
       "0.37461799061603773"
      ]
     },
     "execution_count": 15,
     "metadata": {},
     "output_type": "execute_result"
    }
   ],
   "source": [
    "# Best possible score is 1.0, lower values are worse.\n",
    "explained_variance_score(y_true, y_pred)"
   ]
  },
  {
   "cell_type": "markdown",
   "id": "89468276",
   "metadata": {},
   "source": [
    "## Conclusions\n",
    "\n",
    "On a créé un modèle capable de reproduire le mouvement rétrograde de Mars, ce modèle prend en compte le mouvement héliocentrique des planètes comme s'il s'agissait d'un mouvement circulaire uniforme autour du soleil. \n",
    "\n",
    "Dans les résultats, on peut voir qu'on a bien obtenu un effet rétrograde de Mars, cependant il est diffèrent par l'angle obtenu dans les données."
   ]
  }
 ],
 "metadata": {
  "kernelspec": {
   "display_name": "Python 3 (ipykernel)",
   "language": "python",
   "name": "python3"
  },
  "language_info": {
   "codemirror_mode": {
    "name": "ipython",
    "version": 3
   },
   "file_extension": ".py",
   "mimetype": "text/x-python",
   "name": "python",
   "nbconvert_exporter": "python",
   "pygments_lexer": "ipython3",
   "version": "3.9.5"
  }
 },
 "nbformat": 4,
 "nbformat_minor": 5
}
