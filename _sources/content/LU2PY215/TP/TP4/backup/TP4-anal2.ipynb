{
 "cells": [
  {
   "cell_type": "markdown",
   "id": "639e52ea",
   "metadata": {},
   "source": [
    "## Réalisation de l'expérience\n",
    "Pour cette expérience, nous utiliserons l'application Phyphox qui nous permettra de mesurer le temps que met le son du clap pour aller d'un téléphone à un autre. Voilà donc les étapes pour réaliser ces mesures:\n",
    "\n",
    "1. On place les téléphones à une distance d (parmis 0.5,1,2,3,4,5)\n",
    "2. La première personne réalise un clap situé à une distance a du téléphone 1\n",
    "3. La seconde personne réalise un deuxième clap à partir d'une distance b du téléphone 2.\n",
    "4. On note les mesures affichées par chaque téléphone.\n",
    "\n",
    "On obtient donc deux tableaux de la forme 6*10 soit 10 mesures pour les 6 distances."
   ]
  },
  {
   "cell_type": "markdown",
   "id": "b466883f",
   "metadata": {},
   "source": [
    "### Minimisation numérique de $\\chi ^2$ \n",
    "Nous cherchons maintenant à créer une fonction qui calcule le $\\chi ^2$ en fonction de la vitesse et de visualiser sur une courbe $\\chi ^2 (v)$.\n",
    "\n",
    "Comme on peut le voir ci-dessous, cette courbe prend la forme d'une parabole. On note aussi qu'on obtiens un $\\chi ^2$ de $336$  $m/s$ alors que la vitesse calculée précedemment expérimentalement était de $338$ $m/s$. On peut donc dire que le modèle est satisfaisant.\n",
    "\n",
    "Visuellement, la valeur de $v$ qui minimise le $\\chi ^2$ est de $339$ $m/s.$\n",
    "\n",
    "On a aussi calculé cette valeur à l'aide d'un algorithme et on obtient: $340$ $m/s$ ce qui correspond complètement à la valeur exacte!! La minimisation est dobc très efficace ici."
   ]
  },
  {
   "cell_type": "code",
   "execution_count": null,
   "id": "b06477fd",
   "metadata": {},
   "outputs": [],
   "source": []
  }
 ],
 "metadata": {
  "kernelspec": {
   "display_name": "Python 3 (ipykernel)",
   "language": "python",
   "name": "python3"
  },
  "language_info": {
   "codemirror_mode": {
    "name": "ipython",
    "version": 3
   },
   "file_extension": ".py",
   "mimetype": "text/x-python",
   "name": "python",
   "nbconvert_exporter": "python",
   "pygments_lexer": "ipython3",
   "version": "3.7.3"
  }
 },
 "nbformat": 4,
 "nbformat_minor": 5
}
