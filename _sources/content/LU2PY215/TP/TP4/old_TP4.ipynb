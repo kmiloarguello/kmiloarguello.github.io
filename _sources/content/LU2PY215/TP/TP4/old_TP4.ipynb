{
 "cells": [
  {
   "attachments": {},
   "cell_type": "markdown",
   "metadata": {},
   "source": [
    "# TP4 : Mesure de la vitesse du son\n",
    "\n",
    "## 1. Expérience\n",
    "### Auteur : ARGUELLO Camilo"
   ]
  },
  {
   "attachments": {},
   "cell_type": "markdown",
   "metadata": {},
   "source": [
    "### 1.0 Introduction\n",
    "\n",
    "\n",
    "Dans ce travail, nous désirons mesurer la vitesse du son. Pour cela nous utiliserons le mode \"Chronomètre sonore\" de Phyphox.\n",
    "Nous placerons deux téléphones espacés d'une distance d et nous allons ensuite produire deux bruits en tapant dans nos mains, l'un proche du téléphone 1 et l'autre du 2."
   ]
  },
  {
   "cell_type": "code",
   "execution_count": null,
   "metadata": {},
   "outputs": [],
   "source": [
    "import numpy as np\n",
    "import matplotlib.pyplot as plt\n",
    "import pandas as pd\n",
    "import qexpy as q\n",
    "import qexpy.plotting as qplt\n",
    "import scipy.stats as stats\n",
    "from scipy.optimize import minimize\n",
    "from IPython.display import display, Math"
   ]
  },
  {
   "attachments": {},
   "cell_type": "markdown",
   "metadata": {},
   "source": [
    "### 1 Mesure de la vitesse du son\n",
    "\n",
    "#### Réalisation de l'expérience\n",
    "Pour cette expérience, nous utiliserons l'application Phyphox qui nous permettra de mesurer le temps que met le son du clap pour aller d'un téléphone à un autre. Voilà donc les étapes pour réaliser ces mesures:\n",
    "\n",
    "1. On place les téléphones à une distance d (parmis 0.5,1,2,3,4,5)\n",
    "2. La première personne réalise un clap situé à une distance a du téléphone 1\n",
    "3. La seconde personne réalise un deuxième clap à partir d'une distance b du téléphone 2.\n",
    "4. On note les mesures affichées par chaque téléphone.\n",
    "\n",
    "On obtient donc deux tableaux de la forme 6*10 soit 10 mesures pour les 6 distances."
   ]
  },
  {
   "attachments": {},
   "cell_type": "markdown",
   "metadata": {},
   "source": [
    "#### 1.1 Questions préparatoires\n",
    "\n",
    "Voici les grandeurs qu'on utilisera: $v$ la vitesse du son, $d$ la distance entre chaque téléphone, $a$ la distance entre le point d'origine du son 1 et le téléphone 1 et $b$ la distance entre le point d'origine du son 2 et le téléphone 2. On note qu'on choisit de réaliser les \"claps\" alignés aux deux téléphones (et non pas au-dessus) afin de pouvoir écrire: $a+d$ la distance du \"clap\" 1 au téléphone 2 et $b+d$ celle du \"clap\" 2 au téléphone 1. \n",
    "\n",
    "![Mesure clap](./assets/clap_mesures.jpg)\n",
    "\n",
    "On définit donc $t_{1->1}$ et $t_{1->2}$ les temps d'arrivés du \"clap 1\" sur le téléphone 1 et 2 ainsi que $t_{2->1}$ et $t_{2->2}$ pour le \"clap 2\". \n",
    "\n",
    "On a alors: $\\Delta t_1 = t_{2->1}-t_{1->1}$ et $\\Delta t_2 = t_{2->2}-t_{1->2}$ les intervalles de temps mesuré par chaque téléphone.\n",
    "\n",
    "\n",
    "On peut donc écrire: $$\\Delta t_1 = \\frac{b+d}{v} - \\frac{a}{v} = \\frac{b-a+d}{v}$$ et $$\\Delta t_2 = \\frac{b}{v} - \\frac{a+d}{v} = \\frac{b-a-d}{v}.$$\n",
    "On a alors:$\\Delta t_1 - \\Delta t_2 = \\frac{2d}{v}.$\n",
    "\n",
    "Ainsi, pour trouver la vitesse du son en fonction de $\\Delta t_1$ et $\\Delta t_2$, on écrira simplement:$$v=\\frac{2d}{\\Delta t_1 - \\Delta t_2} .$$\n",
    "\n",
    "Comme on l'a expliqué plus haut, il vaut mieux de faire les bruits dans l'alignement des deux téléphones afin d'avoir les distances a,b et d sur une ligne. Si on les faisait au-dessus,on aurait des angles droits.\n",
    "\n"
   ]
  },
  {
   "attachments": {},
   "cell_type": "markdown",
   "metadata": {},
   "source": [
    "\n",
    "#### 1.2 Estimation des erreurs\n",
    "\n",
    "Dans cette partie, nous cherchons à estimer les erreurs dûes à:\n",
    "* la position du capteur\n",
    "* la mesure de la distance entre les deux capteurs\n",
    "* le temps de vol du son entre les deux téléphones.\n",
    "\n",
    "L'estimation de l'erreur sur la position du capteur de son sur chacun des téléphones dépend de plusieurs facteurs, tels que la précision de la calibration du capteur, la qualité de la conception du téléphone et la stabilité de la fixation du capteur. Nous pouvons donc dire que pour les téléphones modernes, on peut estimer une erreur de position du capteur de son de l'ordre de quelques millimètres.\n"
   ]
  },
  {
   "cell_type": "code",
   "execution_count": null,
   "metadata": {},
   "outputs": [],
   "source": [
    "def calculate_uncertainty (hs):\n",
    "    \"\"\"\n",
    "    Cette fonction calcule l'incertitude sur la moyenne d'une série de mesures\n",
    "    \"\"\"\n",
    "    avg = np.mean(hs)\n",
    "    std = np.std(hs) \n",
    "    dx = std / np.sqrt(len(hs))\n",
    "    dh = np.sqrt(dx**2 + dx**2)\n",
    "    return avg, dh"
   ]
  },
  {
   "cell_type": "code",
   "execution_count": null,
   "metadata": {},
   "outputs": [],
   "source": [
    "# Pour chaque distance, on a mesuré 2 fois\n",
    "distance_a = np.array([10.0, 10.2]) # cm\n",
    "distance_b = np.array([10.0, 10.1]) # cm\n",
    "distance_d = np.array([50, 48.1]) # cm\n",
    "\n",
    "avg_a, dh_a = calculate_uncertainty(distance_a)\n",
    "avg_b, dh_b = calculate_uncertainty(distance_b)\n",
    "avg_d, dh_d = calculate_uncertainty(distance_d)\n",
    "\n",
    "display(Math(r\"\\text{{Distance}} \\, \\mathbf{{a}} = {:.2f} \\pm {:.2f} \\text{{ cm}}\".format(avg_a, dh_a)))\n",
    "display(Math(r\"\\text{{Distance}} \\, \\mathbf{{b}} = {:.2f} \\pm {:.2f} \\text{{ cm}}\".format(avg_b, dh_b)))\n",
    "display(Math(r\"\\text{{Distance}} \\, \\mathbf{{d}} = {:.2f} \\pm {:.2f} \\text{{ cm}}\".format(avg_d, dh_d)))\n",
    "\n",
    "total_distance = avg_a + avg_b + avg_d\n",
    "total_distance_error = np.sqrt(dh_a**2 + dh_b**2 + dh_d**2)\n",
    "\n",
    "display(Math(r\"\\text{{Distance totale}} = {:.2f} \\pm {:.2f} \\text{{ cm}}\".format(total_distance, total_distance_error)))"
   ]
  },
  {
   "attachments": {},
   "cell_type": "markdown",
   "metadata": {},
   "source": [
    "Ainsi, on peut estimer l'erreur sur le temps de vol du son entre les deux téléphones. Dans ce cas, nous mesurons 3 fois à une distance de 0,5 m. "
   ]
  },
  {
   "cell_type": "code",
   "execution_count": null,
   "metadata": {},
   "outputs": [],
   "source": [
    "data_phone_1_m1 = pd.read_csv(\"mesures/telephone1-m1/All.csv\", sep=',', skiprows=0)\n",
    "data_phone_1_m2 = pd.read_csv(\"mesures/telephone1-m2/All.csv\", sep=',', skiprows=0)\n",
    "data_phone_1_m3 = pd.read_csv(\"mesures/telephone1-m3/All.csv\", sep=',', skiprows=0)\n",
    "\n",
    "data_phone_2_m1 = pd.read_csv(\"mesures/telephone2-m1/All.csv\", sep=',', skiprows=0)\n",
    "data_phone_2_m2 = pd.read_csv(\"mesures/telephone2-m2/All.csv\", sep=',', skiprows=0)\n",
    "data_phone_2_m3 = pd.read_csv(\"mesures/telephone2-m3/All.csv\", sep=',', skiprows=0)"
   ]
  },
  {
   "cell_type": "code",
   "execution_count": null,
   "metadata": {},
   "outputs": [],
   "source": [
    "# Pour calculer l'erreur sur le temps\n",
    "# On prend les valeurs Delta t pour chaque clap\n",
    "# Clap 1\n",
    "# Valeurs de clap 1 pour le téléphone 1 et 2\n",
    "# The nomeclature is e_{experiment number}_all_intervals_clap{clap number}\n",
    "e_1_all_intervals_clap1 = pd.concat([data_phone_1_m1[\"Interval (s)\"][:1],data_phone_2_m1[\"Interval (s)\"][:1]])\n",
    "e_1_all_intervals_clap2 = pd.concat([data_phone_1_m1[\"Interval (s)\"][1:2],data_phone_2_m1[\"Interval (s)\"][1:2]])\n",
    "\n",
    "# Clap 2\n",
    "e_2_all_intervals_clap1 = pd.concat([data_phone_1_m2[\"Interval (s)\"][:1],data_phone_2_m2[\"Interval (s)\"][:1]])\n",
    "e_2_all_intervals_clap2 = pd.concat([data_phone_1_m2[\"Interval (s)\"][1:2],data_phone_2_m2[\"Interval (s)\"][1:2]])\n",
    "\n",
    "# Clap 3\n",
    "e_3_all_intervals_clap1 = pd.concat([data_phone_1_m3[\"Interval (s)\"][:1],data_phone_2_m3[\"Interval (s)\"][:1]])\n",
    "e_3_all_intervals_clap2 = pd.concat([data_phone_1_m3[\"Interval (s)\"][1:2],data_phone_2_m3[\"Interval (s)\"][1:2]])\n"
   ]
  },
  {
   "cell_type": "code",
   "execution_count": null,
   "metadata": {},
   "outputs": [],
   "source": [
    "# Valeurs moyennes pour les claps\n",
    "clap1_avg_times = [\n",
    "    calculate_uncertainty(e_1_all_intervals_clap1)[0],\n",
    "    calculate_uncertainty(e_2_all_intervals_clap1)[0],\n",
    "    calculate_uncertainty(e_3_all_intervals_clap1)[0]\n",
    "]\n",
    "clap2_avg_times = [\n",
    "    calculate_uncertainty(e_1_all_intervals_clap2)[0],\n",
    "    calculate_uncertainty(e_2_all_intervals_clap2)[0],\n",
    "    calculate_uncertainty(e_3_all_intervals_clap2)[0]\n",
    "]\n",
    "\n",
    "# Erreurs pour les claps\n",
    "clap1_errors = [\n",
    "    calculate_uncertainty(e_1_all_intervals_clap1)[1],\n",
    "    calculate_uncertainty(e_2_all_intervals_clap1)[1],\n",
    "    calculate_uncertainty(e_3_all_intervals_clap1)[1]\n",
    "]\n",
    "clap2_errors = [\n",
    "    calculate_uncertainty(e_1_all_intervals_clap2)[1],\n",
    "    calculate_uncertainty(e_2_all_intervals_clap2)[1],\n",
    "    calculate_uncertainty(e_3_all_intervals_clap2)[1]\n",
    "]\n",
    "# Temps total pour chaque clap\n",
    "clap1_total_time = sum(clap1_avg_times)\n",
    "clap2_total_time = sum(clap2_avg_times)\n",
    "\n",
    "# Erreur totale pour chaque clap\n",
    "clap1_total_error = np.sqrt(sum([err**2 for err in clap1_errors]))\n",
    "clap2_total_error = np.sqrt(sum([err**2 for err in clap2_errors]))\n",
    "\n",
    "# Print the results\n",
    "display(Math(r\"\\text{{Temps total pour le clap 1}} = {:.2f} \\pm {:.2f} \\text{{ s}}\".format(clap1_total_time, clap1_total_error)))\n",
    "display(Math(r\"\\text{{Temps total pour le clap 2}} = {:.2f} \\pm {:.2f} \\text{{ s}}\".format(clap2_total_time, clap2_total_error)))"
   ]
  },
  {
   "attachments": {},
   "cell_type": "markdown",
   "metadata": {},
   "source": [
    "La mesure est donc relativement précise pour chaque clap. On peut donc aussi confirmer que l'erreur sur le temps de vol du son entre les deux téléphones est de l'ordre de quelques millisecondes."
   ]
  },
  {
   "attachments": {},
   "cell_type": "markdown",
   "metadata": {},
   "source": [
    "#### 1.3 Prise de données\n",
    "\n",
    "##### Mode opératoire\n",
    "\n",
    "Pour cette expérience, nous utiliserons l'application Phyphox qui nous permettra de mesurer le temps que met le son du clap pour aller d'un téléphone à un autre. Voilà donc les étapes pour réaliser ces mesures:\n",
    "\n",
    "1. On place les téléphones à une distance $d$ (parmis 0.5,1,2,3,4,5)\n",
    "2. La première personne réalise un clap situé à une distance $a$ du téléphone 1\n",
    "3. La seconde personne réalise un deuxième clap à partir d'une distance $b$ du téléphone 2.\n",
    "4. On note les mesures affichées par chaque téléphone.\n",
    "\n",
    "On obtient donc deux tableaux de la forme `6*10` soient 10 mesures pour les 6 distances."
   ]
  },
  {
   "cell_type": "code",
   "execution_count": null,
   "metadata": {},
   "outputs": [],
   "source": [
    "distances = np.array([0.5, 1, 2, 3, 4, 5]) # Liste des distances en mètres\n",
    "\n",
    "#Pour d = 0.5 m\n",
    "\n",
    "t1d = np.array([2.936, 1.719, 0.962, 2.014, 1.925, 1.991, 1.723, 1.367, 1.542, 2.014]) #[s]\n",
    "t2d = np.array([2.934, 1.722, 0.959, 2.011, 1.922, 1.988, 1.719, 1.364, 1.539, 2.011]) #[s]\n",
    "\n",
    "#Pour d = 1 m\n",
    "\n",
    "t1d1 = np.array([1.666, 1.336, 2.171, 1.782, 1.675 , 1.705, 1.765, 1.472, 1.720, 1.555]) #[s]\n",
    "t2d1 = np.array([1.662, 1.330, 2.166, 1.777, 1.669 , 1.698, 1.755, 1.467, 1.714, 1.549]) #[s]\n",
    "\n",
    "#Pour d = 2 m\n",
    "\n",
    "t1d2 = np.array([1.510, 1.545,1.537 , 1.970, 1.203, 1.550, 1.314, 1.189, 1.482, 1.389]) #[s]\n",
    "t2d2 = np.array([1.500, 1.532, 1.526,1.958, 1.190, 1.538, 1.302, 1.178, 1.469, 1.377]) #[s]\n",
    "\n",
    "#Pour d = 3 m\n",
    "\n",
    "t1d3 = np.array([1.334, 1.318, 1.672, 1.610, 1.571, 1.100, 1.526, 1.129, 1.497 , 1.072]) #[s]\n",
    "t2d3 = np.array([1.315 , 1.301, 1.665, 1.593, 1.554, 1.083, 1.509, 1.111, 1.479, 1.055]) #[s]\n",
    "\n",
    "#Pour d = 4m\n",
    "\n",
    "t1d4 = np.array([1.225, 1.371, 0.929, 0.908, 1.526, 1.215, 1.192, 0.923, 1.150, 1.086]) #[s]\n",
    "t2d4 = np.array([1.202, 1.351, 0.905, 0.883, 1.492, 1.192, 1.170, 0.898, 1.127, 1.064]) #[s]\n",
    "\n",
    "#Pour d = 5 m\n",
    "\n",
    "t1d5 = np.array([1.070, 1.205, 1.067, 1.093, 1.117, 1.410, 1.004, 1.312, 1.284, 1.316]) #[s]\n",
    "t2d5 = np.array([1.039, 1.176, 1.037, 1.063, 1.086, 1.378, 0.974, 1.282, 1.256, 1.284]) #[s]"
   ]
  },
  {
   "cell_type": "code",
   "execution_count": null,
   "metadata": {},
   "outputs": [],
   "source": [
    "num_measurements = 10  # Nombre de mesures pour chaque distance\n",
    "\n",
    "temps_phone_1 = np.array([\n",
    "   t1d,\n",
    "   t1d1, \n",
    "   t1d2,\n",
    "   t1d3,\n",
    "   t1d4,\n",
    "   t1d5\n",
    "])\n",
    "\n",
    "temps_phone_2 = np.array([\n",
    "    t2d,\n",
    "    t2d1,\n",
    "    t2d2,\n",
    "    t2d3,\n",
    "    t2d4,\n",
    "    t2d5\n",
    "])\n",
    "\n",
    "print(temps_phone_1.shape)\n",
    "print(temps_phone_2.shape)"
   ]
  },
  {
   "cell_type": "code",
   "execution_count": 16,
   "metadata": {},
   "outputs": [
    {
     "data": {
      "image/png": "[encoded data removed]",
      "text/plain": [
       "<Figure size 720x432 with 1 Axes>"
      ]
     },
     "metadata": {
      "needs_background": "light"
     },
     "output_type": "display_data"
    },
    {
     "data": {
      "text/latex": [
       "$\\displaystyle \\text{Vitesse moyenne du son} = 338.2 \\pm 24.93 \\text{ m/s}$"
      ],
      "text/plain": [
       "<IPython.core.display.Math object>"
      ]
     },
     "metadata": {},
     "output_type": "display_data"
    },
    {
     "data": {
      "text/latex": [
       "$\\displaystyle \\text{{Valeur tabulée}} = 340 \\text{{ m/s}}$"
      ],
      "text/plain": [
       "<IPython.core.display.Math object>"
      ]
     },
     "metadata": {},
     "output_type": "display_data"
    }
   ],
   "source": [
    "\n",
    "# Tableau 2D pour stocker les mesures de temps\n",
    "time_measurements = temps_phone_1 - temps_phone_2\n",
    "\n",
    "# Calcul de ∆t2 - ∆t1 et de l'erreur associée\n",
    "mean_differences = np.mean(time_measurements, axis=1)\n",
    "error_differences = np.std(time_measurements, axis=1) / np.sqrt(num_measurements)\n",
    "\n",
    "# Calcul de la vitesse du son v et propagation des erreurs\n",
    "speed_of_sound = []\n",
    "error_speed_of_sound = []\n",
    "\n",
    "for i, distance in enumerate(distances):\n",
    "    speed = []\n",
    "    for mesure in time_measurements[i]:\n",
    "        speed2 = 2 * distance / mesure\n",
    "        speed.append(speed2)\n",
    "\n",
    "    error_distance = 0.01  # Supposons une erreur de 1 cm sur la distance d\n",
    "    error_speed = np.mean(speed) * np.sqrt((error_distance / distance)**2 + (error_differences[i] / mean_differences[i])**2)\n",
    "    \n",
    "    speed_of_sound.append(np.mean(speed))\n",
    "    error_speed_of_sound.append(error_speed)\n",
    "    \n",
    "# Calcul de la vitesse moyenne du son et de l'erreur associée\n",
    "mean_speed_of_sound = np.mean(speed_of_sound)\n",
    "error_mean_speed_of_sound = np.mean(error_speed_of_sound)\n",
    "\n",
    "# plot distance et speed_of_sound\n",
    "# Tracé de la vitesse du son en fonction de la distance\n",
    "plt.figure(figsize=(10, 6))\n",
    "plt.errorbar(distances, speed_of_sound, yerr=error_speed_of_sound, fmt='o')\n",
    "plt.axhline(y=340, color='r', linestyle='--', label='Valeur tabulée (340 m/s)')\n",
    "plt.axhline(y=mean_speed_of_sound, color='g', linestyle='--', label='Vitesse moyenne (' + str(round(mean_speed_of_sound, 2)) + ' m/s)')\n",
    "plt.title('Vitesse du son en fonction de la distance')\n",
    "plt.xlabel('Distance (m)')\n",
    "plt.ylabel('Vitesse du son (m/s)')\n",
    "plt.legend()\n",
    "plt.show()\n",
    "\n",
    "\n",
    "\n",
    "display(Math(r\"\\text{{Vitesse moyenne du son}} = {:.4} \\pm {:.4} \\text{{ m/s}}\".format(mean_speed_of_sound, error_mean_speed_of_sound)))\n",
    "display(Math(r\"\\text{{Valeur tabulée}} = 340 \\text{{ m/s}}\"))"
   ]
  },
  {
   "attachments": {},
   "cell_type": "markdown",
   "metadata": {},
   "source": [
    "A partir des données prises en réalisant l'expérience, nous avons pu réaliser un graphe illustrant la vitesse du son calculée à partir des temps mesurés en fonction de la distance entre les téléphones. \n",
    "\n",
    "Nous observons ici que les vitesses expérimentales correspondent plutôt bien à la valeur réelle puisqu'on a $338\\ m/s$ comme vitesse moyenne de son (ce qui est quand même proche de $340 \\ m/s$).\n",
    "\n",
    "On voit aussi sur ce graphe que les erreurs sur les temps sont plus importants que les erreurs sur la distance."
   ]
  },
  {
   "attachments": {},
   "cell_type": "markdown",
   "metadata": {},
   "source": [
    "## 1.4 Ajustement de modèle\n",
    "\n",
    "### Minimisation numérique de $\\chi ^2$\n",
    "\n",
    "Nous cherchons maintenant à créer une fonction qui calcule le $\\chi ^2$ en fonction de la vitesse et de visualiser sur une courbe $\\chi ^2 (v)$.\n",
    "\n",
    "Comme on peut le voir ci-dessous, cette courbe prend la forme d'une parabole. On note aussi qu'on obtiens un $\\chi ^2$ de $336$  $m/s$ alors que la vitesse calculée précedemment expérimentalement était de $338$ $m/s$. On peut donc dire que le modèle est satisfaisant.\n",
    "\n",
    "Visuellement, la valeur de $v$ qui minimise le $\\chi ^2$ est de $339$ $m/s.$\n",
    "\n",
    "On a aussi calculé cette valeur à l'aide d'un algorithme et on obtient: $340$ $m/s$ ce qui correspond complètement à la valeur exacte!! La minimisation est donc très efficace ici."
   ]
  },
  {
   "cell_type": "code",
   "execution_count": null,
   "metadata": {},
   "outputs": [],
   "source": [
    "num_measurements = len(time_measurements[0])  # Nombre de mesures pour chaque distance\n",
    "\n",
    "def chi_squared(v):\n",
    "    chi_squared = 0\n",
    "    for i in range(len(distances)):\n",
    "        chi_squared += np.sum(((time_measurements[i] - (2 *distances[i] / v))**2 / 0.001**2))\n",
    "    return chi_squared\n",
    "\n",
    "# Tracé de χ^2 en fonction de v\n",
    "v_values = np.linspace(300, 400, 100)  # Plage de valeurs pour v\n",
    "chi_squared_values = np.array([chi_squared(v) for v in v_values])\n",
    "\n",
    "plt.plot(v_values, chi_squared_values)\n",
    "plt.xlabel('Vitesse du son (m/s)')\n",
    "plt.ylabel('χ^2')\n",
    "plt.show()\n",
    "\n",
    "# Détermination de la valeur minimale approximative de χ^2\n",
    "min_chi_squared_index = np.argmin(chi_squared_values)\n",
    "min_chi_squared_v = v_values[min_chi_squared_index]\n",
    "min_chi_squared = chi_squared_values[min_chi_squared_index]\n",
    "\n",
    "display(Math(r\"\\text{{Valeur minimale approximative de}} \\; \\chi^2 = {:.4} \\text{{ m/s}}\".format(min_chi_squared)))\n",
    "display(Math(r\"\\text{{Valeur de }} v \\text{{ associée à }} \\chi^2 \\text{{ minimale}} = {:.4} \\text{{ m/s}}\".format(min_chi_squared_v)))"
   ]
  },
  {
   "attachments": {},
   "cell_type": "markdown",
   "metadata": {},
   "source": [
    "### Méthode analytique par minimisation du $\\chi ^2$"
   ]
  },
  {
   "attachments": {},
   "cell_type": "markdown",
   "metadata": {},
   "source": [
    "D'après l'expression:\n",
    "\n",
    "$$ v = \\frac{2d}{\\Delta t_1 - \\Delta t_2} $$\n",
    "\n",
    "On peut dire qu'il existe une relation linéaire entre $v$ et $\\Delta t_1 - \\Delta t_2$. Alors, maintenant on peut chercher une valeur de $v$ qui minimise $\\chi ^2$.\n",
    "\n",
    "On a donc:\n",
    "\n",
    "$$ f(x) = a x $$ \n",
    "\n",
    "On peut donc calculer $a$:\n",
    "\n",
    "$$ A = \\sum_{i=1}^{n} \\frac{x_i y_i}{\\sigma_i^2}, \\ B = \\sum_{i=1}^{n} \\frac{x_i^2}{\\sigma _i^2}, \\ C = \\sum_{i=1}^{n} \\frac{x_i}{\\sigma _i^2}, \\ D = \\sum_{i=1}^{n} \\frac{y_i}{\\sigma _i^2}, \\ E = \\sum_{i=1}^{n} \\frac{1}{\\sigma _i^2} $$\n",
    "\n",
    "$$ \\hat{a} = \\frac{AE-DC}{BE-C^2} $$\n",
    "\n",
    "Et après simplification:\n",
    "\n",
    "$$ \\hat{a} = \\frac{A}{B} $$\n"
   ]
  },
  {
   "cell_type": "code",
   "execution_count": null,
   "metadata": {},
   "outputs": [],
   "source": [
    "# Calcul du χ² (analytique)\n",
    "\n",
    "A = 0\n",
    "B = 0\n",
    "\n",
    "for i,d in enumerate(distances):\n",
    "    A += np.sum(d * time_measurements[i] / 0.001**2)\n",
    "    B += np.sum(d**2 / 0.001**2)\n",
    "\n",
    "a = A / B\n",
    "v_1 = 2 / a\n",
    "\n",
    "print(a, v_1)"
   ]
  },
  {
   "cell_type": "code",
   "execution_count": null,
   "metadata": {},
   "outputs": [],
   "source": [
    "# x = v * (delta t)\n",
    "# v = x / (delta t)\n",
    "\n",
    "v_analytic = []\n",
    "for i,d in enumerate(distances):\n",
    "    v = 2 * d / time_measurements[i]\n",
    "    percent_error = np.std(v) / np.mean(v) * 100\n",
    "    print(\"Pour d = {:.3} m, v = {:.5} m/s ± {:.3} %\".format(d, np.mean(v), percent_error))\n",
    "    v_analytic.append(np.mean(v))\n",
    "\n",
    "results = np.array([minimize(chi_squared, [v]) for v in v_analytic])\n",
    "\n",
    "# Does all the optimizations converge?\n",
    "all_converged = all([result.success for result in results])\n",
    "print(\"\\nToutes les optimisations ont convergé: \", all_converged)\n",
    "\n",
    "xs = np.array([result.x for result in results]).reshape(-1)"
   ]
  },
  {
   "attachments": {},
   "cell_type": "markdown",
   "metadata": {},
   "source": [
    "#### Ajustement par QExPy"
   ]
  },
  {
   "cell_type": "code",
   "execution_count": 15,
   "metadata": {},
   "outputs": [
    {
     "data": {
      "image/png": "[encoded data removed]",
      "text/plain": [
       "<Figure size 460.8x518.4 with 2 Axes>"
      ]
     },
     "metadata": {
      "needs_background": "light"
     },
     "output_type": "display_data"
    },
    {
     "name": "stdout",
     "output_type": "stream",
     "text": [
      "----------------- Fit Results -------------------\n",
      "Fit of first to linear\n",
      "\n",
      "Result Parameter List: \n",
      "slope = 0.0061 +/- 0.0002,\n",
      "intercept = -0.0006 +/- 0.0006\n",
      "\n",
      "Correlation Matrix: \n",
      "[[ 1.    -0.851]\n",
      " [-0.851  1.   ]]\n",
      "\n",
      "chi2/ndof = 0.00/3\n",
      "\n",
      "--------------- End Fit Results -----------------\n"
     ]
    },
    {
     "data": {
      "text/latex": [
       "$\\displaystyle \\text{Valeur de } a \\text{ obtenue par régression linéaire} = 0.006099$"
      ],
      "text/plain": [
       "<IPython.core.display.Math object>"
      ]
     },
     "metadata": {},
     "output_type": "display_data"
    }
   ],
   "source": [
    "# Calcul des moyennes et erreurs\n",
    "mean_differences = q.MeasurementArray(np.mean(time_measurements, axis=1), unit='s', name='Temps moyen')\n",
    "error_differences = q.MeasurementArray(np.std(time_measurements, axis=1) / 0.001**2, unit='s', name='Incertitude')\n",
    "\n",
    "distances_q = q.MeasurementArray(distances, unit='m', name='Distance')\n",
    "mean_differences_q = q.MeasurementArray(mean_differences)\n",
    "error_differences_q = q.MeasurementArray(error_differences)\n",
    "\n",
    "figure = qplt.plot(\n",
    "    xdata=distances_q,\n",
    "    ydata=mean_differences_q,\n",
    "    yerror=error_differences_q,\n",
    "    name=\"first\")\n",
    "\n",
    "resultats = figure.fit(model=q.FitModel.LINEAR)\n",
    "a_qexpy = resultats.params[0].value # extraction de a\n",
    "figure.error_bars()\n",
    "figure.residuals()\n",
    "figure.xname = 'Distance '\n",
    "figure.yname = 'Temps '\n",
    "figure.show()\n",
    "\n",
    "print(resultats)\n",
    "display(Math(r\"\\text{{Valeur de }} a \\text{{ obtenue par régression linéaire}} = {:.4}\".format(a_qexpy)))"
   ]
  },
  {
   "attachments": {},
   "cell_type": "markdown",
   "metadata": {},
   "source": [
    "### Conclusion"
   ]
  },
  {
   "attachments": {},
   "cell_type": "markdown",
   "metadata": {},
   "source": [
    "Dans cette expérience o a mesuré la vitesse du son, nous avons utilisé l'application Phyphox et avons réalisé des mesures des temps de claps.\n",
    "\n",
    "Les résultats expérimentaux ont montré que les vitesses mesurées correspondaient assez bien à la valeur réelle, avec une vitesse moyenne du son de 338 m/s, qui est proche de la valeur attendue de 340 m/s."
   ]
  }
 ],
 "metadata": {
  "kernelspec": {
   "display_name": "base",
   "language": "python",
   "name": "python3"
  },
  "language_info": {
   "codemirror_mode": {
    "name": "ipython",
    "version": 3
   },
   "file_extension": ".py",
   "mimetype": "text/x-python",
   "name": "python",
   "nbconvert_exporter": "python",
   "pygments_lexer": "ipython3",
   "version": "3.9.5"
  },
  "orig_nbformat": 4
 },
 "nbformat": 4,
 "nbformat_minor": 2
}
