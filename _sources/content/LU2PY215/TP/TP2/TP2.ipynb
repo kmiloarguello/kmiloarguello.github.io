{
 "cells": [
  {
   "attachments": {},
   "cell_type": "markdown",
   "metadata": {},
   "source": [
    "# TP2 : Mesure du coefficient de rebond d’une balle\n",
    "### Auteur : ARGUELLO Camilo"
   ]
  },
  {
   "cell_type": "code",
   "execution_count": 1,
   "metadata": {},
   "outputs": [],
   "source": [
    "import numpy as np\n",
    "import matplotlib.pyplot as plt\n",
    "import pandas as pd"
   ]
  },
  {
   "cell_type": "code",
   "execution_count": 18,
   "metadata": {},
   "outputs": [
    {
     "data": {
      "text/html": [
       "<div>\n",
       "<style scoped>\n",
       "    .dataframe tbody tr th:only-of-type {\n",
       "        vertical-align: middle;\n",
       "    }\n",
       "\n",
       "    .dataframe tbody tr th {\n",
       "        vertical-align: top;\n",
       "    }\n",
       "\n",
       "    .dataframe thead th {\n",
       "        text-align: right;\n",
       "    }\n",
       "</style>\n",
       "<table border=\"1\" class=\"dataframe\">\n",
       "  <thead>\n",
       "    <tr style=\"text-align: right;\">\n",
       "      <th></th>\n",
       "      <th>Event time (s)</th>\n",
       "      <th>Interval (s)</th>\n",
       "    </tr>\n",
       "  </thead>\n",
       "  <tbody>\n",
       "    <tr>\n",
       "      <th>0</th>\n",
       "      <td>2.133771</td>\n",
       "      <td>0.785792</td>\n",
       "    </tr>\n",
       "    <tr>\n",
       "      <th>1</th>\n",
       "      <td>2.919563</td>\n",
       "      <td>0.668104</td>\n",
       "    </tr>\n",
       "    <tr>\n",
       "      <th>2</th>\n",
       "      <td>3.587667</td>\n",
       "      <td>0.578625</td>\n",
       "    </tr>\n",
       "    <tr>\n",
       "      <th>3</th>\n",
       "      <td>4.166292</td>\n",
       "      <td>0.509146</td>\n",
       "    </tr>\n",
       "    <tr>\n",
       "      <th>4</th>\n",
       "      <td>4.675438</td>\n",
       "      <td>0.454750</td>\n",
       "    </tr>\n",
       "  </tbody>\n",
       "</table>\n",
       "</div>"
      ],
      "text/plain": [
       "   Event time (s)  Interval (s)\n",
       "0        2.133771      0.785792\n",
       "1        2.919563      0.668104\n",
       "2        3.587667      0.578625\n",
       "3        4.166292      0.509146\n",
       "4        4.675438      0.454750"
      ]
     },
     "execution_count": 18,
     "metadata": {},
     "output_type": "execute_result"
    }
   ],
   "source": [
    "# import data\n",
    "data = pd.read_csv('./Acoustic Stopwatch_2023-03-07_15-24-18/All.csv', sep=',')\n",
    "# show head\n",
    "data.head()"
   ]
  },
  {
   "cell_type": "code",
   "execution_count": 19,
   "metadata": {},
   "outputs": [
    {
     "data": {
      "text/html": [
       "<div>\n",
       "<style scoped>\n",
       "    .dataframe tbody tr th:only-of-type {\n",
       "        vertical-align: middle;\n",
       "    }\n",
       "\n",
       "    .dataframe tbody tr th {\n",
       "        vertical-align: top;\n",
       "    }\n",
       "\n",
       "    .dataframe thead th {\n",
       "        text-align: right;\n",
       "    }\n",
       "</style>\n",
       "<table border=\"1\" class=\"dataframe\">\n",
       "  <thead>\n",
       "    <tr style=\"text-align: right;\">\n",
       "      <th></th>\n",
       "      <th>Event time (s)</th>\n",
       "      <th>Interval (s)</th>\n",
       "      <th>diff</th>\n",
       "    </tr>\n",
       "  </thead>\n",
       "  <tbody>\n",
       "    <tr>\n",
       "      <th>1</th>\n",
       "      <td>2.919563</td>\n",
       "      <td>0.668104</td>\n",
       "      <td>0.785792</td>\n",
       "    </tr>\n",
       "    <tr>\n",
       "      <th>2</th>\n",
       "      <td>3.587667</td>\n",
       "      <td>0.578625</td>\n",
       "      <td>0.668104</td>\n",
       "    </tr>\n",
       "    <tr>\n",
       "      <th>3</th>\n",
       "      <td>4.166292</td>\n",
       "      <td>0.509146</td>\n",
       "      <td>0.578625</td>\n",
       "    </tr>\n",
       "    <tr>\n",
       "      <th>4</th>\n",
       "      <td>4.675438</td>\n",
       "      <td>0.454750</td>\n",
       "      <td>0.509146</td>\n",
       "    </tr>\n",
       "    <tr>\n",
       "      <th>5</th>\n",
       "      <td>5.130187</td>\n",
       "      <td>0.411521</td>\n",
       "      <td>0.454750</td>\n",
       "    </tr>\n",
       "  </tbody>\n",
       "</table>\n",
       "</div>"
      ],
      "text/plain": [
       "   Event time (s)  Interval (s)      diff\n",
       "1        2.919563      0.668104  0.785792\n",
       "2        3.587667      0.578625  0.668104\n",
       "3        4.166292      0.509146  0.578625\n",
       "4        4.675438      0.454750  0.509146\n",
       "5        5.130187      0.411521  0.454750"
      ]
     },
     "execution_count": 19,
     "metadata": {},
     "output_type": "execute_result"
    }
   ],
   "source": [
    "## Pour la première colonne, on calcule la différence de temps entre deux événements\n",
    "\n",
    "# on calcule la différence de temps entre deux événements\n",
    "data['diff'] = data['Event time (s)'].diff()\n",
    "# on supprime la première ligne qui est NaN\n",
    "data = data.dropna()\n",
    "# on affiche les 5 premières lignes\n",
    "data.head()"
   ]
  },
  {
   "cell_type": "code",
   "execution_count": 34,
   "metadata": {},
   "outputs": [
    {
     "name": "stdout",
     "output_type": "stream",
     "text": [
      "La difference de temps est égale à l'intervalle:  True\n"
     ]
    }
   ],
   "source": [
    "# on verifie que la diff est égale à la colonne Interval (s) \n",
    "# Il faut comparer les lignes de cette façon:\n",
    "# ligne 2: data['diff'] avec ligne 1: data['Interval (s)']\n",
    "# ligne 3: data['diff'] avec ligne 2: data['Interval (s)']\n",
    "# ligne 4: data['diff'] avec ligne 3: data['Interval (s)']\n",
    "# etc.\n",
    "\n",
    "def interval_diff_compare(data):\n",
    "    for i in range(1, len(data)):\n",
    "        if round(data['diff'][i+1], 2) != round(data['Interval (s)'][i], 2):\n",
    "            return False\n",
    "    return True\n",
    "\n",
    "# on verifie que la diff est égale à la colonne Interval (s)\n",
    "print(\"La difference de temps est égale à l'intervalle: \", interval_diff_compare(data))\n"
   ]
  },
  {
   "cell_type": "code",
   "execution_count": 35,
   "metadata": {},
   "outputs": [
    {
     "data": {
      "text/html": [
       "<div>\n",
       "<style scoped>\n",
       "    .dataframe tbody tr th:only-of-type {\n",
       "        vertical-align: middle;\n",
       "    }\n",
       "\n",
       "    .dataframe tbody tr th {\n",
       "        vertical-align: top;\n",
       "    }\n",
       "\n",
       "    .dataframe thead th {\n",
       "        text-align: right;\n",
       "    }\n",
       "</style>\n",
       "<table border=\"1\" class=\"dataframe\">\n",
       "  <thead>\n",
       "    <tr style=\"text-align: right;\">\n",
       "      <th></th>\n",
       "      <th>Event time (s)</th>\n",
       "      <th>Interval (s)</th>\n",
       "      <th>diff</th>\n",
       "      <th>vitesse</th>\n",
       "    </tr>\n",
       "  </thead>\n",
       "  <tbody>\n",
       "    <tr>\n",
       "      <th>1</th>\n",
       "      <td>2.919563</td>\n",
       "      <td>0.668104</td>\n",
       "      <td>0.785792</td>\n",
       "      <td>15.417233</td>\n",
       "    </tr>\n",
       "    <tr>\n",
       "      <th>2</th>\n",
       "      <td>3.587667</td>\n",
       "      <td>0.578625</td>\n",
       "      <td>0.668104</td>\n",
       "      <td>13.108204</td>\n",
       "    </tr>\n",
       "    <tr>\n",
       "      <th>3</th>\n",
       "      <td>4.166292</td>\n",
       "      <td>0.509146</td>\n",
       "      <td>0.578625</td>\n",
       "      <td>11.352623</td>\n",
       "    </tr>\n",
       "    <tr>\n",
       "      <th>4</th>\n",
       "      <td>4.675438</td>\n",
       "      <td>0.454750</td>\n",
       "      <td>0.509146</td>\n",
       "      <td>9.989441</td>\n",
       "    </tr>\n",
       "    <tr>\n",
       "      <th>5</th>\n",
       "      <td>5.130187</td>\n",
       "      <td>0.411521</td>\n",
       "      <td>0.454750</td>\n",
       "      <td>8.922195</td>\n",
       "    </tr>\n",
       "  </tbody>\n",
       "</table>\n",
       "</div>"
      ],
      "text/plain": [
       "   Event time (s)  Interval (s)      diff    vitesse\n",
       "1        2.919563      0.668104  0.785792  15.417233\n",
       "2        3.587667      0.578625  0.668104  13.108204\n",
       "3        4.166292      0.509146  0.578625  11.352623\n",
       "4        4.675438      0.454750  0.509146   9.989441\n",
       "5        5.130187      0.411521  0.454750   8.922195"
      ]
     },
     "execution_count": 35,
     "metadata": {},
     "output_type": "execute_result"
    }
   ],
   "source": [
    "## Calcul de la vitesse entre chaque rebond grâce à la formule T_i = 2 * v_i / g\n",
    "data['vitesse'] = 2 * data['diff'] * 9.81\n",
    "# on affiche les 5 premières lignes\n",
    "data.head()"
   ]
  },
  {
   "cell_type": "code",
   "execution_count": 37,
   "metadata": {},
   "outputs": [],
   "source": [
    "# On calcule le numéro du rebond\n",
    "data['rebond'] = np.arange(1, len(data)+1)"
   ]
  },
  {
   "cell_type": "code",
   "execution_count": 41,
   "metadata": {},
   "outputs": [
    {
     "data": {
      "image/png": "[encoded data removed]",
      "text/plain": [
       "<Figure size 432x288 with 1 Axes>"
      ]
     },
     "metadata": {
      "needs_background": "light"
     },
     "output_type": "display_data"
    }
   ],
   "source": [
    "# On trace la vitesse de la balle en fonction du numéro du rebond\n",
    "plt.plot(data['rebond'], data['vitesse'], '+')\n",
    "plt.title('Vitesse de la balle en fonction du numéro du rebond')\n",
    "plt.xlabel('Numéro du rebond')\n",
    "plt.ylabel('Vitesse (m/s)')\n",
    "plt.show()"
   ]
  },
  {
   "cell_type": "code",
   "execution_count": 40,
   "metadata": {},
   "outputs": [
    {
     "data": {
      "text/plain": [
       "<ErrorbarContainer object of 3 artists>"
      ]
     },
     "execution_count": 40,
     "metadata": {},
     "output_type": "execute_result"
    },
    {
     "data": {
      "image/png": "[encoded data removed]",
      "text/plain": [
       "<Figure size 432x288 with 1 Axes>"
      ]
     },
     "metadata": {
      "needs_background": "light"
     },
     "output_type": "display_data"
    }
   ],
   "source": [
    "## Exemple\n",
    "\n",
    "x = [1, 2, 3, 4]\n",
    "y = [2, 4, 5, 6]\n",
    "yerr = [1,1.2,1.5,1.7]\n",
    "plt.errorbar(x, y, yerr=yerr, fmt='o')"
   ]
  },
  {
   "cell_type": "code",
   "execution_count": null,
   "metadata": {},
   "outputs": [],
   "source": []
  }
 ],
 "metadata": {
  "kernelspec": {
   "display_name": "base",
   "language": "python",
   "name": "python3"
  },
  "language_info": {
   "codemirror_mode": {
    "name": "ipython",
    "version": 3
   },
   "file_extension": ".py",
   "mimetype": "text/x-python",
   "name": "python",
   "nbconvert_exporter": "python",
   "pygments_lexer": "ipython3",
   "version": "3.9.5"
  },
  "orig_nbformat": 4
 },
 "nbformat": 4,
 "nbformat_minor": 2
}
