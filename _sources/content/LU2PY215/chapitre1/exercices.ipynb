{
 "cells": [
  {
   "attachments": {},
   "cell_type": "markdown",
   "metadata": {},
   "source": [
    "# Exercice 1"
   ]
  },
  {
   "attachments": {},
   "cell_type": "markdown",
   "metadata": {},
   "source": [
    "On considère 4 évènements $\\mathcal{A}$, $\\mathcal{B}$, $\\mathcal{C}$, and $\\mathcal{D}$. Associées aux ensembles $A,B,C,D$ dans l'univers $\\Omega$.\n",
    "\n",
    "1- Que vaut $P(\\bar{C})$ ?"
   ]
  },
  {
   "attachments": {},
   "cell_type": "markdown",
   "metadata": {},
   "source": [
    "Si on considère le cas:\n",
    "\n",
    "$$ P(\\bar{C}) = \\Omega - P(C) $$\n",
    "\n",
    "Si $P(C)=0.3$, alors $P(\\bar{C})=1-0.3=0.7$"
   ]
  },
  {
   "attachments": {},
   "cell_type": "markdown",
   "metadata": {},
   "source": [
    "2- Que valent $P(B|C)$ et $P(C|B)$"
   ]
  },
  {
   "attachments": {},
   "cell_type": "markdown",
   "metadata": {},
   "source": [
    "On calcule en premier $P(B)$. On sait que $C + \\bar{C} = \\Omega$, alors $B \\cap (C \\cup \\bar{C})$.\n",
    "\n",
    "De même $P(B) = P(B \\cap C) + P(B \\cup \\bar{C}) = 0.2 + 0.3 = 0.5$ \n",
    "\n",
    "\n",
    "Finalement, on peut calculer:\n",
    "$P(B|C)= \\frac{P(B \\cap C)}{P(C)} = \\frac{0.2}{0.3} = \\frac{2}{3} $ \n",
    "\n",
    "et $P(C|B)= \\frac{P(C \\cap B)}{P(B)} = \\frac{0.2}{0.5} = 0.4 $"
   ]
  },
  {
   "attachments": {},
   "cell_type": "markdown",
   "metadata": {},
   "source": [
    "3- Les évènements $C$ et $D$ sont-ils incompatibles? Justifier."
   ]
  },
  {
   "attachments": {},
   "cell_type": "markdown",
   "metadata": {},
   "source": [
    "On sait que $P(C)=0.3$ et $P(D)=0.5$, ainsi que $P(D \\cap \\bar{C})=0.5$. Aussi, on sait que deux évènements sont incompatibles si $P(C \\cap D) = 0$.\n",
    "\n",
    "Alors, si $C = 1 - \\bar{C}$, et $D = D \\cap (C \\cup \\bar{C}) = (D \\cap C) \\cup (D \\cap \\bar{C}),$\n",
    "\n",
    "$$\n",
    "P(D) = P(D \\cap C) + P(D \\cap \\bar{C})\n",
    "$$\n",
    "$$\n",
    "P(D \\cap C) = P(D) - P(D \\cap \\bar{C})\n",
    "$$\n",
    "$$\n",
    "P(D \\cap C) = 0.5 - 0.5 = 0\n",
    "$$\n",
    "\n",
    "Donc $C$ et $D$ sont incompatibles."
   ]
  },
  {
   "attachments": {},
   "cell_type": "markdown",
   "metadata": {},
   "source": [
    "# Exercice 2"
   ]
  },
  {
   "attachments": {},
   "cell_type": "markdown",
   "metadata": {},
   "source": [
    "1 - Un tireur de fléchettes touche sa cible 1 fois sur 2. Combien de fois doit-il tirer pour avoir une probabilité minimale de 99~% de toucher la cible au moins une fois?"
   ]
  },
  {
   "attachments": {},
   "cell_type": "markdown",
   "metadata": {},
   "source": [
    "On sait que $P(X \\geq 1) = 1 - P(X=0)$. On cherche donc $P(X=0)$ c'est-à-dire la probabilité de toucher une fois la cible. On sait que $P(X=0)=(1-p)^n$, où $n$ est le nombre de fois qu'il tire, et $p=\\frac{1}{2}$ (1 fois sur deux).\n",
    "\n",
    "On veut que cette probabilité soit plus grande que 0.99, alors:\n",
    "$$ (1-p)^n > 0.99 $$\n",
    "$$ 1-p^n > 0.99 $$\n",
    "$$ p^n < 0.01 $$\n",
    "$$ n \\log{p} < \\log{0.01} $$\n",
    "$$ n < \\frac{\\log{0.01}}{\\log{p}} = \\frac{-2}{\\log{0.5}} $$\n",
    "$$ n > 6.643856189774724 $$\n"
   ]
  },
  {
   "cell_type": "code",
   "execution_count": 2,
   "metadata": {},
   "outputs": [],
   "source": [
    "# 2\n",
    "import random"
   ]
  },
  {
   "cell_type": "code",
   "execution_count": 3,
   "metadata": {},
   "outputs": [],
   "source": [
    "def touche_cible(n):\n",
    "    \"\"\"\n",
    "    Cette fonction simule pour n lancers des fléchettes si le joueur touche la cible ou pas. \n",
    "    Si le joueur touche la cible, la fonction retourne True, sinon elle retourne False.\n",
    "    \"\"\"\n",
    "    # On crée une liste de n fléchettes\n",
    "    flechettes = [random.random() for i in range(n)]\n",
    "    p = 1 / 2\n",
    "    # Retourne True si au moins une fléchette touche la cible, False sinon\n",
    "    # si elle touche la cible flechette > p\n",
    "    for flechette in flechettes:\n",
    "        if flechette > p:\n",
    "            return True\n",
    "    return False"
   ]
  },
  {
   "cell_type": "code",
   "execution_count": 4,
   "metadata": {},
   "outputs": [
    {
     "name": "stdout",
     "output_type": "stream",
     "text": [
      "Proba: 0.999\n",
      "Proba theorique: 0.992\n"
     ]
    }
   ],
   "source": [
    "nombre_succes = 0\n",
    "nombre_essais = 10000\n",
    "for i in range(nombre_essais):\n",
    "    if touche_cible(10):\n",
    "        nombre_succes += 1\n",
    "\n",
    "print(\"Proba: {:.3f}\".format(nombre_succes/nombre_essais))\n",
    "print(\"Proba theorique: {:.3f}\".format(1-(0.5)**7))"
   ]
  },
  {
   "attachments": {},
   "cell_type": "markdown",
   "metadata": {},
   "source": [
    "# Exercice 3"
   ]
  },
  {
   "attachments": {},
   "cell_type": "markdown",
   "metadata": {},
   "source": [
    "On va caractériser la distribution de mesures de température et de pression avec les grandeurs statistiques que nous avons vues."
   ]
  },
  {
   "cell_type": "code",
   "execution_count": 37,
   "metadata": {},
   "outputs": [
    {
     "data": {
      "image/png": "[encoded data removed]",
      "text/plain": [
       "<Figure size 432x288 with 1 Axes>"
      ]
     },
     "metadata": {
      "needs_background": "light"
     },
     "output_type": "display_data"
    }
   ],
   "source": [
    "# 1 \n",
    "# Lire les données avec pandas\n",
    "import matplotlib.pyplot as plt\n",
    "import pandas as pd\n",
    "from datetime import datetime\n",
    "import numpy as np\n",
    "from scipy.stats import skew\n",
    "\n",
    "url = 'https://github.com/guiguem/physexp2/releases/download/v1/meteo.csv'\n",
    "meteo = pd.read_csv(url, header=10)\n",
    "\n",
    "# Extraction des dates\n",
    "dates = meteo[meteo.columns[0]].to_list()\n",
    "# Conversion des dates en objets datetime\n",
    "dates = [datetime.strptime(date, '%Y%m%dT%H%M') for date in dates]\n",
    "# Extraire les données de température (column 1) et de pression (column 3)\n",
    "temp = pd.to_numeric(meteo[meteo.columns[1]]).to_list()\n",
    "pression = pd.to_numeric(meteo[meteo.columns[3]]).to_list()\n",
    "# Afficher pression sous la forme d'un histogramme\n",
    "\n",
    "plt.hist(pression, bins=20)\n",
    "plt.title('Histogramme de pression')\n",
    "plt.show()\n"
   ]
  },
  {
   "cell_type": "code",
   "execution_count": 38,
   "metadata": {},
   "outputs": [
    {
     "name": "stdout",
     "output_type": "stream",
     "text": [
      "Moyenne pression: 1018.568\n",
      "Variance pression: 14.266\n",
      "Moyenne pression avec numpy: 1018.568\n",
      "Variance pression avec numpy: 14.266\n"
     ]
    }
   ],
   "source": [
    "# 2 - \n",
    "# \n",
    "# Calculer la valeur de la moyenne à partir de \\miu = \\bar{x} = \\frac{1}{n} \\sum_{i=1}^{n} x_i\n",
    "\n",
    "def moyenne(liste):\n",
    "    \"\"\"\n",
    "    Cette fonction calcule la moyenne d'une liste de nombres.\n",
    "    \"\"\"\n",
    "    somme = 0\n",
    "    for x in liste:\n",
    "        somme += x\n",
    "    return somme / len(liste)\n",
    "\n",
    "# Calculer la valeur de la variance à partir de \\sigma^2 = \\frac{1}{n} \\sum_{i=1}^{n} (x_i - \\bar{x})^2\n",
    "\n",
    "def variance(liste):\n",
    "    \"\"\"\n",
    "    Cette fonction calcule la variance d'une liste de nombres.\n",
    "    \"\"\"\n",
    "    somme = 0\n",
    "    for x in liste:\n",
    "        somme += (x - moyenne(liste))**2\n",
    "    return somme / len(liste)\n",
    "\n",
    "moyenne_pression = moyenne(pression)\n",
    "variance_pression = variance(pression)\n",
    "print(\"Moyenne pression: {:.3f}\".format(moyenne_pression))\n",
    "print(\"Variance pression: {:.3f}\".format(variance_pression))\n",
    "\n",
    "# On compare avec les fonctions numpy.mean et numpy.var\n",
    "print(\"Moyenne pression avec numpy: {:.3f}\".format(np.mean(pression)))\n",
    "print(\"Variance pression avec numpy: {:.3f}\".format(np.var(pression)))"
   ]
  },
  {
   "cell_type": "code",
   "execution_count": 39,
   "metadata": {},
   "outputs": [
    {
     "name": "stdout",
     "output_type": "stream",
     "text": [
      "Asymétrie pression: -0.186\n",
      "Asymétrie pression: -0.186\n",
      "Asymétrie pression avec scipy: -0.186\n"
     ]
    }
   ],
   "source": [
    "# 3 - \n",
    "\n",
    "# Calculer l'asymmétrie S de la distribution de pression à partir de \\alpha = \\frac{1}{n} \\sum_{i=1}^{n} \\frac{(x_i - \\bar{x})^3}{\\sigma^3}\n",
    "# On a miu = moyenne et sigma^2 = variance\n",
    "\n",
    "def asymmetrie_1(liste):\n",
    "    \"\"\"\n",
    "    Cette fonction calcule l'asymétrie d'une liste de nombres.\n",
    "    \"\"\"\n",
    "    somme = 0\n",
    "    for x in liste:\n",
    "        somme += (x - moyenne(liste))**3 / variance(liste)**(3/2)\n",
    "    return somme / len(liste)\n",
    "\n",
    "# On utilise la formule de l'asymétrie  \\frac{\\frac{1}{N} \\sum^N_{i=0} (x_i)^3 - 3 \\miu \\sigma^2 - \\miu^3}{\\sigma^3}\n",
    "def asymmetrie_2(liste):\n",
    "    \"\"\"\n",
    "    Cette fonction calcule l'asymétrie d'une liste de nombres.\n",
    "    \"\"\"\n",
    "    somme = 0\n",
    "    for x in liste:\n",
    "        somme += x**3\n",
    "    return (somme / len(liste) - 3 * moyenne(liste) * variance(liste) - moyenne(liste)**3) / variance(liste)**(3/2)\n",
    "\n",
    "\n",
    "asymmetrie_pression_1 = asymmetrie_1(pression)\n",
    "asymmetrie_pression_2 = asymmetrie_2(pression)\n",
    "print(\"Asymétrie pression: {:.3f}\".format(asymmetrie_pression_1))\n",
    "print(\"Asymétrie pression: {:.3f}\".format(asymmetrie_pression_2))\n",
    "# On compare avec la fonction scipy.stats.skew\n",
    "print(\"Asymétrie pression avec scipy: {:.3f}\".format(skew(pression)))\n"
   ]
  },
  {
   "cell_type": "code",
   "execution_count": 41,
   "metadata": {},
   "outputs": [
    {
     "name": "stdout",
     "output_type": "stream",
     "text": [
      "Applatissement pression: 1.875\n"
     ]
    }
   ],
   "source": [
    "# On peut aussi calculer l'applatissement K de la distribution de pression à partir de \\kappa = \\frac{1}{n} \\sum_{i=1}^{n} \\frac{(x_i - \\bar{x})^4}{\\sigma^4}\n",
    "\n",
    "def applatissement_1(liste):\n",
    "    \"\"\"\n",
    "    Cette fonction calcule l'applatissement d'une liste de nombres.\n",
    "    \"\"\"\n",
    "    somme = 0\n",
    "    for x in liste:\n",
    "        somme += (x - moyenne(liste))**4 / variance(liste)**2\n",
    "    return somme / len(liste)\n",
    "\n",
    "applatissement_pression = applatissement_1(pression)\n",
    "print(\"Applatissement pression: {:.3f}\".format(applatissement_pression))"
   ]
  },
  {
   "cell_type": "code",
   "execution_count": 42,
   "metadata": {},
   "outputs": [
    {
     "name": "stdout",
     "output_type": "stream",
     "text": [
      "Covariance température et pression: -6.334\n",
      "Corrélation température et pression: -0.320\n",
      "Covariance température et pression avec numpy: -6.368\n",
      "Corrélation température et pression avec numpy: -0.320\n"
     ]
    },
    {
     "data": {
      "image/png": "[encoded data removed]",
      "text/plain": [
       "<Figure size 432x288 with 1 Axes>"
      ]
     },
     "metadata": {
      "needs_background": "light"
     },
     "output_type": "display_data"
    },
    {
     "name": "stdout",
     "output_type": "stream",
     "text": [
      "Lorsque la correlation entre température et pression es < 0, les grandeurs ont une tendance décorrélée l'une de l'autre.\n"
     ]
    }
   ],
   "source": [
    "# 4 - On calcule la covariance entre température et pression à partir de \\sigma_{xy} = \\frac{1}{n} \\sum_{i=1}^{n} (x_i - \\bar{x})(y_i - \\bar{y})\n",
    "\n",
    "def covariance(liste1, liste2):\n",
    "    \"\"\"\n",
    "    Cette fonction calcule la covariance entre deux listes de nombres.\n",
    "    \"\"\"\n",
    "    somme = 0\n",
    "    for x, y in zip(liste1, liste2):\n",
    "        somme += (x - moyenne(liste1)) * (y - moyenne(liste2))\n",
    "    return somme / len(liste1)\n",
    "\n",
    "# On calcule le coefficient de corrélation entre la température et la pression\n",
    "# à partir de \\rho_{xy} = \\frac{\\sigma_{xy}}{\\sigma_x \\sigma_y}\n",
    "\n",
    "def correlation(liste1, liste2):\n",
    "    \"\"\"\n",
    "    Cette fonction calcule le coefficient de corrélation entre deux listes de nombres.\n",
    "    \"\"\"\n",
    "    return covariance(liste1, liste2) / (np.std(liste1) * np.std(liste2))\n",
    "\n",
    "covariance_temp_pression = covariance(temp, pression)\n",
    "correlation_temp_pression = correlation(temp, pression)\n",
    "print(\"Covariance température et pression: {:.3f}\".format(covariance_temp_pression))\n",
    "print(\"Corrélation température et pression: {:.3f}\".format(correlation_temp_pression))\n",
    "\n",
    "# On compare avec la fonction numpy.cov\n",
    "print(\"Covariance température et pression avec numpy: {:.3f}\".format(np.cov(temp, pression)[0, 1]))\n",
    "print(\"Corrélation température et pression avec numpy: {:.3f}\".format(np.corrcoef(temp, pression)[0, 1]))\n",
    "\n",
    "plt.plot(pression,temp,'+')\n",
    "plt.xlabel(\"Pression (hPa)\")\n",
    "plt.ylabel(\"Température (°C)\")\n",
    "plt.show()\n",
    "\n",
    "print(\"Lorsque la correlation entre température et pression es < 0, les grandeurs ont une tendance décorrélée l'une de l'autre.\")\n"
   ]
  },
  {
   "attachments": {},
   "cell_type": "markdown",
   "metadata": {},
   "source": [
    "# Exercice 4"
   ]
  },
  {
   "cell_type": "code",
   "execution_count": 79,
   "metadata": {},
   "outputs": [
    {
     "data": {
      "image/png": "[encoded data removed]",
      "text/plain": [
       "<Figure size 432x288 with 1 Axes>"
      ]
     },
     "metadata": {
      "needs_background": "light"
     },
     "output_type": "display_data"
    },
    {
     "name": "stdout",
     "output_type": "stream",
     "text": [
      "Moyenne pression: 1018.566\n",
      "Variance pression: 14.297\n"
     ]
    }
   ],
   "source": [
    "# 1- Maintenant, on utilise une fonction bin pour trouver la moyenne et la variance de la température \n",
    "# On utilise la fonction matplotlib.pyplot.hist pour tracer l'histogramme de la pression\n",
    "# \n",
    "# m = \\sum_{i=1}^{n} f_i \\frac{I_i + I_{i+1}}{2}\n",
    "# avec I_i = la bordure du bin i\n",
    "\n",
    "def moyenne_binned(liste, bins, N=len(pression)):\n",
    "    \"\"\"\n",
    "    Cette fonction calcule la moyenne d'une liste de nombres.\n",
    "    \"\"\"\n",
    "    somme = 0\n",
    "    for i in range(len(bins) - 1):\n",
    "        somme += liste[i] * (bins[i] + bins[i+1]) / 2\n",
    "    return somme / N\n",
    "\n",
    "# On calcule la variance à partir de bins -> v = \\sum_{i=1}^{n} f_i ((I_i + I_{i+1})/2 - m)^2\n",
    "\n",
    "def variance_binned(liste, bins, N=len(pression)):\n",
    "    \"\"\"\n",
    "    Cette fonction calcule la variance d'une liste de nombres.\n",
    "    \"\"\"\n",
    "    somme = 0\n",
    "    m = moyenne_binned(liste, bins)\n",
    "    for i in range(len(bins) - 1):\n",
    "        somme += liste[i] * ((bins[i] + bins[i+1]) / 2 - m)**2\n",
    "    return somme / N\n",
    "\n",
    "n, bins, patches = plt.hist(pression, bins=len(pression), label=\"Pression\")\n",
    "plt.xlabel(\"Pression (hPa)\")\n",
    "plt.show()\n",
    "\n",
    "moyenne_pression = moyenne_binned(n, bins)\n",
    "variance_pression = variance_binned(n, bins)\n",
    "print(\"Moyenne pression: {:.3f}\".format(moyenne_pression))\n",
    "print(\"Variance pression: {:.3f}\".format(variance_pression))"
   ]
  },
  {
   "cell_type": "code",
   "execution_count": 87,
   "metadata": {},
   "outputs": [
    {
     "data": {
      "image/png": "[encoded data removed]",
      "text/plain": [
       "<Figure size 432x288 with 1 Axes>"
      ]
     },
     "metadata": {
      "needs_background": "light"
     },
     "output_type": "display_data"
    }
   ],
   "source": [
    "\n",
    "list_n = [i for i in range(5,200)]\n",
    "\n",
    "list_moyenne = list()\n",
    "list_variance = list()\n",
    "\n",
    "for i in list_n:\n",
    "    # get plt.hist() without plotting\n",
    "    n, bins, _ = plt.hist(pression, bins=i, label=\"Pression\")\n",
    "    plt.clf()\n",
    "    m = moyenne_binned(n, bins)\n",
    "    v = variance_binned(n, bins)\n",
    "    list_moyenne.append(m - moyenne_pression)\n",
    "    list_variance.append(v - variance_pression)\n",
    "\n",
    "plt.plot(list_n, list_moyenne,\"--o\",label=\"Moyenne pression\")\n",
    "plt.plot(list_n, list_variance, \"--o\", label=\"Variance pression\")\n",
    "plt.xlabel(\"Pression (hPa)\")\n",
    "plt.show()\n",
    "    "
   ]
  }
 ],
 "metadata": {
  "kernelspec": {
   "display_name": "base",
   "language": "python",
   "name": "python3"
  },
  "language_info": {
   "codemirror_mode": {
    "name": "ipython",
    "version": 3
   },
   "file_extension": ".py",
   "mimetype": "text/x-python",
   "name": "python",
   "nbconvert_exporter": "python",
   "pygments_lexer": "ipython3",
   "version": "3.9.5"
  },
  "orig_nbformat": 4,
  "vscode": {
   "interpreter": {
    "hash": "e3e3b631d0578064596570627667cf6d3255b0ded78241c485c6d8d72cb2b64f"
   }
  }
 },
 "nbformat": 4,
 "nbformat_minor": 2
}
