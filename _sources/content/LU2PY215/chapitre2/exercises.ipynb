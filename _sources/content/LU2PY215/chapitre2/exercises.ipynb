{
 "cells": [
  {
   "attachments": {},
   "cell_type": "markdown",
   "metadata": {},
   "source": [
    "# Exercise 5\n",
    "\n",
    "En utilisant une distribution de nombres aléatoires distribués uniformément, on veut produire une distribution de loi sinusoidale:\n",
    "\n",
    "$$ f(x) = \\frac{1}{2} \\sin(x) $$\n",
    "\n",
    "Dans un intervalle compris entre 0 et $\\pi$."
   ]
  },
  {
   "attachments": {},
   "cell_type": "markdown",
   "metadata": {},
   "source": [
    "## Question 1 \n",
    "\n",
    "Vérifier que sur cet intervalle $I$ de $f$ est normalisée à 1."
   ]
  },
  {
   "attachments": {},
   "cell_type": "markdown",
   "metadata": {},
   "source": [
    "$$ I = \\int_{0}^{\\pi} f(x) $$\n",
    "\n",
    "$$ I = \\int_{0}^{\\pi} \\frac{1}{2} sin(x) $$\n",
    "\n",
    "$$ I = \\frac{1}{2} \\int_{0}^{\\pi} sin(x) $$\n",
    "\n",
    "$$ I = \\frac{1}{2} \\left[ -cos(x) \\right]_{0}^{\\pi} $$\n",
    "\n",
    "$$ I = \\frac{1}{2} \\left[ -cos(\\pi) + cos(0) \\right] $$\n",
    "\n",
    "$$ I = \\frac{1}{2} \\left[ 1 + 1 \\right] $$\n",
    "\n",
    "$$ I = \\frac{1}{2} \\left[ 2 \\right] $$\n",
    "\n",
    "$$ I = 1 $$"
   ]
  },
  {
   "attachments": {},
   "cell_type": "markdown",
   "metadata": {},
   "source": [
    "## Question 2\n",
    "Calculer la fonction cumulative $F$ de $f$."
   ]
  },
  {
   "attachments": {},
   "cell_type": "markdown",
   "metadata": {},
   "source": [
    "$$ F(x) = \\int_{0}^{x} f(x') dx' $$\n",
    "\n",
    "$$ F(x) = \\int_{0}^{x} \\frac{1}{2} sin(x') dx'$$\n",
    "\n",
    "$$ F(x) = \\frac{1}{2} \\int_{0}^{x} sin(x') dx'$$\n",
    "\n",
    "$$ F(x) = \\frac{1}{2} \\left[ -cos(x') \\right]_{0}^{x}$$\n",
    "\n",
    "$$ F(x) = \\frac{1}{2} \\left[ -cos(x) + 1 \\right]$$"
   ]
  },
  {
   "attachments": {},
   "cell_type": "markdown",
   "metadata": {},
   "source": [
    "## Question 3\n",
    "Démontrer que l'inverse de $F$ est $F^{-1}(x) = cos^{-1}(1-2x)$. Donner l'intervalle de définition de $F^{-1}$."
   ]
  },
  {
   "attachments": {},
   "cell_type": "markdown",
   "metadata": {},
   "source": [
    "Petit rappel: Pour trouver l'inverse d'une fonction par exemple $f(x) = 2x + 3$, on valide les choses suivantes:\n",
    "\n",
    "1. La fonction $f$ est-elle bijective?\n",
    "   Dans notre cas, oui, car $f$ est une fonction continue et monotone croissante. Nous constatons que la fonction est une droite qui passe par tous les points du plan cartésien et qu'elle ne croise jamais une même valeur deux fois.\n",
    "2. On écrit la fonction sous la forme $y=f(x) : y = 2x+3$\n",
    "3. On change les rôles de $x$ et $y : x = 2y + 3$\n",
    "4. On résoudre pour $y : x - 3 = 2y$, donc $y = \\frac{x-3}{2}$\n",
    "5. La fonction inverse est $f^{-1}(x)=\\frac{x-3}{2}$\n",
    "\n",
    "Finalement, on peut vérifier que la fonction inverse donne bien le résultat attendu:\n",
    "\n",
    "$$ f^{-1}(f(x)) = f^{-1}(2x+3) = \\frac{(2x+3)-3}{2} = x $$\n",
    "\n",
    "De même, si on aplique la fonction inverse $f^{-1}$ à la fonction $f$:\n",
    "\n",
    "$$ f(f^{-1}(x)) = f(\\frac{x-3}{2}) = 2\\frac{x-3}{2} + 3 = x $$\n"
   ]
  },
  {
   "attachments": {},
   "cell_type": "markdown",
   "metadata": {},
   "source": [
    "On a:\n",
    "\n",
    "$$ F(x) = \\frac{1}{2} \\left[ -cos(x) + 1 \\right] $$\n",
    "\n",
    "1. On échange $x$ et $y : x = \\frac{1}{2} \\left[ -cos(y) + 1 \\right]$\n",
    "2. On résoudre pour $y$\n",
    "   1. On isole le cosinus: \n",
    "        $$ 2x = -cos(y) + 1 $$\n",
    "        $$ cos(y) = 1 - 2x $$\n",
    "    2. On aplique la fonction inverse du cosinus (arcosinus) pour trouver $y$:\n",
    "        $$ cos(y) = 1 - 2x $$\n",
    "        $$ y = cos^{-1}(1 - 2x) $$\n",
    "3. La fonction inverse devient $F^{-1}(x) = cos^{-1}(1-2x)$\n",
    "\n",
    "Pour $F(x)$ l'intervalle de définition est limité par le cosinus qui est défini entre $-1$ et $1$. Ainsi que pour la fonction inverse $F^{-1}(x)$."
   ]
  }
 ],
 "metadata": {
  "kernelspec": {
   "display_name": "base",
   "language": "python",
   "name": "python3"
  },
  "language_info": {
   "codemirror_mode": {
    "name": "ipython",
    "version": 3
   },
   "file_extension": ".py",
   "mimetype": "text/x-python",
   "name": "python",
   "nbconvert_exporter": "python",
   "pygments_lexer": "ipython3",
   "version": "3.9.5"
  },
  "orig_nbformat": 4
 },
 "nbformat": 4,
 "nbformat_minor": 2
}
