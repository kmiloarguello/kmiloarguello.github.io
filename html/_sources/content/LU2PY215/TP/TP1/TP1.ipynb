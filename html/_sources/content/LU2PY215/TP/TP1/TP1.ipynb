{
 "cells": [
  {
   "attachments": {},
   "cell_type": "markdown",
   "metadata": {},
   "source": [
    "# TP1 : Distribution du tirage de dés\n",
    "### Auteur : ARGUELLO Camilo\n"
   ]
  },
  {
   "attachments": {},
   "cell_type": "markdown",
   "metadata": {},
   "source": [
    "## Introduction\n",
    "\n",
    "Dans ce TP, nous allons étudier la distribution du tirage de dés. Nous allons commencer par étudier l'estimation du pipage d'un dé, puis nous allons étudier la fréquence d'apparition d'une valeur pour un tirage de dés. Finalement, nous allons étudier la distribution de la somme de $N$ dés."
   ]
  },
  {
   "attachments": {},
   "cell_type": "markdown",
   "metadata": {},
   "source": [
    "## 1. Estimation du pipage d'un dé\n",
    "### 1.1. Tirage et remplissage de listes"
   ]
  },
  {
   "cell_type": "code",
   "execution_count": 1,
   "metadata": {},
   "outputs": [],
   "source": [
    "import numpy as np\n",
    "import matplotlib.pyplot as plt"
   ]
  },
  {
   "cell_type": "code",
   "execution_count": 2,
   "metadata": {},
   "outputs": [
    {
     "name": "stdout",
     "output_type": "stream",
     "text": [
      "Valeurs obtenues après 25 lancers de dés\n"
     ]
    }
   ],
   "source": [
    "valeurs = [6, 5, 5, 6, 3, 3, 2, 3, 2, 5, 6, 3, 2, 4, 5, 6, 4, 2, 1, 3, 1, 1, 4, 1, 5]\n",
    "print(\"Valeurs obtenues après \" + str(len(valeurs)) + \" lancers de dés\")"
   ]
  },
  {
   "cell_type": "code",
   "execution_count": 3,
   "metadata": {},
   "outputs": [
    {
     "name": "stdout",
     "output_type": "stream",
     "text": [
      "Moyenne: 3.520\n"
     ]
    },
    {
     "data": {
      "image/png": "[encoded data removed]",
      "text/plain": [
       "<Figure size 432x288 with 1 Axes>"
      ]
     },
     "metadata": {
      "needs_background": "light"
     },
     "output_type": "display_data"
    }
   ],
   "source": [
    "# Calcul de la moyenne\n",
    "def moyenne(valeurs):\n",
    "    \"\"\"\n",
    "    Cette fonction calcule la moyenne des valeurs passées en paramètre.\n",
    "    \"\"\"\n",
    "    moyenne = 0\n",
    "    for num in valeurs:\n",
    "        moyenne += num\n",
    "    return moyenne / len(valeurs)\n",
    "\n",
    "print(\"Moyenne: {:.3f}\".format(moyenne(valeurs)))\n",
    "\n",
    "plt.plot(valeurs, '+', label='Tirages')\n",
    "plt.plot([moyenne(valeurs)] * len(valeurs), 'r', label='Moyenne')\n",
    "plt.title('Valeurs des tirages de dés')\n",
    "plt.xlabel('Nombre de tirages')\n",
    "plt.ylabel('Valeur obtenue')\n",
    "plt.legend()\n",
    "plt.show()"
   ]
  },
  {
   "attachments": {},
   "cell_type": "markdown",
   "metadata": {},
   "source": [
    "La valeur moyenne trouvée est logique selon la graphique, elle se situe entre `3` et `4`. D'après la valeur minimale est: `1` et la valeur maximale est: `6`. On peut donc conclure que la moyenne est logique.\n"
   ]
  },
  {
   "attachments": {},
   "cell_type": "markdown",
   "metadata": {},
   "source": [
    "On calcule la moyenne sur la somme de chaque paire des valeurs. Par example `6+5`, `5+6`, `3+3`, `2+3`... etc."
   ]
  },
  {
   "cell_type": "code",
   "execution_count": 4,
   "metadata": {},
   "outputs": [
    {
     "name": "stdout",
     "output_type": "stream",
     "text": [
      "Moyenne paire: 6.917\n"
     ]
    },
    {
     "data": {
      "image/png": "[encoded data removed]",
      "text/plain": [
       "<Figure size 432x288 with 1 Axes>"
      ]
     },
     "metadata": {
      "needs_background": "light"
     },
     "output_type": "display_data"
    }
   ],
   "source": [
    "def list_somme_paire(valeurs):\n",
    "    \"\"\"\n",
    "    Calcul de la somme de chaque paire des tirages\n",
    "    \"\"\"\n",
    "    somme = []\n",
    "    for i in range(0, len(valeurs) - 1, 2):\n",
    "        somme.append(valeurs[i] + valeurs[i+1])\n",
    "    return somme\n",
    "    \n",
    "\n",
    "def moyenne_paire(valeurs):\n",
    "    \"\"\"\n",
    "    Calcul de la moyenne sur la list_somme_paire\n",
    "    \"\"\"\n",
    "    somme = list_somme_paire(valeurs)\n",
    "    moyenne = 0\n",
    "    for num in somme:\n",
    "        moyenne += num\n",
    "    return moyenne / len(somme)\n",
    "    \n",
    "\n",
    "print(\"Moyenne paire: {:.3f}\".format(moyenne_paire(valeurs)))\n",
    "\n",
    "plt.plot(list_somme_paire(valeurs), '+', label='Somme paire')\n",
    "plt.plot([moyenne_paire(valeurs)] * len(list_somme_paire(valeurs)), 'r', label='Moyenne paire')\n",
    "plt.title('Tirages de dés avec somme obtenue deux à deux')\n",
    "plt.ylabel('Somme des valeurs')\n",
    "plt.xlabel('Nombre de tirages')\n",
    "plt.legend()\n",
    "plt.show()"
   ]
  },
  {
   "attachments": {},
   "cell_type": "markdown",
   "metadata": {},
   "source": [
    "La graphique montre que la somme des valeurs moyennes du tirage se situe très proche de la valeur `7`. Pour vérifier cette hypothèse, nous allons définir une distribution du tirage d'un dé à $N$ faces à la fin du TP."
   ]
  },
  {
   "attachments": {},
   "cell_type": "markdown",
   "metadata": {},
   "source": [
    "### 1.2. Calcul des probabilités de tirage et création d'histogrammes"
   ]
  },
  {
   "attachments": {},
   "cell_type": "markdown",
   "metadata": {},
   "source": [
    "Dans le tirage de dés, on calcule la fréquence d'apparition $f_i$ de chaque valeur. Où $f_i$ = rapport entre le nombre de fois où la valeur i est apparue et le nombre total de tirages."
   ]
  },
  {
   "cell_type": "code",
   "execution_count": 5,
   "metadata": {},
   "outputs": [
    {
     "name": "stdout",
     "output_type": "stream",
     "text": [
      "Fréquence d'apparition: [0.16, 0.16, 0.2, 0.12, 0.2, 0.16]\n"
     ]
    }
   ],
   "source": [
    "def calcul_frequence (valeurs):\n",
    "    \"\"\"\n",
    "    Calcul de la fréquence d'apparition de chaque valeur\n",
    "    \"\"\"\n",
    "    frequence = []\n",
    "    for i in range(1, 7):\n",
    "        # Python List.count() method returns the count of how many times a given object occurs in a List.\n",
    "        frequence.append(valeurs.count(i) / len(valeurs)) # f_i\n",
    "    return frequence\n",
    "\n",
    "print(\"Fréquence d'apparition: \" + str(calcul_frequence(valeurs)))"
   ]
  },
  {
   "cell_type": "code",
   "execution_count": 6,
   "metadata": {},
   "outputs": [
    {
     "data": {
      "image/png": "[encoded data removed]",
      "text/plain": [
       "<Figure size 432x288 with 1 Axes>"
      ]
     },
     "metadata": {
      "needs_background": "light"
     },
     "output_type": "display_data"
    }
   ],
   "source": [
    "# Création de la figure et des axes\n",
    "fig, axs = plt.subplots(1, 1, sharey=True, tight_layout=True) # Ajout de l'histogramme\n",
    "n_valeurs, _, _ = axs.hist(valeurs, bins=np.arange(0.5, 7.5, 1), ec=\"black\", density=True)\n",
    "axs.set_title(\"Résultats jet dé\")\n",
    "axs.set_ylabel(\"Fréquence\")\n",
    "axs.set_xlabel(\"Valeur dé\")\n",
    "plt.show()"
   ]
  },
  {
   "attachments": {},
   "cell_type": "markdown",
   "metadata": {},
   "source": [
    "On fait la verification si les valeurs trouvées dans l'histogramme `n_valeurs` sont les mêmes que celles calculées avec la fonction `calcul_frequence()`"
   ]
  },
  {
   "cell_type": "code",
   "execution_count": 7,
   "metadata": {},
   "outputs": [
    {
     "name": "stdout",
     "output_type": "stream",
     "text": [
      "[ True  True  True  True  True  True]\n"
     ]
    }
   ],
   "source": [
    "print(calcul_frequence(valeurs) == n_valeurs)"
   ]
  },
  {
   "attachments": {},
   "cell_type": "markdown",
   "metadata": {},
   "source": [
    "On calcule les écart entre la frequence et la probabilité attendue $p=\\frac{1}{6}$"
   ]
  },
  {
   "cell_type": "code",
   "execution_count": 8,
   "metadata": {},
   "outputs": [
    {
     "name": "stdout",
     "output_type": "stream",
     "text": [
      "Frequence écart-type [0.007, 0.007, 0.033, 0.047, 0.033, 0.007]\n",
      "Moyenne des écarts: 0.022\n"
     ]
    }
   ],
   "source": [
    "def calcul_ecart_valeurs_frequence(valeurs):\n",
    "    \"\"\"\n",
    "    Calcul de l'écart entre la fréquence et la probabilité attendue\n",
    "    \"\"\"\n",
    "    ecart = []\n",
    "    p = 1 / 6 # probabilité attendue\n",
    "    for i in range(6):\n",
    "        ecart.append(np.abs(calcul_frequence(valeurs)[i] - p))\n",
    "    return ecart\n",
    "\n",
    "## On calcule la moyenne des écarts\n",
    "def moyenne_ecarts_valeurs_frequence(valeurs):\n",
    "    \"\"\"\n",
    "    Calcul de la moyenne des écarts\n",
    "    \"\"\"\n",
    "    ecart = calcul_ecart_valeurs_frequence(valeurs)\n",
    "    moyenne = 0\n",
    "    for num in ecart:\n",
    "        moyenne += num\n",
    "    return moyenne / len(ecart)\n",
    "\n",
    "ecarts = [round(num, 3) for num in calcul_ecart_valeurs_frequence(valeurs)]\n",
    "print(\"Frequence écart-type\", str(ecarts) )\n",
    "print(\"Moyenne des écarts: {:.3f}\".format(moyenne_ecarts_valeurs_frequence(valeurs)))"
   ]
  },
  {
   "attachments": {},
   "cell_type": "markdown",
   "metadata": {},
   "source": [
    "Lorsque la probabilité d'obtenir le même résultat pour chaque valeur n'est pas la même, on dit que le dé est pipé."
   ]
  },
  {
   "attachments": {},
   "cell_type": "markdown",
   "metadata": {},
   "source": [
    "## 2. Génération de tirage d'un dé"
   ]
  },
  {
   "attachments": {},
   "cell_type": "markdown",
   "metadata": {},
   "source": [
    "### 2.1. Tirage de dé avec `random`"
   ]
  },
  {
   "cell_type": "code",
   "execution_count": 9,
   "metadata": {},
   "outputs": [],
   "source": [
    "import random"
   ]
  },
  {
   "cell_type": "code",
   "execution_count": 19,
   "metadata": {},
   "outputs": [],
   "source": [
    "def create_liste(N):\n",
    "    \"\"\"\n",
    "    Création d'une liste de N valeurs aléatoires entre 0 et 1\n",
    "    Retourne la liste\n",
    "    \"\"\"\n",
    "    liste = []\n",
    "    for i in range(0, N):\n",
    "        liste.append(random.uniform(0, 1))\n",
    "    return liste\n",
    "\n",
    "def calcul_frequence_apparition(n, liste):\n",
    "    \"\"\"\n",
    "    Calcul de la fréquence d'apparition de chaque valeur dans une liste\n",
    "    \"\"\"\n",
    "    frequence = []\n",
    "    for i in range(6):\n",
    "        frequence.append(n[i] / len(liste))\n",
    "    return frequence\n",
    "\n",
    "def calcul_ecart_apparition(valeurs):\n",
    "    \"\"\"\n",
    "    Calcul de l'écart entre la fréquence et la probabilité attendue\n",
    "    \"\"\"\n",
    "    ecart = []\n",
    "    p = 1 / 6\n",
    "    for i in range(6):\n",
    "        ecart.append(np.abs(valeurs[i] - p))\n",
    "    return ecart\n",
    "\n",
    "def ecart_moyen_apparition(n, liste):\n",
    "    \"\"\"\n",
    "    Calcul de l'écart moyen avec la fonction \\Sigma_i = p \\sum_i^6 (f_i - p)^2\n",
    "    \"\"\"\n",
    "    ecart = []\n",
    "    p = 1 / 6\n",
    "    for i in range(6):\n",
    "        ecart.append(np.abs(calcul_frequence_apparition(n, liste)[i] - p))\n",
    "    return np.sum(ecart)\n",
    "\n",
    "def histogramme(liste, bins=6, N=1000):\n",
    "    \"\"\"\n",
    "    Affichage de l'histogramme\n",
    "    Retourne les valeurs de l'histogramme (n), les bornes des bins (bins) et les patches\n",
    "    \"\"\"\n",
    "    # On range les valeurs dans un histogramme à 6 bins\n",
    "    n, bins, patches = plt.hist(liste, bins=bins, ec=\"black\", density=True)\n",
    "    plt.title(\"Fréquence d'apparition des valeurs pour \" + str(N) + \" de lancers de dés\")\n",
    "    plt.xlabel(\"Lançage de dés\")\n",
    "    plt.ylabel(\"Frequence d'apparition\")\n",
    "    plt.show()\n",
    "    return n, bins, patches\n",
    "\n",
    "def get_hist_not_graph(liste, bins=6, N=1000):\n",
    "    \"\"\"\n",
    "    Cette fonction permet de récupérer les valeurs de l'histogramme sans afficher le graphique\n",
    "    Retourne les valeurs de l'histogramme (n), les bornes des bins (bins) et les patches\n",
    "    \"\"\"\n",
    "    # On range les valeurs dans un histogramme à 6 bins\n",
    "    n, bins, patches = plt.hist(liste, bins=bins, ec=\"black\", density=True)\n",
    "    # on ne veut pas afficher le graphique\n",
    "    plt.close()\n",
    "    return n, bins, patches"
   ]
  },
  {
   "cell_type": "code",
   "execution_count": 20,
   "metadata": {},
   "outputs": [
    {
     "data": {
      "image/png": "[encoded data removed]",
      "text/plain": [
       "<Figure size 432x288 with 1 Axes>"
      ]
     },
     "metadata": {
      "needs_background": "light"
     },
     "output_type": "display_data"
    },
    {
     "name": "stdout",
     "output_type": "stream",
     "text": [
      "Moyenne de la fréquence: 1.000e-06\n",
      "Ecart moyen: 1.000\n"
     ]
    }
   ],
   "source": [
    "N=int(1e6) # Nombre de lancers de dés\n",
    "liste = create_liste(N)\n",
    "n, bins, _ = histogramme(liste, N=N) # On range les valeurs dans un histogramme à 6 bins\n",
    "frequence = calcul_frequence_apparition(n, liste) # fréquence d'apparition\n",
    "moyenne_freq = moyenne(frequence) # moyenne de frequence\n",
    "print(\"Moyenne de la fréquence: {:.3e}\".format(moyenne_freq))\n",
    "print(\"Ecart moyen: {:.3f}\".format(ecart_moyen_apparition(n, liste)))"
   ]
  },
  {
   "attachments": {},
   "cell_type": "markdown",
   "metadata": {},
   "source": [
    "La fréquence d'apparition des valeurs est très proche visuellement l'une des autres, mais on peut voir que la fréquence n'est pas égale dans chaque bin."
   ]
  },
  {
   "cell_type": "code",
   "execution_count": 76,
   "metadata": {},
   "outputs": [
    {
     "name": "stdout",
     "output_type": "stream",
     "text": [
      "Moyenne de la fréquence: 4.609e-02\n",
      "Ecart moyen: 0.723\n"
     ]
    }
   ],
   "source": [
    "N=25\n",
    "liste = create_liste(N)\n",
    "n, bins, _ = get_hist_not_graph(liste, N=N) # calcul de l'histogramme\n",
    "frequence = calcul_frequence_apparition(n, liste) # fréquence d'apparition\n",
    "moyenne_freq = moyenne(frequence) # moyenne de frequence\n",
    "print(\"Moyenne de la fréquence: {:.3e}\".format(moyenne_freq))\n",
    "print(\"Ecart moyen: {:.3f}\".format(ecart_moyen_apparition(n, liste)))"
   ]
  },
  {
   "cell_type": "code",
   "execution_count": 77,
   "metadata": {},
   "outputs": [
    {
     "name": "stdout",
     "output_type": "stream",
     "text": [
      "Moyenne de la fréquence: 2.059e-02\n",
      "Ecart moyen: 0.876\n"
     ]
    }
   ],
   "source": [
    "N=50\n",
    "liste = create_liste(N)\n",
    "n, bins, _ = get_hist_not_graph(liste, N=N) # calcul de l'histogramme \n",
    "frequence = calcul_frequence_apparition(n, liste) # fréquence d'apparition\n",
    "moyenne_freq = moyenne(frequence) # moyenne de frequence\n",
    "print(\"Moyenne de la fréquence: {:.3e}\".format(moyenne_freq))\n",
    "print(\"Ecart moyen: {:.3f}\".format(ecart_moyen_apparition(n, liste)))"
   ]
  },
  {
   "cell_type": "code",
   "execution_count": 78,
   "metadata": {},
   "outputs": [
    {
     "name": "stdout",
     "output_type": "stream",
     "text": [
      "Moyenne de la fréquence: 1.019e-02\n",
      "Ecart moyen: 0.939\n"
     ]
    }
   ],
   "source": [
    "N=100\n",
    "liste = create_liste(N)\n",
    "n, bins, _ = get_hist_not_graph(liste, N=N) # calcul de l'histogramme \n",
    "frequence = calcul_frequence_apparition(n, liste) # fréquence d'apparition\n",
    "moyenne_freq = moyenne(frequence) # moyenne de frequence\n",
    "print(\"Moyenne de la fréquence: {:.3e}\".format(moyenne_freq))\n",
    "print(\"Ecart moyen: {:.3f}\".format(ecart_moyen_apparition(n, liste)))"
   ]
  },
  {
   "cell_type": "code",
   "execution_count": 85,
   "metadata": {},
   "outputs": [
    {
     "data": {
      "image/png": "[encoded data removed]",
      "text/plain": [
       "<Figure size 432x288 with 1 Axes>"
      ]
     },
     "metadata": {
      "needs_background": "light"
     },
     "output_type": "display_data"
    }
   ],
   "source": [
    "# Avec N from 25 to 1000000 avec steps (deux fois plus)\n",
    "# On calcule l'écart moyen et sa variation\n",
    "def ecart_moyen_variation(N):\n",
    "    \"\"\"\n",
    "    Calcul de l'écart moyen et sa variation\n",
    "    \"\"\"\n",
    "    liste = create_liste(N)\n",
    "    n, bins, _ = get_hist_not_graph(liste)\n",
    "    return ecart_moyen_apparition(n, liste)\n",
    "\n",
    "end=1000\n",
    "start=25\n",
    "step=20\n",
    "interval = end - start                     # Intervalle\n",
    "num_points = int(interval / step) + 1      # Nombre d'éléments\n",
    "N = np.arange(start, end, num_points)\n",
    "\n",
    "ecart_moyen = []\n",
    "for i in N:\n",
    "    ecart_moyen.append(ecart_moyen_variation(i))\n",
    "\n",
    "plt.plot(N, ecart_moyen)\n",
    "plt.title(\"Ecart moyen en fonction de la taille du jeu de données\")\n",
    "plt.xlabel(\"Taille du jeu de données\")\n",
    "plt.ylabel(\"Ecart moyen\")\n",
    "plt.show()    "
   ]
  },
  {
   "attachments": {},
   "cell_type": "markdown",
   "metadata": {},
   "source": [
    "D'après le graphique, on voit que l'ecart moyen tend vers `1` lorsqu'on augmente le nombre de tirages. Ce qui signifie que les fréquences d'apparition pour chaque valeur devraient se rapprocher de leur valeur attendue de manière plus précise. Cela explique pourquoi la fréquence d'apparition des valeurs est plus proche les unes des autres lorsque le nombre de tirages est plus grand."
   ]
  },
  {
   "attachments": {},
   "cell_type": "markdown",
   "metadata": {},
   "source": [
    "### 2.2. Distribution de sommes de dés"
   ]
  },
  {
   "attachments": {},
   "cell_type": "markdown",
   "metadata": {},
   "source": [
    "Maintenant, on va étudier la distribution de la somme des valeurs obtenues lors du tirage de deux dés à $N$ faces."
   ]
  },
  {
   "cell_type": "code",
   "execution_count": 141,
   "metadata": {},
   "outputs": [],
   "source": [
    "def calcul_yi(x, n):\n",
    "    \"\"\"\n",
    "    Calcul de y_i = \\sum_{j=i*n}^{(i+1)*n-1} x_i\n",
    "    Exemple: Pour une liste x = [1, 1, 2, 3, 4, 1, 1, 1], n=2\n",
    "    On fait :   y_0 = x_0 + x_1 = 1 + 1 = 2\n",
    "                y_1 = x_2 + x_3 = 2 + 3 = 5\n",
    "                y_2 = x_4 + x_5 = 4 + 1 = 5\n",
    "                y_3 = x_6 + x_7 = 1 + 1 = 3\n",
    "    Pour n=3, on peut faire la somme:\n",
    "                y_0 = x_0 + x_1 + x_2 = 1 + 1 + 2 = 4\n",
    "                y_1 = x_3 + x_4 + x_5 = 3 + 4 + 1 = 8\n",
    "                ...\n",
    "    On obtient pour n=2 : y = [2, 5, 5, 3]\n",
    "    Retourne une liste de y_i\n",
    "    \"\"\"\n",
    "    y = []\n",
    "    for i in range(0, len(x), n):\n",
    "        y.append(np.sum(x[i:i+n]))\n",
    "    return y \n",
    "\n",
    "def frequence_apparition_dans_y_i(y):\n",
    "    \"\"\"\n",
    "    On calcule la fréquence d'apparition de chaque valeur dans y_i, c'est à dire le nombre de fois qu'une valeur est répétée dans y_i\n",
    "    Exemple: y = [2, 5, 5, 3]\n",
    "    On a:    y_0 = 2, y_1 = 5, y_2 = 5, y_3 = 3\n",
    "    Alors, on retourne une liste de la même taille que y, mais avec les valeurs de fréquence d'apparition\n",
    "    On obtient: [1, 2, 2, 1]\n",
    "    Retourne une liste de fréquence d'apparition\n",
    "    \"\"\"\n",
    "    sommes = []\n",
    "    for i in range(len(y)):\n",
    "        sommes.append(y.count(y[i]))\n",
    "    return sommes\n",
    "\n",
    "def reshape_yi(listA,listB):\n",
    "    \"\"\"\n",
    "    Cette fonction permets de combiner deux listes, quand la valeur de listA est répétée, on garde juste une valeur.\n",
    "    L'objective c'est de avoir deux listes de même taille, mais avec des valeurs de y_i et la fréquence d'apparition.\n",
    "\n",
    "    Exemple: listA = [2, 2, 4, 4, 6, 6, 8, 9, 11, 12] et listB=[2, 2, 2, 2, 2, 2, 1, 1, 1, 1]. \n",
    "    # Où, listA contient les valeurs de y_i et listB contient les valeurs de fréquence d'apparition\n",
    "    On obtient: listC = [2, 4, 6, 8, 9, 11, 12] et listD = [2, 2, 2, 1, 1, 1, 1]\n",
    "    # Où, listC contient les valeurs uniques de y_i et listD contient les valeurs uniques de fréquence d'apparition\n",
    "\n",
    "    Retourne deux listes\n",
    "    \"\"\"\n",
    "    # to combine two list, when the value of listA is repeated, we just keep one value\n",
    "    listC = list(set(listA) | set(listB))\n",
    "    # remove the value of listC that are not in listA\n",
    "    listC = [i for i in listC if i in listA]\n",
    "    # get the index of the value in listA\n",
    "    listD = [listA.index(i) for i in listC]\n",
    "    # get the value of listB\n",
    "    listE = [listB[i] for i in listD]\n",
    "    return listC, listE\n"
   ]
  },
  {
   "cell_type": "code",
   "execution_count": 145,
   "metadata": {},
   "outputs": [
    {
     "data": {
      "image/png": "[encoded data removed]",
      "text/plain": [
       "<Figure size 1440x360 with 5 Axes>"
      ]
     },
     "metadata": {
      "needs_background": "light"
     },
     "output_type": "display_data"
    }
   ],
   "source": [
    "N=10000\n",
    "valeurs_n = [1, 2, 3, 10, 100]\n",
    "fig, (ax1, ax2, ax3, ax4, ax5) = plt.subplots(1, 5, figsize=(20, 5))\n",
    "axes = [ax1, ax2, ax3, ax4, ax5]\n",
    "axes[0].set_ylabel(\"Distribution de la somme\")\n",
    "\n",
    "for i in range(len(valeurs_n)):\n",
    "    n = valeurs_n[i]                                            # nombre de dés\n",
    "    x = np.random.randint(1, 7, N)                              # tirage aléatoire de N valeurs entre 1 et 6\n",
    "    y = calcul_yi(x, n)                                         # calcul de y_i\n",
    "    frequence = frequence_apparition_dans_y_i(y)                # calcul de la fréquence d'apparition de chaque valeur dans y_i\n",
    "    X,Y = reshape_yi(y,frequence)                               # on obtient les valeurs uniques de X et Y\n",
    "    axes[i].plot(X,Y,\"o-\", color=\"black\", label=\"y_i\")          # distribution\n",
    "    axes[i].axvline(x=np.mean(X), color=\"red\", label=\"Moyenne en {:.2f}\".format(np.mean(X)) , linestyle=\"--\", linewidth=.3) # moyenne droite\n",
    "    axes[i].set_title(\"n = {} dés\".format(n))\n",
    "    axes[i].set_xlabel(\"Somme\")\n",
    "    axes[i].set_ylim(0, 2000)\n",
    "    axes[i].legend()\n"
   ]
  },
  {
   "attachments": {},
   "cell_type": "markdown",
   "metadata": {},
   "source": [
    "On voit que si on jette par exemple $n=2$ dés à 6 faces, et qu'on additionne les nombres obtenus sur les deux faces supérieures, les tirages suivent une distribution de forme triangulaire. Dont la valeur le plus fréquente est `7` car les combinatios `1+6`, `2+5`, `3+4`, `4+3`, `5+2`, `6+1` sont les plus fréquentes. Cependant pour obtenir `4` ou `10` on doit faire un tirage de `1+3` ou `3+1` et `2+2` qui sont moins fréquentes.\n",
    "\n",
    "Lorsqu'on a plus des dés, la distribution de la somme des valeurs obtenues lors du tirage de deux dés à $6$ faces devient une distribution normale. C'est le cas de la distribution lorsque $n=100$ dont sa valeur plus fréquente est d'environ `350`."
   ]
  }
 ],
 "metadata": {
  "kernelspec": {
   "display_name": "base",
   "language": "python",
   "name": "python3"
  },
  "language_info": {
   "codemirror_mode": {
    "name": "ipython",
    "version": 3
   },
   "file_extension": ".py",
   "mimetype": "text/x-python",
   "name": "python",
   "nbconvert_exporter": "python",
   "pygments_lexer": "ipython3",
   "version": "3.9.5"
  },
  "orig_nbformat": 4,
  "vscode": {
   "interpreter": {
    "hash": "e3e3b631d0578064596570627667cf6d3255b0ded78241c485c6d8d72cb2b64f"
   }
  }
 },
 "nbformat": 4,
 "nbformat_minor": 2
}
